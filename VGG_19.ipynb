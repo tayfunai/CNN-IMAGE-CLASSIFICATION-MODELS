{
    "nbformat": 4,
    "nbformat_minor": 0,
    "metadata": {
      "colab": {
        "provenance": [],
        "gpuType": "T4"
      },
      "kernelspec": {
        "name": "python3",
        "display_name": "Python 3"
      },
      "language_info": {
        "name": "python"
      },
      "accelerator": "GPU",
      "widgets": {}
    },
    "cells": [
      {
        "cell_type": "markdown",
        "source": [
          "## 1. VGG-19 Image Classification on CIFAR-10"
        ],
        "metadata": {
          "id": "gEwKrWLv2TV9"
        }
      },
      {
        "cell_type": "markdown",
        "source": [
          "### 1. Imports"
        ],
        "metadata": {
          "id": "Pg76wTn92Y95"
        }
      },
      {
        "cell_type": "code",
        "execution_count": 6,
        "metadata": {
          "id": "yKTySpXQ2BF6"
        },
        "outputs": [],
        "source": [
          "import os\n",
          "import time\n",
          "\n",
          "import pandas as pd\n",
          "import numpy as np\n",
          "\n",
          "import torch\n",
          "from torch import nn\n",
          "from torch.utils.data import DataLoader\n",
          "import torch.nn.functional as F\n",
          "\n",
          "from torchvision import datasets\n",
          "from torchvision import transforms\n",
          "\n",
          "import matplotlib.pyplot as plt\n",
          "from PIL import Image"
        ]
      },
      {
        "cell_type": "markdown",
        "source": [
          "### 2. Model Settings"
        ],
        "metadata": {
          "id": "LbAmjCPm3hdz"
        }
      },
      {
        "cell_type": "code",
        "source": [
          "### SETTINGS ####\n",
          "\n",
          "# hyperparameters\n",
          "RANDOM_SEED = 1\n",
          "LEARNING_RATE = 0.001\n",
          "BATCH_SIZE = 256\n",
          "NUM_EPOCHS = 20\n",
          "\n",
          "# Architecture\n",
          "NUM_FEATURES = 32*32*3\n",
          "NUM_CLASSES = 10\n",
          "IN_CHANNELS = 3\n",
          "\n",
          "#Other\n",
          "DEVICE = \"cuda\" if torch.cuda.is_available else 'cpu'"
        ],
        "metadata": {
          "id": "bU_84Q9i3bPv"
        },
        "execution_count": 7,
        "outputs": []
      },
      {
        "cell_type": "markdown",
        "source": [
          "### 3.CIFAR-10 Dataset\n"
        ],
        "metadata": {
          "id": "YF8zSUE14_LV"
        }
      },
      {
        "cell_type": "code",
        "source": [
          "train_transform = transforms.Compose([\n",
          "    transforms.RandomHorizontalFlip(),\n",
          "    transforms.RandomCrop(32, padding=4),\n",
          "    transforms.ToTensor()\n",
          "])\n",
          "\n",
          "transform_test = transforms.Compose([\n",
          "    transforms.ToTensor()\n",
          "])"
        ],
        "metadata": {
          "id": "3JpuCSPskA7L"
        },
        "execution_count": 8,
        "outputs": []
      },
      {
        "cell_type": "code",
        "source": [
          "train_dataset = datasets.CIFAR10(\n",
          "    root='data',\n",
          "    train=True,\n",
          "    transform=train_transform,\n",
          "    download=True)\n",
          "\n",
          "test_dataset = datasets.CIFAR10(\n",
          "    root='data',\n",
          "    train=False,\n",
          "    transform=transform_test,\n",
          ")\n",
          "\n",
          "train_loader = DataLoader(\n",
          "    dataset=train_dataset,\n",
          "    batch_size=BATCH_SIZE,\n",
          "    num_workers=2,\n",
          "    shuffle=True\n",
          ")\n",
          "\n",
          "test_loader = DataLoader(\n",
          "    dataset=test_dataset,\n",
          "    batch_size=BATCH_SIZE,\n",
          "    num_workers=2,\n",
          "    shuffle=False\n",
          ")\n",
          "\n",
          "# Checking the dataset\n",
          "\n",
          "for images, labels in train_loader:\n",
          "  print(f'Images batch demension: {images.shape}')\n",
          "  print(f'Labels batch demension: {labels.shape}')\n",
          "  break\n",
          "\n",
          "for images, labels in test_loader:\n",
          "  print(f'Images batch demension: {images.shape}')\n",
          "  print(f'Labels batch demension: {labels.shape}')\n",
          "  break"
        ],
        "metadata": {
          "colab": {
            "base_uri": "https://localhost:8080/"
          },
          "id": "gA8z9afg5z9E",
          "outputId": "7a73d27a-2c56-40e9-9b8f-fee6bc1613d7"
        },
        "execution_count": 9,
        "outputs": [
          {
            "output_type": "stream",
            "name": "stderr",
            "text": [
              "100%|██████████| 170M/170M [00:13<00:00, 13.1MB/s]\n"
            ]
          },
          {
            "output_type": "stream",
            "name": "stdout",
            "text": [
              "Images batch demension: torch.Size([256, 3, 32, 32])\n",
              "Labels batch demension: torch.Size([256])\n",
              "Images batch demension: torch.Size([256, 3, 32, 32])\n",
              "Labels batch demension: torch.Size([256])\n"
            ]
          }
        ]
      },
      {
        "cell_type": "code",
        "source": [
          "device = torch.device(DEVICE)\n",
          "\n",
          "torch.manual_seed(0)\n",
          "\n",
          "for epoch in range(2):\n",
          "  for batch_idx, (x, y) in enumerate(train_loader):\n",
          "    print('Epoch:', epoch+1, end='')\n",
          "    print(' | Batch index:', batch_idx, end='')\n",
          "    print(' | Batch size:', y.size()[0])\n",
          "    try:\n",
          "      x = x.to(device)\n",
          "      y = y.to(device)\n",
          "    except:\n",
          "      pass\n",
          "\n",
          "    break"
        ],
        "metadata": {
          "colab": {
            "base_uri": "https://localhost:8080/"
          },
          "id": "M5jV1b28590w",
          "outputId": "73f67932-c3ac-4345-aa52-6766f702bfcb"
        },
        "execution_count": 10,
        "outputs": [
          {
            "output_type": "stream",
            "name": "stdout",
            "text": [
              "Epoch: 1 | Batch index: 0 | Batch size: 256\n",
              "Epoch: 2 | Batch index: 0 | Batch size: 256\n"
            ]
          }
        ]
      },
      {
        "cell_type": "markdown",
        "source": [
          "### 4. MODEL ARCHITECTURE"
        ],
        "metadata": {
          "id": "iO5f2SUPALps"
        }
      },
      {
        "cell_type": "code",
        "source": [
          "## MODEL ##\n",
          "\n",
          "class VGG19(nn.Module):\n",
          "  def __init__(self, in_channels, num_classes):\n",
          "    super(VGG19, self).__init__()\n",
          "\n",
          "    self.in_channels = in_channels\n",
          "    self.num_classes = num_classes\n",
          "\n",
          "    self.features = nn.Sequential(\n",
          "        nn.Conv2d(in_channels, 64, kernel_size=3, stride=1, padding=1),\n",
          "        nn.BatchNorm2d(64),\n",
          "        nn.ReLU(),\n",
          "\n",
          "        nn.Conv2d(64, 64, kernel_size=3, stride=1, padding=1),\n",
          "        nn.BatchNorm2d(64),\n",
          "        nn.ReLU(),\n",
          "        nn.MaxPool2d(kernel_size=2, stride=2),\n",
          "\n",
          "        nn.Conv2d(64, 128, kernel_size=3, stride=1, padding=1),\n",
          "        nn.BatchNorm2d(128),\n",
          "        nn.ReLU(),\n",
          "\n",
          "        nn.Conv2d(128, 128, kernel_size=3, stride=1, padding=1),\n",
          "        nn.BatchNorm2d(128),\n",
          "        nn.ReLU(),\n",
          "        nn.MaxPool2d(kernel_size=2, stride=2),\n",
          "\n",
          "        nn.Conv2d(128, 256, kernel_size=3, stride=1, padding=1),\n",
          "        nn.BatchNorm2d(256),\n",
          "        nn.ReLU(),\n",
          "\n",
          "        nn.Conv2d(256, 256, kernel_size=3, stride=1, padding=1),\n",
          "        nn.BatchNorm2d(256),\n",
          "        nn.ReLU(),\n",
          "\n",
          "        nn.Conv2d(256, 256, kernel_size=3, stride=1, padding=1),\n",
          "        nn.BatchNorm2d(256),\n",
          "        nn.ReLU(),\n",
          "\n",
          "        nn.Conv2d(256, 256, kernel_size=3, stride=1, padding=1),\n",
          "        nn.BatchNorm2d(256),\n",
          "        nn.ReLU(),\n",
          "        nn.MaxPool2d(kernel_size=2, stride=2),\n",
          "\n",
          "        nn.Conv2d(256, 512, kernel_size=3, stride=1, padding=1),\n",
          "        nn.BatchNorm2d(512),\n",
          "        nn.ReLU(),\n",
          "\n",
          "        nn.Conv2d(512, 512, kernel_size=3, stride=1, padding=1),\n",
          "        nn.BatchNorm2d(512),\n",
          "        nn.ReLU(),\n",
          "\n",
          "\n",
          "        nn.Conv2d(512, 512, kernel_size=3, stride=1, padding=1),\n",
          "        nn.BatchNorm2d(512),\n",
          "        nn.ReLU(),\n",
          "\n",
          "        nn.Conv2d(512, 512, kernel_size=3, stride=1, padding=1),\n",
          "        nn.BatchNorm2d(512),\n",
          "        nn.ReLU(),\n",
          "        nn.MaxPool2d(kernel_size=2, stride=2),\n",
          "\n",
          "        nn.Conv2d(512, 512, kernel_size=3, stride=1, padding=1),\n",
          "        nn.BatchNorm2d(512),\n",
          "        nn.ReLU(),\n",
          "\n",
          "        nn.Conv2d(512, 512, kernel_size=3, stride=1, padding=1),\n",
          "        nn.BatchNorm2d(512),\n",
          "        nn.ReLU(),\n",
          "\n",
          "        nn.Conv2d(512, 512, kernel_size=3, stride=1, padding=1),\n",
          "        nn.BatchNorm2d(512),\n",
          "        nn.ReLU(),\n",
          "\n",
          "        nn.Conv2d(512, 512, kernel_size=3, stride=1, padding=1),\n",
          "        nn.BatchNorm2d(512),\n",
          "        nn.ReLU(),\n",
          "        nn.MaxPool2d(kernel_size=2, stride=2),\n",
          "    )\n",
          "\n",
          "    self.fc = nn.Sequential(\n",
          "        nn.Dropout(0.5),\n",
          "        nn.Linear(512*1*1, 4096),\n",
          "        nn.ReLU(),\n",
          "\n",
          "        nn.Dropout(0.5),\n",
          "        nn.Linear(4096, 4096),\n",
          "        nn.ReLU(),\n",
          "        nn.Linear(4096, num_classes)\n",
          "    )\n",
          "\n",
          "  def forward(self, x):\n",
          "    x = self.features(x)\n",
          "    x = x.view(x.size(0), -1)\n",
          "    logits = self.fc(x)\n",
          "    # probas = F.softmax(logits, dim=1)\n",
          "\n",
          "    return logits\n"
        ],
        "metadata": {
          "id": "rTJZsYt7_345"
        },
        "execution_count": 11,
        "outputs": []
      },
      {
        "cell_type": "markdown",
        "source": [
          "### 4. Model Training and Evaluation"
        ],
        "metadata": {
          "id": "Ew98Tq-pOaZ6"
        }
      },
      {
        "cell_type": "code",
        "source": [
          "!pip install torchinfo"
        ],
        "metadata": {
          "colab": {
            "base_uri": "https://localhost:8080/"
          },
          "id": "WrCA85DZONdN",
          "outputId": "411d7cf3-515a-436e-adf8-6b5b6abc7dbf"
        },
        "execution_count": 12,
        "outputs": [
          {
            "output_type": "stream",
            "name": "stdout",
            "text": [
              "Collecting torchinfo\n",
              "  Downloading torchinfo-1.8.0-py3-none-any.whl.metadata (21 kB)\n",
              "Downloading torchinfo-1.8.0-py3-none-any.whl (23 kB)\n",
              "Installing collected packages: torchinfo\n",
              "Successfully installed torchinfo-1.8.0\n"
            ]
          }
        ]
      },
      {
        "cell_type": "code",
        "source": [
          "from torchinfo import summary"
        ],
        "metadata": {
          "id": "5keVPolnXl1s"
        },
        "execution_count": 13,
        "outputs": []
      },
      {
        "cell_type": "markdown",
        "source": [
          "#### 4.1 Create train and test loop functions"
        ],
        "metadata": {
          "id": "S-7c3GDjaVcS"
        }
      },
      {
        "cell_type": "code",
        "source": [
          "def train_step(model: torch.nn.Module,\n",
          "               dataloader: torch.utils.data.DataLoader,\n",
          "               loss_fn: torch.nn.Module,\n",
          "               optimizer: torch.optim.Optimizer):\n",
          "\n",
          "  #Put model in train mode\n",
          "  model.train()\n",
          "  model = model.to(DEVICE)\n",
          "  # Setup train loss and train accuracy values\n",
          "  train_loss, train_acc = 0, 0\n",
          "\n",
          "  # Loop through data loader data batches\n",
          "  for batch, (X, y) in enumerate(dataloader):\n",
          "    # Send data to target device\n",
          "    X, y = X.to(DEVICE), y.to(DEVICE)\n",
          "\n",
          "    # 1. Forward pass\n",
          "    y_pred = model(X)\n",
          "\n",
          "    # 2. Calculate and accumulate loss\n",
          "    loss = loss_fn(y_pred, y)\n",
          "    train_loss += loss.item()\n",
          "\n",
          "    # 3. Optimizer zero grad\n",
          "    optimizer.zero_grad()\n",
          "\n",
          "    # 4. Loss backward\n",
          "    loss.backward()\n",
          "\n",
          "    # 5. Optimizer step\n",
          "    optimizer.step()\n",
          "\n",
          "    # Calculate and accumulate accuracy metrics accross all batches\n",
          "    y_pred_class = torch.argmax(torch.softmax(y_pred, dim=1), dim=1)\n",
          "    train_acc  += (y_pred_class == y).sum().item()/len(y_pred)\n",
          "\n",
          "  # Adjust metrics to get average loss and accuracy per batch\n",
          "  train_loss = train_loss / len(dataloader)\n",
          "  train_acc = train_acc / len(dataloader)\n",
          "  return train_loss, train_acc"
        ],
        "metadata": {
          "id": "CIE2ioEmaUIi"
        },
        "execution_count": 14,
        "outputs": []
      },
      {
        "cell_type": "code",
        "source": [
          "def test_step(\n",
          "    model: torch.nn.Module,\n",
          "    dataloader: torch.utils.data.DataLoader,\n",
          "    loss_fn: torch.nn.Module,):\n",
          "  # Put model in eval mode\n",
          "  model.eval()\n",
          "  model = model.to(DEVICE)\n",
          "  # Set up test loss and test accuracy values\n",
          "  test_loss, test_acc = 0, 0\n",
          "\n",
          "  # Turn on infernece context manager\n",
          "  with torch.inference_mode():\n",
          "    # Loop through DataLoder batches\n",
          "    for batch, (X, y) in enumerate(dataloader):\n",
          "      # Send data to target device\n",
          "      X, y = X.to(DEVICE), y.to(DEVICE)\n",
          "\n",
          "\n",
          "      # 1. Forward pass\n",
          "      test_pred_logits = model(X)\n",
          "\n",
          "      # 2. Calculate and accumulate loss\n",
          "      loss = loss_fn(test_pred_logits, y)\n",
          "      test_loss += loss.item()\n",
          "\n",
          "      # Calculate and accumulate accuracy\n",
          "      test_pred_labels = test_pred_logits.argmax(dim=1)\n",
          "      test_acc += (test_pred_labels == y).sum().item()/len(test_pred_labels)\n",
          "\n",
          "    # Adjust metrics to get avarage loss and accuracy per batch\n",
          "    test_loss = test_loss / len(dataloader)\n",
          "    test_acc = test_acc / len(dataloader)\n",
          "\n",
          "    return test_loss, test_acc\n",
          "\n"
        ],
        "metadata": {
          "id": "L5wv4LAnaUqX"
        },
        "execution_count": 15,
        "outputs": []
      },
      {
        "cell_type": "code",
        "source": [
          "# we use tqdm to add progress bar while training\n",
          "!pip install tqdm\n",
          "from tqdm.auto import tqdm"
        ],
        "metadata": {
          "colab": {
            "base_uri": "https://localhost:8080/"
          },
          "id": "bNr87qTkWAFT",
          "outputId": "c585f14d-edaa-42fd-8356-2ab2a0d62496"
        },
        "execution_count": 16,
        "outputs": [
          {
            "output_type": "stream",
            "name": "stdout",
            "text": [
              "Requirement already satisfied: tqdm in /usr/local/lib/python3.11/dist-packages (4.67.1)\n"
            ]
          }
        ]
      },
      {
        "cell_type": "code",
        "source": [
          "# Create a train() by combining train_step() and test_step()\n",
          "def train(model: torch.nn.Module,\n",
          "          train_dataloader: torch.utils.data.DataLoader,\n",
          "          test_dataloader: torch.utils.data.DataLoader,\n",
          "          loss_fn: torch.nn.Module,\n",
          "          optimizer: torch.optim.Optimizer,\n",
          "          epochs: int):\n",
          "  # 1. Create empty results dictionary\n",
          "  results = {\n",
          "      \"train_loss\": [],\n",
          "      \"train_acc\": [],\n",
          "      \"test_loss\": [],\n",
          "      \"test_acc\": []\n",
          "  }\n",
          "\n",
          "  # 2. Loop through training and teting steps for a number of epochs\n",
          "  for epoch in tqdm(range(epochs)):\n",
          "    train_loss, train_acc = train_step(model=model,\n",
          "                                       dataloader=train_dataloader,\n",
          "                                       loss_fn=loss_fn,\n",
          "                                       optimizer=optimizer)\n",
          "    test_loss, test_acc = test_step(model=model,\n",
          "                                    dataloader=test_dataloader,\n",
          "                                    loss_fn=loss_fn)\n",
          "\n",
          "    # 4. Print out what's happenin\n",
          "    print(\n",
          "        f\"Epoch: {epoch+1} | \"\n",
          "        f\"train_loss: {train_loss:.4f} | \"\n",
          "        f\"train_acc: {train_acc:.4f} | \"\n",
          "        f\"test_loss: {test_loss:.4f} | \"\n",
          "        f\"test_acc: {test_acc:.4f}\"\n",
          "    )\n",
          "\n",
          "    # 5. Update results dictionary\n",
          "    # I have to make sure all data is moved to CPU and converted to float for storage\n",
          "    results[\"train_loss\"].append(train_loss.item() if isinstance(train_loss, torch.Tensor) else train_loss)\n",
          "    results[\"train_acc\"].append(train_acc.item() if isinstance(train_acc, torch.Tensor) else train_acc)\n",
          "    results[\"test_loss\"].append(test_loss.item() if isinstance(test_loss, torch.Tensor) else test_loss)\n",
          "    results[\"test_acc\"].append(test_acc.item() if isinstance(test_acc, torch.Tensor) else test_acc)\n",
          "\n",
          "  # 6. return filled results at the end of the epoch\n",
          "  return results\n"
        ],
        "metadata": {
          "id": "Rq4nBPJpUOm-"
        },
        "execution_count": 17,
        "outputs": []
      },
      {
        "cell_type": "markdown",
        "source": [
          "#### 4.2 training and evaluating model"
        ],
        "metadata": {
          "id": "bXCq_OT0YG9E"
        }
      },
      {
        "cell_type": "code",
        "source": [
          "# Set random seeds\n",
          "torch.manual_seed(RANDOM_SEED)\n",
          "torch.cuda.manual_seed(RANDOM_SEED)\n",
          "\n",
          "# Recreate an instance of VGG19\n",
          "model = VGG19(IN_CHANNELS, NUM_CLASSES)\n",
          "\n",
          "# Move our model to target device\n",
          "model = model.to(DEVICE)\n",
          "\n",
          "# Set up loss function and optimizer\n",
          "\n",
          "optimizer = torch.optim.SGD(model.parameters(), lr=LEARNING_RATE)\n",
          "loss_fn = torch.nn.CrossEntropyLoss()\n",
          "\n",
          "# Start the timer\n",
          "from timeit import default_timer as timer\n",
          "start_time = timer()\n",
          "\n",
          "# Train model\n",
          "model_results = train(model,\n",
          "                      train_dataloader=train_loader,\n",
          "                      test_dataloader=test_loader,\n",
          "                      optimizer=optimizer,\n",
          "                      loss_fn=loss_fn,\n",
          "                      epochs=NUM_EPOCHS)\n",
          "\n",
          "# End the timer and print out how long it took\n",
          "end_time = timer()\n",
          "print(f\"Total training time: {end_time-start_time:.3f} seconds\")"
        ],
        "metadata": {
          "id": "teaOeZg6BdS3",
          "colab": {
            "base_uri": "https://localhost:8080/",
            "height": 413,
            "referenced_widgets": [
              "42df1d07c1d649c4a5a423b55d4579d7",
              "a911caf40dd34b29ac424cec9f305deb",
              "dfe73a7eb26c410cb19d69853a125f83",
              "dc8ca2f504e1401887efcd66f2410ab5",
              "1cb0a558d4cd40d1a1e2d7134768d510",
              "a35b2f63a27849bca5e216f2e7576e86",
              "083711a07354432f98b9a6bf7fc3ec10",
              "80d52a9a3c574ccba7aa1dae6b89d028",
              "13846e3dca7e413b811a15656e54a4ed",
              "f49bbc7abb4e45bb8e10711cc9f8c79f",
              "41ffd630b70f4a4e8d62153ba4982679"
            ]
          },
          "outputId": "346713a8-103a-4c74-8573-81296eaa89d5"
        },
        "execution_count": 18,
        "outputs": [
          {
            "output_type": "display_data",
            "data": {
              "text/plain": [
                "  0%|          | 0/20 [00:00<?, ?it/s]"
              ],
              "application/vnd.jupyter.widget-view+json": {
                "version_major": 2,
                "version_minor": 0,
                "model_id": "42df1d07c1d649c4a5a423b55d4579d7"
              }
            },
            "metadata": {}
          },
          {
            "output_type": "stream",
            "name": "stdout",
            "text": [
              "Epoch: 1 | train_loss: 2.2926 | train_acc: 0.1221 | test_loss: 2.2314 | test_acc: 0.1951\n",
              "Epoch: 2 | train_loss: 2.1964 | train_acc: 0.1770 | test_loss: 2.0672 | test_acc: 0.2087\n",
              "Epoch: 3 | train_loss: 2.0435 | train_acc: 0.2164 | test_loss: 1.9023 | test_acc: 0.2554\n",
              "Epoch: 4 | train_loss: 1.9086 | train_acc: 0.2532 | test_loss: 1.7913 | test_acc: 0.2858\n",
              "Epoch: 5 | train_loss: 1.8142 | train_acc: 0.2779 | test_loss: 1.7130 | test_acc: 0.3293\n",
              "Epoch: 6 | train_loss: 1.7456 | train_acc: 0.3070 | test_loss: 1.6976 | test_acc: 0.3519\n",
              "Epoch: 7 | train_loss: 1.6823 | train_acc: 0.3373 | test_loss: 1.6340 | test_acc: 0.3772\n",
              "Epoch: 8 | train_loss: 1.6285 | train_acc: 0.3662 | test_loss: 1.5424 | test_acc: 0.3955\n",
              "Epoch: 9 | train_loss: 1.5682 | train_acc: 0.3903 | test_loss: 1.6341 | test_acc: 0.3924\n",
              "Epoch: 10 | train_loss: 1.5134 | train_acc: 0.4177 | test_loss: 1.4213 | test_acc: 0.4540\n",
              "Epoch: 11 | train_loss: 1.4620 | train_acc: 0.4431 | test_loss: 1.4100 | test_acc: 0.4651\n",
              "Epoch: 12 | train_loss: 1.4096 | train_acc: 0.4669 | test_loss: 1.3502 | test_acc: 0.4959\n",
              "Epoch: 13 | train_loss: 1.3652 | train_acc: 0.4890 | test_loss: 1.3531 | test_acc: 0.5010\n",
              "Epoch: 14 | train_loss: 1.3178 | train_acc: 0.5095 | test_loss: 1.3680 | test_acc: 0.5057\n",
              "Epoch: 15 | train_loss: 1.2773 | train_acc: 0.5297 | test_loss: 1.4034 | test_acc: 0.5182\n",
              "Epoch: 16 | train_loss: 1.2384 | train_acc: 0.5447 | test_loss: 1.1918 | test_acc: 0.5645\n",
              "Epoch: 17 | train_loss: 1.2044 | train_acc: 0.5597 | test_loss: 1.2500 | test_acc: 0.5536\n",
              "Epoch: 18 | train_loss: 1.1683 | train_acc: 0.5748 | test_loss: 1.1263 | test_acc: 0.5921\n",
              "Epoch: 19 | train_loss: 1.1391 | train_acc: 0.5870 | test_loss: 1.1482 | test_acc: 0.5920\n",
              "Epoch: 20 | train_loss: 1.1031 | train_acc: 0.6015 | test_loss: 1.1552 | test_acc: 0.6021\n",
              "Total training time: 624.140 seconds\n"
            ]
          }
        ]
      },
      {
        "cell_type": "code",
        "source": [
          "model"
        ],
        "metadata": {
          "colab": {
            "base_uri": "https://localhost:8080/"
          },
          "id": "93mbnFj7vhdy",
          "outputId": "ed1073db-a93d-4cf3-ca98-15c22d70420e"
        },
        "execution_count": 19,
        "outputs": [
          {
            "output_type": "execute_result",
            "data": {
              "text/plain": [
                "VGG19(\n",
                "  (features): Sequential(\n",
                "    (0): Conv2d(3, 64, kernel_size=(3, 3), stride=(1, 1), padding=(1, 1))\n",
                "    (1): BatchNorm2d(64, eps=1e-05, momentum=0.1, affine=True, track_running_stats=True)\n",
                "    (2): ReLU()\n",
                "    (3): Conv2d(64, 64, kernel_size=(3, 3), stride=(1, 1), padding=(1, 1))\n",
                "    (4): BatchNorm2d(64, eps=1e-05, momentum=0.1, affine=True, track_running_stats=True)\n",
                "    (5): ReLU()\n",
                "    (6): MaxPool2d(kernel_size=2, stride=2, padding=0, dilation=1, ceil_mode=False)\n",
                "    (7): Conv2d(64, 128, kernel_size=(3, 3), stride=(1, 1), padding=(1, 1))\n",
                "    (8): BatchNorm2d(128, eps=1e-05, momentum=0.1, affine=True, track_running_stats=True)\n",
                "    (9): ReLU()\n",
                "    (10): Conv2d(128, 128, kernel_size=(3, 3), stride=(1, 1), padding=(1, 1))\n",
                "    (11): BatchNorm2d(128, eps=1e-05, momentum=0.1, affine=True, track_running_stats=True)\n",
                "    (12): ReLU()\n",
                "    (13): MaxPool2d(kernel_size=2, stride=2, padding=0, dilation=1, ceil_mode=False)\n",
                "    (14): Conv2d(128, 256, kernel_size=(3, 3), stride=(1, 1), padding=(1, 1))\n",
                "    (15): BatchNorm2d(256, eps=1e-05, momentum=0.1, affine=True, track_running_stats=True)\n",
                "    (16): ReLU()\n",
                "    (17): Conv2d(256, 256, kernel_size=(3, 3), stride=(1, 1), padding=(1, 1))\n",
                "    (18): BatchNorm2d(256, eps=1e-05, momentum=0.1, affine=True, track_running_stats=True)\n",
                "    (19): ReLU()\n",
                "    (20): Conv2d(256, 256, kernel_size=(3, 3), stride=(1, 1), padding=(1, 1))\n",
                "    (21): BatchNorm2d(256, eps=1e-05, momentum=0.1, affine=True, track_running_stats=True)\n",
                "    (22): ReLU()\n",
                "    (23): Conv2d(256, 256, kernel_size=(3, 3), stride=(1, 1), padding=(1, 1))\n",
                "    (24): BatchNorm2d(256, eps=1e-05, momentum=0.1, affine=True, track_running_stats=True)\n",
                "    (25): ReLU()\n",
                "    (26): MaxPool2d(kernel_size=2, stride=2, padding=0, dilation=1, ceil_mode=False)\n",
                "    (27): Conv2d(256, 512, kernel_size=(3, 3), stride=(1, 1), padding=(1, 1))\n",
                "    (28): BatchNorm2d(512, eps=1e-05, momentum=0.1, affine=True, track_running_stats=True)\n",
                "    (29): ReLU()\n",
                "    (30): Conv2d(512, 512, kernel_size=(3, 3), stride=(1, 1), padding=(1, 1))\n",
                "    (31): BatchNorm2d(512, eps=1e-05, momentum=0.1, affine=True, track_running_stats=True)\n",
                "    (32): ReLU()\n",
                "    (33): Conv2d(512, 512, kernel_size=(3, 3), stride=(1, 1), padding=(1, 1))\n",
                "    (34): BatchNorm2d(512, eps=1e-05, momentum=0.1, affine=True, track_running_stats=True)\n",
                "    (35): ReLU()\n",
                "    (36): Conv2d(512, 512, kernel_size=(3, 3), stride=(1, 1), padding=(1, 1))\n",
                "    (37): BatchNorm2d(512, eps=1e-05, momentum=0.1, affine=True, track_running_stats=True)\n",
                "    (38): ReLU()\n",
                "    (39): MaxPool2d(kernel_size=2, stride=2, padding=0, dilation=1, ceil_mode=False)\n",
                "    (40): Conv2d(512, 512, kernel_size=(3, 3), stride=(1, 1), padding=(1, 1))\n",
                "    (41): BatchNorm2d(512, eps=1e-05, momentum=0.1, affine=True, track_running_stats=True)\n",
                "    (42): ReLU()\n",
                "    (43): Conv2d(512, 512, kernel_size=(3, 3), stride=(1, 1), padding=(1, 1))\n",
                "    (44): BatchNorm2d(512, eps=1e-05, momentum=0.1, affine=True, track_running_stats=True)\n",
                "    (45): ReLU()\n",
                "    (46): Conv2d(512, 512, kernel_size=(3, 3), stride=(1, 1), padding=(1, 1))\n",
                "    (47): BatchNorm2d(512, eps=1e-05, momentum=0.1, affine=True, track_running_stats=True)\n",
                "    (48): ReLU()\n",
                "    (49): Conv2d(512, 512, kernel_size=(3, 3), stride=(1, 1), padding=(1, 1))\n",
                "    (50): BatchNorm2d(512, eps=1e-05, momentum=0.1, affine=True, track_running_stats=True)\n",
                "    (51): ReLU()\n",
                "    (52): MaxPool2d(kernel_size=2, stride=2, padding=0, dilation=1, ceil_mode=False)\n",
                "  )\n",
                "  (fc): Sequential(\n",
                "    (0): Dropout(p=0.5, inplace=False)\n",
                "    (1): Linear(in_features=512, out_features=4096, bias=True)\n",
                "    (2): ReLU()\n",
                "    (3): Dropout(p=0.5, inplace=False)\n",
                "    (4): Linear(in_features=4096, out_features=4096, bias=True)\n",
                "    (5): ReLU()\n",
                "    (6): Linear(in_features=4096, out_features=10, bias=True)\n",
                "  )\n",
                ")"
              ]
            },
            "metadata": {},
            "execution_count": 19
          }
        ]
      },
      {
        "cell_type": "markdown",
        "source": [
          "### 5. Plot the loss curves of Model"
        ],
        "metadata": {
          "id": "HZBLh_IS5G-v"
        }
      },
      {
        "cell_type": "code",
        "source": [
          "model_results.keys()"
        ],
        "metadata": {
          "colab": {
            "base_uri": "https://localhost:8080/"
          },
          "id": "tvf6BrVN4_xv",
          "outputId": "afc64015-ddc3-4d1a-d553-0e6159fa45b4"
        },
        "execution_count": 20,
        "outputs": [
          {
            "output_type": "execute_result",
            "data": {
              "text/plain": [
                "dict_keys(['train_loss', 'train_acc', 'test_loss', 'test_acc'])"
              ]
            },
            "metadata": {},
            "execution_count": 20
          }
        ]
      },
      {
        "cell_type": "code",
        "source": [
          "from typing import Tuple, Dict, List\n",
          "\n",
          "def plot_loss_curves(results: Dict[str, List[float]]):\n",
          "\n",
          "  # Get the loss values of reults dictionary (training and test)\n",
          "  loss = results['train_loss']\n",
          "  test_loss = results['test_loss']\n",
          "\n",
          "  # Get the accuracy values of the results dictionary (training and test)\n",
          "  accuracy = results['train_acc']\n",
          "  test_accuracy = results['test_acc']\n",
          "\n",
          "  # Figure out how many epochs there were\n",
          "  epochs = range(len(results['train_loss']))\n",
          "\n",
          "  # Setup a plot\n",
          "  plt.figure(figsize=(15,7))\n",
          "\n",
          "  # Plot loss\n",
          "  plt.subplot(1, 2, 1)\n",
          "  plt.plot(epochs, loss, label='train_loss')\n",
          "  plt.plot(epochs, test_loss, label='test_loss')\n",
          "  plt.title('Loss')\n",
          "  plt.xlabel('Epochs')\n",
          "  plt.legend()\n",
          "\n",
          "  # Plot Accuracy\n",
          "  plt.subplot(1, 2, 2)\n",
          "  plt.plot(epochs, accuracy, label='train_accuracy')\n",
          "  plt.plot(epochs, test_accuracy, label='train_accuracy')\n",
          "  plt.title('Accuracy')\n",
          "  plt.xlabel('Epochs')\n",
          "  plt.legend();"
        ],
        "metadata": {
          "id": "bT4EnCXI5PRr"
        },
        "execution_count": 21,
        "outputs": []
      },
      {
        "cell_type": "code",
        "source": [
          "plot_loss_curves(model_results)"
        ],
        "metadata": {
          "colab": {
            "base_uri": "https://localhost:8080/",
            "height": 457
          },
          "id": "FpaDVDnB6v6V",
          "outputId": "c221c2f8-b31e-489d-98b7-5f257694c39f"
        },
        "execution_count": 22,
        "outputs": [
          {
            "output_type": "display_data",
            "data": {
              "text/plain": [
                "<Figure size 1500x700 with 2 Axes>"
              ],
              "image/png": "[encoded data removed]"
            },
            "metadata": {}
          }
        ]
      },
      {
        "cell_type": "code",
        "source": [
          "import os\n",
          "\n",
          "# Define your path\n",
          "save_path = '/content/models_chest_xray/VGG19_tuned_state_dict.pth'\n",
          "\n",
          "# Create directory if it doesn't exist\n",
          "os.makedirs(os.path.dirname(save_path), exist_ok=True)\n",
          "\n",
          "# Save the model\n",
          "torch.save(model.state_dict(), save_path)\n"
        ],
        "metadata": {
          "id": "IsTZxw7p51FE"
        },
        "execution_count": 23,
        "outputs": []
      },
      {
        "cell_type": "code",
        "source": [
          "save_path_model = '/content/models_chest_xray/VGG19_tuned.pth'\n",
          "# Create directory if it doesn't exist\n",
          "os.makedirs(os.path.dirname(save_path_model), exist_ok=True)\n",
          "torch.save(model, save_path_model)\n"
        ],
        "metadata": {
          "id": "NOmtNLu66w_C"
        },
        "execution_count": 24,
        "outputs": []
      },
      {
        "cell_type": "code",
        "source": [
          "!zip -r my_models.zip /content/models_chest_xray\n"
        ],
        "metadata": {
          "colab": {
            "base_uri": "https://localhost:8080/"
          },
          "id": "A5qMukkC6Mbc",
          "outputId": "9dea7f7b-f45f-48c9-92ff-3881e67b5a01"
        },
        "execution_count": 25,
        "outputs": [
          {
            "output_type": "stream",
            "name": "stdout",
            "text": [
              "  adding: content/models_chest_xray/ (stored 0%)\n",
              "  adding: content/models_chest_xray/VGG19_tuned_state_dict.pth (deflated 8%)\n",
              "  adding: content/models_chest_xray/VGG19_tuned.pth (deflated 8%)\n"
            ]
          }
        ]
      },
      {
        "cell_type": "code",
        "source": [
          "from google.colab import files\n",
          "files.download(\"my_models.zip\")\n"
        ],
        "metadata": {
          "colab": {
            "base_uri": "https://localhost:8080/",
            "height": 34
          },
          "id": "ZAunX4be6VUw",
          "outputId": "7966c6ab-fc74-46f4-ec15-8c0f4054a843"
        },
        "execution_count": 26,
        "outputs": [
          {
            "output_type": "display_data",
            "data": {
              "text/plain": [
                "<IPython.core.display.Javascript object>"
              ],
              "application/javascript": [
                "\n",
                "    async function download(id, filename, size) {\n",
                "      if (!google.colab.kernel.accessAllowed) {\n",
                "        return;\n",
                "      }\n",
                "      const div = document.createElement('div');\n",
                "      const label = document.createElement('label');\n",
                "      label.textContent = `Downloading \"${filename}\": `;\n",
                "      div.appendChild(label);\n",
                "      const progress = document.createElement('progress');\n",
                "      progress.max = size;\n",
                "      div.appendChild(progress);\n",
                "      document.body.appendChild(div);\n",
                "\n",
                "      const buffers = [];\n",
                "      let downloaded = 0;\n",
                "\n",
                "      const channel = await google.colab.kernel.comms.open(id);\n",
                "      // Send a message to notify the kernel that we're ready.\n",
                "      channel.send({})\n",
                "\n",
                "      for await (const message of channel.messages) {\n",
                "        // Send a message to notify the kernel that we're ready.\n",
                "        channel.send({})\n",
                "        if (message.buffers) {\n",
                "          for (const buffer of message.buffers) {\n",
                "            buffers.push(buffer);\n",
                "            downloaded += buffer.byteLength;\n",
                "            progress.value = downloaded;\n",
                "          }\n",
                "        }\n",
                "      }\n",
                "      const blob = new Blob(buffers, {type: 'application/binary'});\n",
                "      const a = document.createElement('a');\n",
                "      a.href = window.URL.createObjectURL(blob);\n",
                "      a.download = filename;\n",
                "      div.appendChild(a);\n",
                "      a.click();\n",
                "      div.remove();\n",
                "    }\n",
                "  "
              ]
            },
            "metadata": {}
          },
          {
            "output_type": "display_data",
            "data": {
              "text/plain": [
                "<IPython.core.display.Javascript object>"
              ],
              "application/javascript": [
                "download(\"download_281e7772-90f4-48d4-8607-8c0fcc60ce94\", \"my_models.zip\", 287628126)"
              ]
            },
            "metadata": {}
          }
        ]
      },
      {
        "cell_type": "code",
        "source": [
          "torch.save(model, save_path_model)\n"
        ],
        "metadata": {
          "id": "5c2Jjr0g2aHP"
        },
        "execution_count": 27,
        "outputs": []
      },
      {
        "cell_type": "markdown",
        "source": [
          "## 2. Image Classification with VGG19 onChest X-Ray Images (Pneumonia) dataset"
        ],
        "metadata": {
          "id": "eHb9Th0G4Jzs"
        }
      },
      {
        "cell_type": "markdown",
        "source": [
          "### 0. MODEL SETTINGS"
        ],
        "metadata": {
          "id": "IhqoGnG8KscZ"
        }
      },
      {
        "cell_type": "code",
        "source": [
          "### SETTINGS ###\n",
          "#Hyperparameter\n",
          "import torch\n",
          "LEARNING_RATE = 0.001\n",
          "NUM_EPOCHS = 20\n",
          "BATCH_SIZE = 64\n",
          "\n",
          "# Architecture\n",
          "NUM_CLASSES = 2\n",
          "IN_CHANNELS = 3\n",
          "\n",
          "# Other\n",
          "DEVICE = 'cuda' if torch.cuda.is_available() else 'cpu'\n",
          "RANDOM_SEED = 42"
        ],
        "metadata": {
          "id": "kOuc7sOcKqNT"
        },
        "execution_count": 28,
        "outputs": []
      },
      {
        "cell_type": "markdown",
        "source": [
          "### 1 Downloading dataset into chest_xray folder"
        ],
        "metadata": {
          "id": "Ctc5Q8kSD_O_"
        }
      },
      {
        "cell_type": "markdown",
        "source": [
          "You can find dataset from following link\n",
          "https://www.kaggle.com/datasets/paultimothymooney/chest-xray-pneumonia?resource=download"
        ],
        "metadata": {
          "id": "Zer63y2k7Zjl"
        }
      },
      {
        "cell_type": "code",
        "source": [
          "from google.colab import files\n",
          "files.upload()  # Upload the kaggle.json file here\n"
        ],
        "metadata": {
          "colab": {
            "base_uri": "https://localhost:8080/",
            "height": 90
          },
          "id": "C65kNtKt64qS",
          "outputId": "48de707e-f172-4a66-908b-3ba9029aa452"
        },
        "execution_count": 29,
        "outputs": [
          {
            "output_type": "display_data",
            "data": {
              "text/plain": [
                "<IPython.core.display.HTML object>"
              ],
              "text/html": [
                "\n",
                "     <input type=\"file\" id=\"files-1f27ee77-6f16-41ce-a0ec-912ad6f0b879\" name=\"files[]\" multiple disabled\n",
                "        style=\"border:none\" />\n",
                "     <output id=\"result-1f27ee77-6f16-41ce-a0ec-912ad6f0b879\">\n",
                "      Upload widget is only available when the cell has been executed in the\n",
                "      current browser session. Please rerun this cell to enable.\n",
                "      </output>\n",
                "      <script>// Copyright 2017 Google LLC\n",
                "//\n",
                "// Licensed under the Apache License, Version 2.0 (the \"License\");\n",
                "// you may not use this file except in compliance with the License.\n",
                "// You may obtain a copy of the License at\n",
                "//\n",
                "//      http://www.apache.org/licenses/LICENSE-2.0\n",
                "//\n",
                "// Unless required by applicable law or agreed to in writing, software\n",
                "// distributed under the License is distributed on an \"AS IS\" BASIS,\n",
                "// WITHOUT WARRANTIES OR CONDITIONS OF ANY KIND, either express or implied.\n",
                "// See the License for the specific language governing permissions and\n",
                "// limitations under the License.\n",
                "\n",
                "/**\n",
                " * @fileoverview Helpers for google.colab Python module.\n",
                " */\n",
                "(function(scope) {\n",
                "function span(text, styleAttributes = {}) {\n",
                "  const element = document.createElement('span');\n",
                "  element.textContent = text;\n",
                "  for (const key of Object.keys(styleAttributes)) {\n",
                "    element.style[key] = styleAttributes[key];\n",
                "  }\n",
                "  return element;\n",
                "}\n",
                "\n",
                "// Max number of bytes which will be uploaded at a time.\n",
                "const MAX_PAYLOAD_SIZE = 100 * 1024;\n",
                "\n",
                "function _uploadFiles(inputId, outputId) {\n",
                "  const steps = uploadFilesStep(inputId, outputId);\n",
                "  const outputElement = document.getElementById(outputId);\n",
                "  // Cache steps on the outputElement to make it available for the next call\n",
                "  // to uploadFilesContinue from Python.\n",
                "  outputElement.steps = steps;\n",
                "\n",
                "  return _uploadFilesContinue(outputId);\n",
                "}\n",
                "\n",
                "// This is roughly an async generator (not supported in the browser yet),\n",
                "// where there are multiple asynchronous steps and the Python side is going\n",
                "// to poll for completion of each step.\n",
                "// This uses a Promise to block the python side on completion of each step,\n",
                "// then passes the result of the previous step as the input to the next step.\n",
                "function _uploadFilesContinue(outputId) {\n",
                "  const outputElement = document.getElementById(outputId);\n",
                "  const steps = outputElement.steps;\n",
                "\n",
                "  const next = steps.next(outputElement.lastPromiseValue);\n",
                "  return Promise.resolve(next.value.promise).then((value) => {\n",
                "    // Cache the last promise value to make it available to the next\n",
                "    // step of the generator.\n",
                "    outputElement.lastPromiseValue = value;\n",
                "    return next.value.response;\n",
                "  });\n",
                "}\n",
                "\n",
                "/**\n",
                " * Generator function which is called between each async step of the upload\n",
                " * process.\n",
                " * @param {string} inputId Element ID of the input file picker element.\n",
                " * @param {string} outputId Element ID of the output display.\n",
                " * @return {!Iterable<!Object>} Iterable of next steps.\n",
                " */\n",
                "function* uploadFilesStep(inputId, outputId) {\n",
                "  const inputElement = document.getElementById(inputId);\n",
                "  inputElement.disabled = false;\n",
                "\n",
                "  const outputElement = document.getElementById(outputId);\n",
                "  outputElement.innerHTML = '';\n",
                "\n",
                "  const pickedPromise = new Promise((resolve) => {\n",
                "    inputElement.addEventListener('change', (e) => {\n",
                "      resolve(e.target.files);\n",
                "    });\n",
                "  });\n",
                "\n",
                "  const cancel = document.createElement('button');\n",
                "  inputElement.parentElement.appendChild(cancel);\n",
                "  cancel.textContent = 'Cancel upload';\n",
                "  const cancelPromise = new Promise((resolve) => {\n",
                "    cancel.onclick = () => {\n",
                "      resolve(null);\n",
                "    };\n",
                "  });\n",
                "\n",
                "  // Wait for the user to pick the files.\n",
                "  const files = yield {\n",
                "    promise: Promise.race([pickedPromise, cancelPromise]),\n",
                "    response: {\n",
                "      action: 'starting',\n",
                "    }\n",
                "  };\n",
                "\n",
                "  cancel.remove();\n",
                "\n",
                "  // Disable the input element since further picks are not allowed.\n",
                "  inputElement.disabled = true;\n",
                "\n",
                "  if (!files) {\n",
                "    return {\n",
                "      response: {\n",
                "        action: 'complete',\n",
                "      }\n",
                "    };\n",
                "  }\n",
                "\n",
                "  for (const file of files) {\n",
                "    const li = document.createElement('li');\n",
                "    li.append(span(file.name, {fontWeight: 'bold'}));\n",
                "    li.append(span(\n",
                "        `(${file.type || 'n/a'}) - ${file.size} bytes, ` +\n",
                "        `last modified: ${\n",
                "            file.lastModifiedDate ? file.lastModifiedDate.toLocaleDateString() :\n",
                "                                    'n/a'} - `));\n",
                "    const percent = span('0% done');\n",
                "    li.appendChild(percent);\n",
                "\n",
                "    outputElement.appendChild(li);\n",
                "\n",
                "    const fileDataPromise = new Promise((resolve) => {\n",
                "      const reader = new FileReader();\n",
                "      reader.onload = (e) => {\n",
                "        resolve(e.target.result);\n",
                "      };\n",
                "      reader.readAsArrayBuffer(file);\n",
                "    });\n",
                "    // Wait for the data to be ready.\n",
                "    let fileData = yield {\n",
                "      promise: fileDataPromise,\n",
                "      response: {\n",
                "        action: 'continue',\n",
                "      }\n",
                "    };\n",
                "\n",
                "    // Use a chunked sending to avoid message size limits. See b/62115660.\n",
                "    let position = 0;\n",
                "    do {\n",
                "      const length = Math.min(fileData.byteLength - position, MAX_PAYLOAD_SIZE);\n",
                "      const chunk = new Uint8Array(fileData, position, length);\n",
                "      position += length;\n",
                "\n",
                "      const base64 = btoa(String.fromCharCode.apply(null, chunk));\n",
                "      yield {\n",
                "        response: {\n",
                "          action: 'append',\n",
                "          file: file.name,\n",
                "          data: base64,\n",
                "        },\n",
                "      };\n",
                "\n",
                "      let percentDone = fileData.byteLength === 0 ?\n",
                "          100 :\n",
                "          Math.round((position / fileData.byteLength) * 100);\n",
                "      percent.textContent = `${percentDone}% done`;\n",
                "\n",
                "    } while (position < fileData.byteLength);\n",
                "  }\n",
                "\n",
                "  // All done.\n",
                "  yield {\n",
                "    response: {\n",
                "      action: 'complete',\n",
                "    }\n",
                "  };\n",
                "}\n",
                "\n",
                "scope.google = scope.google || {};\n",
                "scope.google.colab = scope.google.colab || {};\n",
                "scope.google.colab._files = {\n",
                "  _uploadFiles,\n",
                "  _uploadFilesContinue,\n",
                "};\n",
                "})(self);\n",
                "</script> "
              ]
            },
            "metadata": {}
          },
          {
            "output_type": "stream",
            "name": "stdout",
            "text": [
              "Saving kaggle.json to kaggle.json\n"
            ]
          },
          {
            "output_type": "execute_result",
            "data": {
              "text/plain": [
                "{'kaggle.json': b'{\"username\":\"tayfun777\",\"key\":\"c2fde40ae8ecc583a03e4f993ccbc716\"}'}"
              ]
            },
            "metadata": {},
            "execution_count": 29
          }
        ]
      },
      {
        "cell_type": "code",
        "source": [
          "!mkdir -p ~/.kaggle\n",
          "!mv kaggle.json ~/.kaggle/\n",
          "!chmod 600 ~/.kaggle/kaggle.json\n"
        ],
        "metadata": {
          "id": "SV8YBA0kA_W6"
        },
        "execution_count": 30,
        "outputs": []
      },
      {
        "cell_type": "code",
        "source": [
          "!pip install -q kaggle\n"
        ],
        "metadata": {
          "id": "1k2_7LfaBJCB"
        },
        "execution_count": 31,
        "outputs": []
      },
      {
        "cell_type": "code",
        "source": [
          "!kaggle datasets download -d paultimothymooney/chest-xray-pneumonia -p /content --force"
        ],
        "metadata": {
          "colab": {
            "base_uri": "https://localhost:8080/"
          },
          "id": "QE3J996PBKTj",
          "outputId": "7d11f2f9-1839-4dac-f3c5-a911736b434b"
        },
        "execution_count": 32,
        "outputs": [
          {
            "output_type": "stream",
            "name": "stdout",
            "text": [
              "Dataset URL: https://www.kaggle.com/datasets/paultimothymooney/chest-xray-pneumonia\n",
              "License(s): other\n",
              "Downloading chest-xray-pneumonia.zip to /content\n",
              " 98% 2.25G/2.29G [00:21<00:00, 198MB/s]\n",
              "100% 2.29G/2.29G [00:21<00:00, 114MB/s]\n"
            ]
          }
        ]
      },
      {
        "cell_type": "code",
        "source": [
          "!unzip -q /content/chest-xray-pneumonia.zip -d /content/chest_xray_data"
        ],
        "metadata": {
          "id": "jwct5dQ-BVOp"
        },
        "execution_count": 33,
        "outputs": []
      },
      {
        "cell_type": "code",
        "source": [
          "%cd /content/chest_xray_data/chest_xray"
        ],
        "metadata": {
          "id": "5B6Z_pTczT1a",
          "colab": {
            "base_uri": "https://localhost:8080/"
          },
          "outputId": "328d6a1f-2e0f-4efb-d593-934227663f09"
        },
        "execution_count": 34,
        "outputs": [
          {
            "output_type": "stream",
            "name": "stdout",
            "text": [
              "/content/chest_xray_data/chest_xray\n"
            ]
          }
        ]
      },
      {
        "cell_type": "code",
        "source": [
          "%cd /content/chest_xray_data/chest_xray"
        ],
        "metadata": {
          "colab": {
            "base_uri": "https://localhost:8080/"
          },
          "id": "T9I2LDuYB4DL",
          "outputId": "8e63001c-2a00-417f-9796-8bbd84fa3004"
        },
        "execution_count": 35,
        "outputs": [
          {
            "output_type": "stream",
            "name": "stdout",
            "text": [
              "/content/chest_xray_data/chest_xray\n"
            ]
          }
        ]
      },
      {
        "cell_type": "code",
        "source": [
          "%ls"
        ],
        "metadata": {
          "colab": {
            "base_uri": "https://localhost:8080/"
          },
          "id": "JhX9Tr5bDchf",
          "outputId": "e2128b47-a91d-4d88-c26f-8e65b9a4d239"
        },
        "execution_count": 36,
        "outputs": [
          {
            "output_type": "stream",
            "name": "stdout",
            "text": [
              "\u001b[0m\u001b[01;34mchest_xray\u001b[0m/  \u001b[01;34m__MACOSX\u001b[0m/  \u001b[01;34mtest\u001b[0m/  \u001b[01;34mtrain\u001b[0m/  \u001b[01;34mval\u001b[0m/\n"
            ]
          }
        ]
      },
      {
        "cell_type": "code",
        "source": [
          "!rm -rf /content/chest_xray_data/chest_xray/__MACOSX"
        ],
        "metadata": {
          "id": "7ew_AdIlzW5p"
        },
        "execution_count": 37,
        "outputs": []
      },
      {
        "cell_type": "code",
        "source": [
          "!rm -rf /content/chest_xray_data/chest_xray/chest_xray"
        ],
        "metadata": {
          "id": "UG6ip8eEDdyu"
        },
        "execution_count": 38,
        "outputs": []
      },
      {
        "cell_type": "code",
        "source": [
          "!mv /content/chest_xray_data/chest_xray /content/"
        ],
        "metadata": {
          "id": "7LAJOmSgDiIi"
        },
        "execution_count": 39,
        "outputs": []
      },
      {
        "cell_type": "markdown",
        "source": [
          "### 2 Exploring dataset folders all images"
        ],
        "metadata": {
          "id": "THDw_T9KEFrn"
        }
      },
      {
        "cell_type": "code",
        "source": [
          "import os\n",
          "def walk_through_dir(dir_path):\n",
          "  print(dir_path)\n",
          "  for dirpath, dirnames, filnames in os.walk(dir_path):\n",
          "      print(dirpath)\n",
          "      print(f\"There are {len(dirnames)} directories and {len(filnames)} images in '{dirpath}'.\")\n"
        ],
        "metadata": {
          "id": "TsgqzRgEDr1y"
        },
        "execution_count": 40,
        "outputs": []
      },
      {
        "cell_type": "code",
        "source": [
          "walk_through_dir('/content/chest_xray')"
        ],
        "metadata": {
          "colab": {
            "base_uri": "https://localhost:8080/"
          },
          "id": "YHLrBQBrEbbC",
          "outputId": "c378e9aa-18d0-4d3c-8f72-fe2e9e05def9"
        },
        "execution_count": 41,
        "outputs": [
          {
            "output_type": "stream",
            "name": "stdout",
            "text": [
              "/content/chest_xray\n",
              "/content/chest_xray\n",
              "There are 3 directories and 0 images in '/content/chest_xray'.\n",
              "/content/chest_xray/test\n",
              "There are 2 directories and 0 images in '/content/chest_xray/test'.\n",
              "/content/chest_xray/test/NORMAL\n",
              "There are 0 directories and 234 images in '/content/chest_xray/test/NORMAL'.\n",
              "/content/chest_xray/test/PNEUMONIA\n",
              "There are 0 directories and 390 images in '/content/chest_xray/test/PNEUMONIA'.\n",
              "/content/chest_xray/train\n",
              "There are 2 directories and 0 images in '/content/chest_xray/train'.\n",
              "/content/chest_xray/train/NORMAL\n",
              "There are 0 directories and 1341 images in '/content/chest_xray/train/NORMAL'.\n",
              "/content/chest_xray/train/PNEUMONIA\n",
              "There are 0 directories and 3875 images in '/content/chest_xray/train/PNEUMONIA'.\n",
              "/content/chest_xray/val\n",
              "There are 2 directories and 0 images in '/content/chest_xray/val'.\n",
              "/content/chest_xray/val/NORMAL\n",
              "There are 0 directories and 8 images in '/content/chest_xray/val/NORMAL'.\n",
              "/content/chest_xray/val/PNEUMONIA\n",
              "There are 0 directories and 8 images in '/content/chest_xray/val/PNEUMONIA'.\n"
            ]
          }
        ]
      },
      {
        "cell_type": "code",
        "source": [
          "dir_path = '/content/chest_xray'\n",
          "train_dir =  os.path.join(dir_path, 'train')\n",
          "test_dir =  os.path.join(dir_path, 'test')\n",
          "val_dir =  os.path.join(dir_path, 'val')"
        ],
        "metadata": {
          "id": "1N2vMXzPFKgw"
        },
        "execution_count": 42,
        "outputs": []
      },
      {
        "cell_type": "code",
        "source": [
          "train_dir\n",
          "import pathlib as pathlib"
        ],
        "metadata": {
          "id": "X--bgPyXFPfR"
        },
        "execution_count": 43,
        "outputs": []
      },
      {
        "cell_type": "markdown",
        "source": [
          "### 3. Create a custom Dataset to replicate ImageFolder"
        ],
        "metadata": {
          "id": "7W03HdsiF2qy"
        }
      },
      {
        "cell_type": "code",
        "source": [
          "def find_classes(directory: str) -> Tuple[List[str], Dict[str, int]]:\n",
          "  \"\"\" finds the class folder names in a target directory\n",
          "      by scanning target directory\n",
          "  \"\"\"\n",
          "  classes = sorted(entry.name for entry in os.scandir(directory) if entry.is_dir())\n",
          "  class_to_idx = {cls_name: i for i, cls_name in enumerate(classes)}\n",
          "  return classes, class_to_idx\n"
        ],
        "metadata": {
          "id": "wq3JLQaFHA7V"
        },
        "execution_count": 44,
        "outputs": []
      },
      {
        "cell_type": "code",
        "source": [
          "# Write a custom dataset\n",
          "from torch.utils.data import Dataset\n",
          "\n",
          "# 1. Subclass a torch.utils.data.Dataset\n",
          "class ImageFolderCustom(Dataset):\n",
          "\n",
          "  # 2. Initialize our custom dataset\n",
          "  def __init__(self,\n",
          "               targ_dir: str,\n",
          "               transform=None):\n",
          "    # 3. Create class attributes\n",
          "    # Get all of the image path\n",
          "    self.paths = list(pathlib.Path(targ_dir).glob(\"*/*.jpeg\"))\n",
          "\n",
          "    # Setup transform\n",
          "    self.transform = transform\n",
          "\n",
          "    # Create classes and class_to_index attributes\n",
          "    self.classeses, self.class_to_idx = find_classes(targ_dir)\n",
          "\n",
          "  # 4. Create a function to load images\n",
          "  def load_image(self, index: int) -> Image.Image:\n",
          "    \"Opens and transforms an image into a PyTorch image\"\n",
          "    image_path = self.paths[index]\n",
          "    return Image.open(image_path)\n",
          "\n",
          "  # 5. Overwrite __len__()\n",
          "  def __len__(self) -> int:\n",
          "    return len(self.paths)\n",
          "\n",
          "  # 6. Overwrite __get_item() method to return a particular sample\n",
          "  def __getitem__(self, index: int) -> Tuple[torch.Tensor, int]:\n",
          "    img = self.load_image(index)\n",
          "    class_name = self.paths[index].parent.name\n",
          "    class_idx = self.class_to_idx[class_name]\n",
          "\n",
          "    # Transform if necessary\n",
          "    if self.transform:\n",
          "      return self.transform(img), class_idx\n",
          "    else:\n",
          "      return img, class_idx"
        ],
        "metadata": {
          "id": "GDnAjWUEFQ6v"
        },
        "execution_count": 45,
        "outputs": []
      },
      {
        "cell_type": "code",
        "source": [
          "find_classes(train_dir)"
        ],
        "metadata": {
          "colab": {
            "base_uri": "https://localhost:8080/"
          },
          "id": "PWBxqEp4Fvgk",
          "outputId": "d8ee1a81-d74c-410e-a316-c66dbbec7bbe"
        },
        "execution_count": 46,
        "outputs": [
          {
            "output_type": "execute_result",
            "data": {
              "text/plain": [
                "(['NORMAL', 'PNEUMONIA'], {'NORMAL': 0, 'PNEUMONIA': 1})"
              ]
            },
            "metadata": {},
            "execution_count": 46
          }
        ]
      },
      {
        "cell_type": "code",
        "source": [
          "# Create a transform\n",
          "\n",
          "\"\"\"\n",
          "  For data aguemntation I used the types of image transformation given\n",
          "  following research paper\n",
          "  https://pmc.ncbi.nlm.nih.gov/articles/PMC10252226/\n",
          "\"\"\"\n",
          "\n",
          "train_transforms = transforms.Compose([\n",
          "    transforms.Lambda(lambda image: image.convert(\"RGB\")),\n",
          "    transforms.Resize(size=(32,32)),\n",
          "    transforms.RandomHorizontalFlip(p=0.5),\n",
          "    transforms.RandomRotation(degrees=15),\n",
          "    transforms.RandomVerticalFlip(p=0.5),\n",
          "    transforms.ColorJitter(brightness=0.2, contrast=0.2, saturation=0.2, hue=0.2),\n",
          "    transforms.ToTensor()\n",
          "])\n",
          "\n",
          "test_transforms = transforms.Compose([\n",
          "    transforms.Lambda(lambda image: image.convert(\"RGB\")),\n",
          "    transforms.Resize(size=(32,32)),\n",
          "    transforms.ToTensor()\n",
          "])\n",
          "val_transform = transforms.Compose([\n",
          "    transforms.Lambda(lambda image: image.convert(\"RGB\")),\n",
          "    transforms.Resize(size=(32,32)),\n",
          "    transforms.ToTensor()\n",
          "])\n"
        ],
        "metadata": {
          "id": "Mv6_fijxHQYA"
        },
        "execution_count": 47,
        "outputs": []
      },
      {
        "cell_type": "code",
        "source": [
          "# Test out ImageFolderCustom\n",
          "train_data = ImageFolderCustom(train_dir, transform=train_transforms)\n",
          "test_data = ImageFolderCustom(test_dir, transform=test_transforms)\n",
          "val_data = ImageFolderCustom(val_dir, transform=val_transform)"
        ],
        "metadata": {
          "id": "LigyTkx0JDaL"
        },
        "execution_count": 48,
        "outputs": []
      },
      {
        "cell_type": "code",
        "source": [
          "len(train_data), len(test_data), len(val_data)"
        ],
        "metadata": {
          "colab": {
            "base_uri": "https://localhost:8080/"
          },
          "id": "bUf9KymGJNiA",
          "outputId": "f5790803-4c8a-437a-e4e8-b54c8e88fdb4"
        },
        "execution_count": 49,
        "outputs": [
          {
            "output_type": "execute_result",
            "data": {
              "text/plain": [
                "(5216, 624, 16)"
              ]
            },
            "metadata": {},
            "execution_count": 49
          }
        ]
      },
      {
        "cell_type": "code",
        "source": [
          "BATCH_SIZE=64\n",
          "train_loader = DataLoader(\n",
          "    train_data,\n",
          "    batch_size=BATCH_SIZE,\n",
          "    shuffle=True)\n",
          "test_loader = DataLoader(\n",
          "    test_data,\n",
          "    batch_size=BATCH_SIZE,\n",
          "    shuffle=False)\n",
          "val_loader = DataLoader(\n",
          "    val_data,\n",
          "    batch_size=BATCH_SIZE,\n",
          "    shuffle=False)"
        ],
        "metadata": {
          "id": "mrELt_QoKGCO"
        },
        "execution_count": 50,
        "outputs": []
      },
      {
        "cell_type": "code",
        "source": [
          "for batch_idx, (images, labels) in enumerate(train_loader):\n",
          "  print(images.shape, labels.shape)\n",
          "  break\n",
          "\n",
          "for batch_idx, (images, labels) in enumerate(test_loader):\n",
          "  print(images.shape, labels.shape)\n",
          "  break\n",
          "\n",
          "for batch_idx, (images, labels) in enumerate(val_loader):\n",
          "  print(images.shape, labels.shape)\n",
          "  break"
        ],
        "metadata": {
          "colab": {
            "base_uri": "https://localhost:8080/"
          },
          "id": "ASIf8n_6Kb6e",
          "outputId": "87dda021-e43a-4052-bb01-fe378278d792"
        },
        "execution_count": 51,
        "outputs": [
          {
            "output_type": "stream",
            "name": "stdout",
            "text": [
              "torch.Size([64, 3, 32, 32]) torch.Size([64])\n",
              "torch.Size([64, 3, 32, 32]) torch.Size([64])\n",
              "torch.Size([16, 3, 32, 32]) torch.Size([16])\n"
            ]
          }
        ]
      },
      {
        "cell_type": "markdown",
        "source": [
          "### 4. Model training i use pretrained VGG19 model and transfer learning"
        ],
        "metadata": {
          "id": "ErL299Q-szjy"
        }
      },
      {
        "cell_type": "code",
        "source": [
          "## SETTING UP ##\n",
          "## IMPORTS ##\n",
          "\n",
          "import os, time\n",
          "from tempfile import TemporaryDirectory\n",
          "\n",
          "import numpy as np\n",
          "import pandas as pd\n",
          "from PIL import Image\n",
          "import matplotlib.pyplot as plt\n",
          "\n",
          "import torch\n",
          "import torchvision\n",
          "import torch.nn as nn\n",
          "import torch.optim as optim\n",
          "\n",
          "from torch.optim import lr_scheduler\n",
          "from torchvision import datasets, models, transforms\n",
          "from torch.utils.data import DataLoader, random_split\n",
          "\n"
        ],
        "metadata": {
          "id": "z7LkUbF5ssy6"
        },
        "execution_count": 52,
        "outputs": []
      },
      {
        "cell_type": "code",
        "source": [
          "model = models.vgg19(pretrained=True)"
        ],
        "metadata": {
          "id": "bjbFqLtjKkz8",
          "colab": {
            "base_uri": "https://localhost:8080/"
          },
          "outputId": "25083998-8f9d-410e-ec5a-0367b573faa0"
        },
        "execution_count": 53,
        "outputs": [
          {
            "output_type": "stream",
            "name": "stderr",
            "text": [
              "/usr/local/lib/python3.11/dist-packages/torchvision/models/_utils.py:208: UserWarning: The parameter 'pretrained' is deprecated since 0.13 and may be removed in the future, please use 'weights' instead.\n",
              "  warnings.warn(\n",
              "/usr/local/lib/python3.11/dist-packages/torchvision/models/_utils.py:223: UserWarning: Arguments other than a weight enum or `None` for 'weights' are deprecated since 0.13 and may be removed in the future. The current behavior is equivalent to passing `weights=VGG19_Weights.IMAGENET1K_V1`. You can also use `weights=VGG19_Weights.DEFAULT` to get the most up-to-date weights.\n",
              "  warnings.warn(msg)\n",
              "Downloading: \"https://download.pytorch.org/models/vgg19-dcbb9e9d.pth\" to /root/.cache/torch/hub/checkpoints/vgg19-dcbb9e9d.pth\n",
              "100%|██████████| 548M/548M [00:02<00:00, 193MB/s]\n"
            ]
          }
        ]
      },
      {
        "cell_type": "code",
        "source": [
          "NUM_CLASSES = 2\n",
          "# Modify the model head for fine-tuning\n",
          "model.classifier = nn.Sequential(\n",
          "  nn.Dropout(p=0.5, inplace=False),\n",
          "  nn.Linear(in_features=512*1*1, out_features=4096, bias=True),\n",
          "  nn.ReLU(),\n",
          "  nn.Dropout(p=0.5, inplace=False),\n",
          "  nn.Linear(in_features=4096, out_features=4096, bias=True),\n",
          "  nn.ReLU(),\n",
          "  nn.Linear(in_features=4096, out_features=2, bias=True)\n",
          ")\n",
          "model.avgpool = nn.AdaptiveAvgPool2d(output_size=(1, 1))"
        ],
        "metadata": {
          "id": "b6hEplsNwZtl"
        },
        "execution_count": 54,
        "outputs": []
      },
      {
        "cell_type": "code",
        "source": [
          "# Define your optimizer with weight decay\n",
          "optimizer = optim.Adam(model.parameters(), lr=0.0001, weight_decay=0.0001)\n",
          "# Define the loss function - For classification problem\n",
          "loss_fn = nn.CrossEntropyLoss()"
        ],
        "metadata": {
          "id": "myaPg2cOxQiU"
        },
        "execution_count": 55,
        "outputs": []
      },
      {
        "cell_type": "code",
        "source": [
          "# Freeze only the convolutional layers of the pre-trained model\n",
          "for param in model.parameters():\n",
          "    if isinstance(param, nn.Conv2d):\n",
          "        param.requires_grad = False"
        ],
        "metadata": {
          "id": "ameKXiTt3SG1"
        },
        "execution_count": 56,
        "outputs": []
      },
      {
        "cell_type": "code",
        "source": [
          "DEVICE = 'cuda' if torch.cuda.is_available() else 'cpu'\n",
          "\n",
          "model = model.to(DEVICE)\n",
          "LEARNING_RATE = 0.001\n",
          "NUM_EPOCHS=30\n",
          "RANDOM_SEED = 42\n",
          "# Set random seeds\n",
          "torch.manual_seed(RANDOM_SEED)\n",
          "torch.cuda.manual_seed(RANDOM_SEED)\n",
          "\n",
          "\n",
          "\n",
          "# Start the timer\n",
          "from timeit import default_timer as timer\n",
          "start_time = timer()\n",
          "\n",
          "# Train model\n",
          "model_results = train(model,\n",
          "                      train_dataloader=train_loader,\n",
          "                      test_dataloader=test_loader,\n",
          "                      optimizer=optimizer,\n",
          "                      loss_fn=loss_fn,\n",
          "                      epochs=NUM_EPOCHS)\n",
          "\n",
          "# End the timer and print out how long it took\n",
          "end_time = timer()\n",
          "print(f\"Total training time: {end_time-start_time:.3f} seconds\")"
        ],
        "metadata": {
          "colab": {
            "base_uri": "https://localhost:8080/",
            "height": 587,
            "referenced_widgets": [
              "361d681fa6674e27a535e18b6ad9f06c",
              "efd4d89a65b14c7b88e0ad9582939fb0",
              "e6d1a29b7641496f82c53a0e19668f92",
              "ffdb8ef69a5e4f94885d32fed5f4971e",
              "2523cf0bc1cf40d288758f7c77ad8d93",
              "ab9a9b76c8ce48d085c475dbf18a2727",
              "3dfac27f8c034e5593d3e73436270ead",
              "87df628522cb483e9800cdc20c39f46c",
              "b9df3a6c957c4dadadefdc0cf33fde3e",
              "a61fa5b4c5ed4b5ca62098ba21ca4a2f",
              "43cb56800e5d43df831bbff687987ef8"
            ]
          },
          "id": "nlE6mYE83bcV",
          "outputId": "16a27509-b384-4685-a586-7ae87db86a4c"
        },
        "execution_count": 57,
        "outputs": [
          {
            "output_type": "display_data",
            "data": {
              "text/plain": [
                "  0%|          | 0/30 [00:00<?, ?it/s]"
              ],
              "application/vnd.jupyter.widget-view+json": {
                "version_major": 2,
                "version_minor": 0,
                "model_id": "361d681fa6674e27a535e18b6ad9f06c"
              }
            },
            "metadata": {}
          },
          {
            "output_type": "stream",
            "name": "stdout",
            "text": [
              "Epoch: 1 | train_loss: 0.2626 | train_acc: 0.8889 | test_loss: 0.6028 | test_acc: 0.8109\n",
              "Epoch: 2 | train_loss: 0.1326 | train_acc: 0.9514 | test_loss: 0.7856 | test_acc: 0.8068\n",
              "Epoch: 3 | train_loss: 0.1132 | train_acc: 0.9577 | test_loss: 0.8867 | test_acc: 0.7651\n",
              "Epoch: 4 | train_loss: 0.1168 | train_acc: 0.9546 | test_loss: 0.3134 | test_acc: 0.8781\n",
              "Epoch: 5 | train_loss: 0.0937 | train_acc: 0.9632 | test_loss: 0.5571 | test_acc: 0.8193\n",
              "Epoch: 6 | train_loss: 0.0813 | train_acc: 0.9697 | test_loss: 0.4663 | test_acc: 0.8214\n",
              "Epoch: 7 | train_loss: 0.0835 | train_acc: 0.9693 | test_loss: 1.4561 | test_acc: 0.7094\n",
              "Epoch: 8 | train_loss: 0.0737 | train_acc: 0.9739 | test_loss: 0.9719 | test_acc: 0.7651\n",
              "Epoch: 9 | train_loss: 0.0788 | train_acc: 0.9737 | test_loss: 0.4618 | test_acc: 0.8135\n",
              "Epoch: 10 | train_loss: 0.0646 | train_acc: 0.9741 | test_loss: 0.6798 | test_acc: 0.7734\n",
              "Epoch: 11 | train_loss: 0.0702 | train_acc: 0.9750 | test_loss: 1.0649 | test_acc: 0.7526\n",
              "Epoch: 12 | train_loss: 0.0696 | train_acc: 0.9747 | test_loss: 0.7952 | test_acc: 0.7573\n",
              "Epoch: 13 | train_loss: 0.0603 | train_acc: 0.9775 | test_loss: 1.3032 | test_acc: 0.7589\n",
              "Epoch: 14 | train_loss: 0.0641 | train_acc: 0.9781 | test_loss: 0.7147 | test_acc: 0.8339\n",
              "Epoch: 15 | train_loss: 0.0594 | train_acc: 0.9775 | test_loss: 0.9543 | test_acc: 0.7901\n",
              "Epoch: 16 | train_loss: 0.0550 | train_acc: 0.9794 | test_loss: 1.4375 | test_acc: 0.7760\n",
              "Epoch: 17 | train_loss: 0.0629 | train_acc: 0.9785 | test_loss: 0.5432 | test_acc: 0.8146\n",
              "Epoch: 18 | train_loss: 0.0588 | train_acc: 0.9783 | test_loss: 1.1039 | test_acc: 0.7776\n",
              "Epoch: 19 | train_loss: 0.0530 | train_acc: 0.9817 | test_loss: 0.8183 | test_acc: 0.8026\n",
              "Epoch: 20 | train_loss: 0.0565 | train_acc: 0.9794 | test_loss: 1.1004 | test_acc: 0.7714\n",
              "Epoch: 21 | train_loss: 0.0541 | train_acc: 0.9811 | test_loss: 1.7867 | test_acc: 0.7141\n",
              "Epoch: 22 | train_loss: 0.0486 | train_acc: 0.9832 | test_loss: 1.1809 | test_acc: 0.8026\n",
              "Epoch: 23 | train_loss: 0.0523 | train_acc: 0.9823 | test_loss: 0.9130 | test_acc: 0.8260\n",
              "Epoch: 24 | train_loss: 0.0448 | train_acc: 0.9867 | test_loss: 0.9043 | test_acc: 0.8172\n",
              "Epoch: 25 | train_loss: 0.0466 | train_acc: 0.9827 | test_loss: 1.3812 | test_acc: 0.7109\n",
              "Epoch: 26 | train_loss: 0.0492 | train_acc: 0.9815 | test_loss: 1.9562 | test_acc: 0.7422\n",
              "Epoch: 27 | train_loss: 0.0540 | train_acc: 0.9804 | test_loss: 1.0953 | test_acc: 0.8104\n",
              "Epoch: 28 | train_loss: 0.0448 | train_acc: 0.9829 | test_loss: 1.1539 | test_acc: 0.7573\n",
              "Epoch: 29 | train_loss: 0.0449 | train_acc: 0.9861 | test_loss: 1.4658 | test_acc: 0.7594\n",
              "Epoch: 30 | train_loss: 0.0454 | train_acc: 0.9849 | test_loss: 1.0068 | test_acc: 0.7766\n",
              "Total training time: 2495.771 seconds\n"
            ]
          }
        ]
      },
      {
        "cell_type": "code",
        "source": [
          "model"
        ],
        "metadata": {
          "id": "Ndr1_FzG4CEH",
          "colab": {
            "base_uri": "https://localhost:8080/"
          },
          "outputId": "1345f936-a003-4595-cdd3-e70985e6ba99"
        },
        "execution_count": 58,
        "outputs": [
          {
            "output_type": "execute_result",
            "data": {
              "text/plain": [
                "VGG(\n",
                "  (features): Sequential(\n",
                "    (0): Conv2d(3, 64, kernel_size=(3, 3), stride=(1, 1), padding=(1, 1))\n",
                "    (1): ReLU(inplace=True)\n",
                "    (2): Conv2d(64, 64, kernel_size=(3, 3), stride=(1, 1), padding=(1, 1))\n",
                "    (3): ReLU(inplace=True)\n",
                "    (4): MaxPool2d(kernel_size=2, stride=2, padding=0, dilation=1, ceil_mode=False)\n",
                "    (5): Conv2d(64, 128, kernel_size=(3, 3), stride=(1, 1), padding=(1, 1))\n",
                "    (6): ReLU(inplace=True)\n",
                "    (7): Conv2d(128, 128, kernel_size=(3, 3), stride=(1, 1), padding=(1, 1))\n",
                "    (8): ReLU(inplace=True)\n",
                "    (9): MaxPool2d(kernel_size=2, stride=2, padding=0, dilation=1, ceil_mode=False)\n",
                "    (10): Conv2d(128, 256, kernel_size=(3, 3), stride=(1, 1), padding=(1, 1))\n",
                "    (11): ReLU(inplace=True)\n",
                "    (12): Conv2d(256, 256, kernel_size=(3, 3), stride=(1, 1), padding=(1, 1))\n",
                "    (13): ReLU(inplace=True)\n",
                "    (14): Conv2d(256, 256, kernel_size=(3, 3), stride=(1, 1), padding=(1, 1))\n",
                "    (15): ReLU(inplace=True)\n",
                "    (16): Conv2d(256, 256, kernel_size=(3, 3), stride=(1, 1), padding=(1, 1))\n",
                "    (17): ReLU(inplace=True)\n",
                "    (18): MaxPool2d(kernel_size=2, stride=2, padding=0, dilation=1, ceil_mode=False)\n",
                "    (19): Conv2d(256, 512, kernel_size=(3, 3), stride=(1, 1), padding=(1, 1))\n",
                "    (20): ReLU(inplace=True)\n",
                "    (21): Conv2d(512, 512, kernel_size=(3, 3), stride=(1, 1), padding=(1, 1))\n",
                "    (22): ReLU(inplace=True)\n",
                "    (23): Conv2d(512, 512, kernel_size=(3, 3), stride=(1, 1), padding=(1, 1))\n",
                "    (24): ReLU(inplace=True)\n",
                "    (25): Conv2d(512, 512, kernel_size=(3, 3), stride=(1, 1), padding=(1, 1))\n",
                "    (26): ReLU(inplace=True)\n",
                "    (27): MaxPool2d(kernel_size=2, stride=2, padding=0, dilation=1, ceil_mode=False)\n",
                "    (28): Conv2d(512, 512, kernel_size=(3, 3), stride=(1, 1), padding=(1, 1))\n",
                "    (29): ReLU(inplace=True)\n",
                "    (30): Conv2d(512, 512, kernel_size=(3, 3), stride=(1, 1), padding=(1, 1))\n",
                "    (31): ReLU(inplace=True)\n",
                "    (32): Conv2d(512, 512, kernel_size=(3, 3), stride=(1, 1), padding=(1, 1))\n",
                "    (33): ReLU(inplace=True)\n",
                "    (34): Conv2d(512, 512, kernel_size=(3, 3), stride=(1, 1), padding=(1, 1))\n",
                "    (35): ReLU(inplace=True)\n",
                "    (36): MaxPool2d(kernel_size=2, stride=2, padding=0, dilation=1, ceil_mode=False)\n",
                "  )\n",
                "  (avgpool): AdaptiveAvgPool2d(output_size=(1, 1))\n",
                "  (classifier): Sequential(\n",
                "    (0): Dropout(p=0.5, inplace=False)\n",
                "    (1): Linear(in_features=512, out_features=4096, bias=True)\n",
                "    (2): ReLU()\n",
                "    (3): Dropout(p=0.5, inplace=False)\n",
                "    (4): Linear(in_features=4096, out_features=4096, bias=True)\n",
                "    (5): ReLU()\n",
                "    (6): Linear(in_features=4096, out_features=2, bias=True)\n",
                "  )\n",
                ")"
              ]
            },
            "metadata": {},
            "execution_count": 58
          }
        ]
      },
      {
        "cell_type": "code",
        "source": [
          "%reset -f\n"
        ],
        "metadata": {
          "id": "OBz1ueF9DDID"
        },
        "execution_count": 59,
        "outputs": []
      },
      {
        "cell_type": "code",
        "source": [
          "import torch\n",
          "torch.cuda.empty_cache()\n",
          "torch.cuda.ipc_collect()\n"
        ],
        "metadata": {
          "id": "pFKHDIdgDoMX"
        },
        "execution_count": 60,
        "outputs": []
      },
      {
        "cell_type": "markdown",
        "source": [
          "\n",
          "\n",
          "> **Note:** Training VGG19 from scratch on cifar10 dataset which results ***60% ***accuracy on training and ***58%*** on testing. After that Fine tuning VGG19 pre-trained model for detecting pneumonia on Chest X-Ray Images (Pneumonia) dataset, achieving accuracy of ***98%*** and ***82%***, on training and testing, respectively.\n",
          "\n",
          "\n"
        ],
        "metadata": {
          "id": "Gl3Vqamcnw74"
        }
      },
      {
        "cell_type": "code",
        "source": [
          "!pip install nbstripout\n"
        ],
        "metadata": {
          "id": "xX7i6MGmDw93",
          "colab": {
            "base_uri": "https://localhost:8080/"
          },
          "outputId": "4501f2cf-d4e0-4a35-b36e-109b0bf67579"
        },
        "execution_count": 61,
        "outputs": [
          {
            "output_type": "stream",
            "name": "stdout",
            "text": [
              "Requirement already satisfied: nbstripout in /usr/local/lib/python3.11/dist-packages (0.8.1)\n",
              "Requirement already satisfied: nbformat in /usr/local/lib/python3.11/dist-packages (from nbstripout) (5.10.4)\n",
              "Requirement already satisfied: fastjsonschema>=2.15 in /usr/local/lib/python3.11/dist-packages (from nbformat->nbstripout) (2.21.1)\n",
              "Requirement already satisfied: jsonschema>=2.6 in /usr/local/lib/python3.11/dist-packages (from nbformat->nbstripout) (4.23.0)\n",
              "Requirement already satisfied: jupyter-core!=5.0.*,>=4.12 in /usr/local/lib/python3.11/dist-packages (from nbformat->nbstripout) (5.7.2)\n",
              "Requirement already satisfied: traitlets>=5.1 in /usr/local/lib/python3.11/dist-packages (from nbformat->nbstripout) (5.7.1)\n",
              "Requirement already satisfied: attrs>=22.2.0 in /usr/local/lib/python3.11/dist-packages (from jsonschema>=2.6->nbformat->nbstripout) (25.3.0)\n",
              "Requirement already satisfied: jsonschema-specifications>=2023.03.6 in /usr/local/lib/python3.11/dist-packages (from jsonschema>=2.6->nbformat->nbstripout) (2025.4.1)\n",
              "Requirement already satisfied: referencing>=0.28.4 in /usr/local/lib/python3.11/dist-packages (from jsonschema>=2.6->nbformat->nbstripout) (0.36.2)\n",
              "Requirement already satisfied: rpds-py>=0.7.1 in /usr/local/lib/python3.11/dist-packages (from jsonschema>=2.6->nbformat->nbstripout) (0.24.0)\n",
              "Requirement already satisfied: platformdirs>=2.5 in /usr/local/lib/python3.11/dist-packages (from jupyter-core!=5.0.*,>=4.12->nbformat->nbstripout) (4.3.7)\n",
              "Requirement already satisfied: typing-extensions>=4.4.0 in /usr/local/lib/python3.11/dist-packages (from referencing>=0.28.4->jsonschema>=2.6->nbformat->nbstripout) (4.13.2)\n"
            ]
          }
        ]
      },
      {
        "cell_type": "code",
        "source": [
          "!pip install --upgrade notebook\n"
        ],
        "metadata": {
          "colab": {
            "base_uri": "https://localhost:8080/"
          },
          "id": "Vp02O-vd7zYs",
          "outputId": "52ee0156-30c6-4c44-f44b-e61ad5904ecf"
        },
        "execution_count": 1,
        "outputs": [
          {
            "output_type": "stream",
            "name": "stdout",
            "text": [
              "Requirement already satisfied: notebook in /usr/local/lib/python3.11/dist-packages (6.5.7)\n",
              "Collecting notebook\n",
              "  Downloading notebook-7.4.2-py3-none-any.whl.metadata (10 kB)\n",
              "Collecting jupyter-server<3,>=2.4.0 (from notebook)\n",
              "  Downloading jupyter_server-2.15.0-py3-none-any.whl.metadata (8.4 kB)\n",
              "Collecting jupyterlab-server<3,>=2.27.1 (from notebook)\n",
              "  Downloading jupyterlab_server-2.27.3-py3-none-any.whl.metadata (5.9 kB)\n",
              "Collecting jupyterlab<4.5,>=4.4.0 (from notebook)\n",
              "  Downloading jupyterlab-4.4.2-py3-none-any.whl.metadata (16 kB)\n",
              "Requirement already satisfied: notebook-shim<0.3,>=0.2 in /usr/local/lib/python3.11/dist-packages (from notebook) (0.2.4)\n",
              "Requirement already satisfied: tornado>=6.2.0 in /usr/local/lib/python3.11/dist-packages (from notebook) (6.4.2)\n",
              "Requirement already satisfied: anyio>=3.1.0 in /usr/local/lib/python3.11/dist-packages (from jupyter-server<3,>=2.4.0->notebook) (4.9.0)\n",
              "Requirement already satisfied: argon2-cffi>=21.1 in /usr/local/lib/python3.11/dist-packages (from jupyter-server<3,>=2.4.0->notebook) (23.1.0)\n",
              "Requirement already satisfied: jinja2>=3.0.3 in /usr/local/lib/python3.11/dist-packages (from jupyter-server<3,>=2.4.0->notebook) (3.1.6)\n",
              "Collecting jupyter-client>=7.4.4 (from jupyter-server<3,>=2.4.0->notebook)\n",
              "  Downloading jupyter_client-8.6.3-py3-none-any.whl.metadata (8.3 kB)\n",
              "Requirement already satisfied: jupyter-core!=5.0.*,>=4.12 in /usr/local/lib/python3.11/dist-packages (from jupyter-server<3,>=2.4.0->notebook) (5.7.2)\n",
              "Collecting jupyter-events>=0.11.0 (from jupyter-server<3,>=2.4.0->notebook)\n",
              "  Downloading jupyter_events-0.12.0-py3-none-any.whl.metadata (5.8 kB)\n",
              "Collecting jupyter-server-terminals>=0.4.4 (from jupyter-server<3,>=2.4.0->notebook)\n",
              "  Downloading jupyter_server_terminals-0.5.3-py3-none-any.whl.metadata (5.6 kB)\n",
              "Requirement already satisfied: nbconvert>=6.4.4 in /usr/local/lib/python3.11/dist-packages (from jupyter-server<3,>=2.4.0->notebook) (7.16.6)\n",
              "Requirement already satisfied: nbformat>=5.3.0 in /usr/local/lib/python3.11/dist-packages (from jupyter-server<3,>=2.4.0->notebook) (5.10.4)\n",
              "Collecting overrides>=5.0 (from jupyter-server<3,>=2.4.0->notebook)\n",
              "  Downloading overrides-7.7.0-py3-none-any.whl.metadata (5.8 kB)\n",
              "Requirement already satisfied: packaging>=22.0 in /usr/local/lib/python3.11/dist-packages (from jupyter-server<3,>=2.4.0->notebook) (24.2)\n",
              "Requirement already satisfied: prometheus-client>=0.9 in /usr/local/lib/python3.11/dist-packages (from jupyter-server<3,>=2.4.0->notebook) (0.21.1)\n",
              "Requirement already satisfied: pyzmq>=24 in /usr/local/lib/python3.11/dist-packages (from jupyter-server<3,>=2.4.0->notebook) (24.0.1)\n",
              "Requirement already satisfied: send2trash>=1.8.2 in /usr/local/lib/python3.11/dist-packages (from jupyter-server<3,>=2.4.0->notebook) (1.8.3)\n",
              "Requirement already satisfied: terminado>=0.8.3 in /usr/local/lib/python3.11/dist-packages (from jupyter-server<3,>=2.4.0->notebook) (0.18.1)\n",
              "Requirement already satisfied: traitlets>=5.6.0 in /usr/local/lib/python3.11/dist-packages (from jupyter-server<3,>=2.4.0->notebook) (5.7.1)\n",
              "Requirement already satisfied: websocket-client>=1.7 in /usr/local/lib/python3.11/dist-packages (from jupyter-server<3,>=2.4.0->notebook) (1.8.0)\n",
              "Collecting async-lru>=1.0.0 (from jupyterlab<4.5,>=4.4.0->notebook)\n",
              "  Downloading async_lru-2.0.5-py3-none-any.whl.metadata (4.5 kB)\n",
              "Requirement already satisfied: httpx>=0.25.0 in /usr/local/lib/python3.11/dist-packages (from jupyterlab<4.5,>=4.4.0->notebook) (0.28.1)\n",
              "Requirement already satisfied: ipykernel>=6.5.0 in /usr/local/lib/python3.11/dist-packages (from jupyterlab<4.5,>=4.4.0->notebook) (6.17.1)\n",
              "Collecting jupyter-lsp>=2.0.0 (from jupyterlab<4.5,>=4.4.0->notebook)\n",
              "  Downloading jupyter_lsp-2.2.5-py3-none-any.whl.metadata (1.8 kB)\n",
              "Requirement already satisfied: setuptools>=41.1.0 in /usr/local/lib/python3.11/dist-packages (from jupyterlab<4.5,>=4.4.0->notebook) (75.2.0)\n",
              "Requirement already satisfied: babel>=2.10 in /usr/local/lib/python3.11/dist-packages (from jupyterlab-server<3,>=2.27.1->notebook) (2.17.0)\n",
              "Collecting json5>=0.9.0 (from jupyterlab-server<3,>=2.27.1->notebook)\n",
              "  Downloading json5-0.12.0-py3-none-any.whl.metadata (36 kB)\n",
              "Requirement already satisfied: jsonschema>=4.18.0 in /usr/local/lib/python3.11/dist-packages (from jupyterlab-server<3,>=2.27.1->notebook) (4.23.0)\n",
              "Requirement already satisfied: requests>=2.31 in /usr/local/lib/python3.11/dist-packages (from jupyterlab-server<3,>=2.27.1->notebook) (2.32.3)\n",
              "Requirement already satisfied: idna>=2.8 in /usr/local/lib/python3.11/dist-packages (from anyio>=3.1.0->jupyter-server<3,>=2.4.0->notebook) (3.10)\n",
              "Requirement already satisfied: sniffio>=1.1 in /usr/local/lib/python3.11/dist-packages (from anyio>=3.1.0->jupyter-server<3,>=2.4.0->notebook) (1.3.1)\n",
              "Requirement already satisfied: typing_extensions>=4.5 in /usr/local/lib/python3.11/dist-packages (from anyio>=3.1.0->jupyter-server<3,>=2.4.0->notebook) (4.13.2)\n",
              "Requirement already satisfied: argon2-cffi-bindings in /usr/local/lib/python3.11/dist-packages (from argon2-cffi>=21.1->jupyter-server<3,>=2.4.0->notebook) (21.2.0)\n",
              "Requirement already satisfied: certifi in /usr/local/lib/python3.11/dist-packages (from httpx>=0.25.0->jupyterlab<4.5,>=4.4.0->notebook) (2025.4.26)\n",
              "Requirement already satisfied: httpcore==1.* in /usr/local/lib/python3.11/dist-packages (from httpx>=0.25.0->jupyterlab<4.5,>=4.4.0->notebook) (1.0.9)\n",
              "Requirement already satisfied: h11>=0.16 in /usr/local/lib/python3.11/dist-packages (from httpcore==1.*->httpx>=0.25.0->jupyterlab<4.5,>=4.4.0->notebook) (0.16.0)\n",
              "Requirement already satisfied: debugpy>=1.0 in /usr/local/lib/python3.11/dist-packages (from ipykernel>=6.5.0->jupyterlab<4.5,>=4.4.0->notebook) (1.8.0)\n",
              "Requirement already satisfied: ipython>=7.23.1 in /usr/local/lib/python3.11/dist-packages (from ipykernel>=6.5.0->jupyterlab<4.5,>=4.4.0->notebook) (7.34.0)\n",
              "Requirement already satisfied: matplotlib-inline>=0.1 in /usr/local/lib/python3.11/dist-packages (from ipykernel>=6.5.0->jupyterlab<4.5,>=4.4.0->notebook) (0.1.7)\n",
              "Requirement already satisfied: nest-asyncio in /usr/local/lib/python3.11/dist-packages (from ipykernel>=6.5.0->jupyterlab<4.5,>=4.4.0->notebook) (1.6.0)\n",
              "Requirement already satisfied: psutil in /usr/local/lib/python3.11/dist-packages (from ipykernel>=6.5.0->jupyterlab<4.5,>=4.4.0->notebook) (5.9.5)\n",
              "Requirement already satisfied: MarkupSafe>=2.0 in /usr/local/lib/python3.11/dist-packages (from jinja2>=3.0.3->jupyter-server<3,>=2.4.0->notebook) (3.0.2)\n",
              "Requirement already satisfied: attrs>=22.2.0 in /usr/local/lib/python3.11/dist-packages (from jsonschema>=4.18.0->jupyterlab-server<3,>=2.27.1->notebook) (25.3.0)\n",
              "Requirement already satisfied: jsonschema-specifications>=2023.03.6 in /usr/local/lib/python3.11/dist-packages (from jsonschema>=4.18.0->jupyterlab-server<3,>=2.27.1->notebook) (2025.4.1)\n",
              "Requirement already satisfied: referencing>=0.28.4 in /usr/local/lib/python3.11/dist-packages (from jsonschema>=4.18.0->jupyterlab-server<3,>=2.27.1->notebook) (0.36.2)\n",
              "Requirement already satisfied: rpds-py>=0.7.1 in /usr/local/lib/python3.11/dist-packages (from jsonschema>=4.18.0->jupyterlab-server<3,>=2.27.1->notebook) (0.24.0)\n",
              "Requirement already satisfied: python-dateutil>=2.8.2 in /usr/local/lib/python3.11/dist-packages (from jupyter-client>=7.4.4->jupyter-server<3,>=2.4.0->notebook) (2.9.0.post0)\n",
              "Requirement already satisfied: platformdirs>=2.5 in /usr/local/lib/python3.11/dist-packages (from jupyter-core!=5.0.*,>=4.12->jupyter-server<3,>=2.4.0->notebook) (4.3.7)\n",
              "Collecting python-json-logger>=2.0.4 (from jupyter-events>=0.11.0->jupyter-server<3,>=2.4.0->notebook)\n",
              "  Downloading python_json_logger-3.3.0-py3-none-any.whl.metadata (4.0 kB)\n",
              "Requirement already satisfied: pyyaml>=5.3 in /usr/local/lib/python3.11/dist-packages (from jupyter-events>=0.11.0->jupyter-server<3,>=2.4.0->notebook) (6.0.2)\n",
              "Collecting rfc3339-validator (from jupyter-events>=0.11.0->jupyter-server<3,>=2.4.0->notebook)\n",
              "  Downloading rfc3339_validator-0.1.4-py2.py3-none-any.whl.metadata (1.5 kB)\n",
              "Collecting rfc3986-validator>=0.1.1 (from jupyter-events>=0.11.0->jupyter-server<3,>=2.4.0->notebook)\n",
              "  Downloading rfc3986_validator-0.1.1-py2.py3-none-any.whl.metadata (1.7 kB)\n",
              "Requirement already satisfied: beautifulsoup4 in /usr/local/lib/python3.11/dist-packages (from nbconvert>=6.4.4->jupyter-server<3,>=2.4.0->notebook) (4.13.4)\n",
              "Requirement already satisfied: bleach!=5.0.0 in /usr/local/lib/python3.11/dist-packages (from bleach[css]!=5.0.0->nbconvert>=6.4.4->jupyter-server<3,>=2.4.0->notebook) (6.2.0)\n",
              "Requirement already satisfied: defusedxml in /usr/local/lib/python3.11/dist-packages (from nbconvert>=6.4.4->jupyter-server<3,>=2.4.0->notebook) (0.7.1)\n",
              "Requirement already satisfied: jupyterlab-pygments in /usr/local/lib/python3.11/dist-packages (from nbconvert>=6.4.4->jupyter-server<3,>=2.4.0->notebook) (0.3.0)\n",
              "Requirement already satisfied: mistune<4,>=2.0.3 in /usr/local/lib/python3.11/dist-packages (from nbconvert>=6.4.4->jupyter-server<3,>=2.4.0->notebook) (3.1.3)\n",
              "Requirement already satisfied: nbclient>=0.5.0 in /usr/local/lib/python3.11/dist-packages (from nbconvert>=6.4.4->jupyter-server<3,>=2.4.0->notebook) (0.10.2)\n",
              "Requirement already satisfied: pandocfilters>=1.4.1 in /usr/local/lib/python3.11/dist-packages (from nbconvert>=6.4.4->jupyter-server<3,>=2.4.0->notebook) (1.5.1)\n",
              "Requirement already satisfied: pygments>=2.4.1 in /usr/local/lib/python3.11/dist-packages (from nbconvert>=6.4.4->jupyter-server<3,>=2.4.0->notebook) (2.19.1)\n",
              "Requirement already satisfied: fastjsonschema>=2.15 in /usr/local/lib/python3.11/dist-packages (from nbformat>=5.3.0->jupyter-server<3,>=2.4.0->notebook) (2.21.1)\n",
              "Requirement already satisfied: charset-normalizer<4,>=2 in /usr/local/lib/python3.11/dist-packages (from requests>=2.31->jupyterlab-server<3,>=2.27.1->notebook) (3.4.1)\n",
              "Requirement already satisfied: urllib3<3,>=1.21.1 in /usr/local/lib/python3.11/dist-packages (from requests>=2.31->jupyterlab-server<3,>=2.27.1->notebook) (2.4.0)\n",
              "Requirement already satisfied: ptyprocess in /usr/local/lib/python3.11/dist-packages (from terminado>=0.8.3->jupyter-server<3,>=2.4.0->notebook) (0.7.0)\n",
              "Requirement already satisfied: webencodings in /usr/local/lib/python3.11/dist-packages (from bleach!=5.0.0->bleach[css]!=5.0.0->nbconvert>=6.4.4->jupyter-server<3,>=2.4.0->notebook) (0.5.1)\n",
              "Requirement already satisfied: tinycss2<1.5,>=1.1.0 in /usr/local/lib/python3.11/dist-packages (from bleach[css]!=5.0.0->nbconvert>=6.4.4->jupyter-server<3,>=2.4.0->notebook) (1.4.0)\n",
              "Collecting jedi>=0.16 (from ipython>=7.23.1->ipykernel>=6.5.0->jupyterlab<4.5,>=4.4.0->notebook)\n",
              "  Downloading jedi-0.19.2-py2.py3-none-any.whl.metadata (22 kB)\n",
              "Requirement already satisfied: decorator in /usr/local/lib/python3.11/dist-packages (from ipython>=7.23.1->ipykernel>=6.5.0->jupyterlab<4.5,>=4.4.0->notebook) (4.4.2)\n",
              "Requirement already satisfied: pickleshare in /usr/local/lib/python3.11/dist-packages (from ipython>=7.23.1->ipykernel>=6.5.0->jupyterlab<4.5,>=4.4.0->notebook) (0.7.5)\n",
              "Requirement already satisfied: prompt-toolkit!=3.0.0,!=3.0.1,<3.1.0,>=2.0.0 in /usr/local/lib/python3.11/dist-packages (from ipython>=7.23.1->ipykernel>=6.5.0->jupyterlab<4.5,>=4.4.0->notebook) (3.0.51)\n",
              "Requirement already satisfied: backcall in /usr/local/lib/python3.11/dist-packages (from ipython>=7.23.1->ipykernel>=6.5.0->jupyterlab<4.5,>=4.4.0->notebook) (0.2.0)\n",
              "Requirement already satisfied: pexpect>4.3 in /usr/local/lib/python3.11/dist-packages (from ipython>=7.23.1->ipykernel>=6.5.0->jupyterlab<4.5,>=4.4.0->notebook) (4.9.0)\n",
              "Collecting fqdn (from jsonschema[format-nongpl]>=4.18.0->jupyter-events>=0.11.0->jupyter-server<3,>=2.4.0->notebook)\n",
              "  Downloading fqdn-1.5.1-py3-none-any.whl.metadata (1.4 kB)\n",
              "Collecting isoduration (from jsonschema[format-nongpl]>=4.18.0->jupyter-events>=0.11.0->jupyter-server<3,>=2.4.0->notebook)\n",
              "  Downloading isoduration-20.11.0-py3-none-any.whl.metadata (5.7 kB)\n",
              "Requirement already satisfied: jsonpointer>1.13 in /usr/local/lib/python3.11/dist-packages (from jsonschema[format-nongpl]>=4.18.0->jupyter-events>=0.11.0->jupyter-server<3,>=2.4.0->notebook) (3.0.0)\n",
              "Collecting uri-template (from jsonschema[format-nongpl]>=4.18.0->jupyter-events>=0.11.0->jupyter-server<3,>=2.4.0->notebook)\n",
              "  Downloading uri_template-1.3.0-py3-none-any.whl.metadata (8.8 kB)\n",
              "Requirement already satisfied: webcolors>=24.6.0 in /usr/local/lib/python3.11/dist-packages (from jsonschema[format-nongpl]>=4.18.0->jupyter-events>=0.11.0->jupyter-server<3,>=2.4.0->notebook) (24.11.1)\n",
              "Requirement already satisfied: six>=1.5 in /usr/local/lib/python3.11/dist-packages (from python-dateutil>=2.8.2->jupyter-client>=7.4.4->jupyter-server<3,>=2.4.0->notebook) (1.17.0)\n",
              "Requirement already satisfied: cffi>=1.0.1 in /usr/local/lib/python3.11/dist-packages (from argon2-cffi-bindings->argon2-cffi>=21.1->jupyter-server<3,>=2.4.0->notebook) (1.17.1)\n",
              "Requirement already satisfied: soupsieve>1.2 in /usr/local/lib/python3.11/dist-packages (from beautifulsoup4->nbconvert>=6.4.4->jupyter-server<3,>=2.4.0->notebook) (2.7)\n",
              "Requirement already satisfied: pycparser in /usr/local/lib/python3.11/dist-packages (from cffi>=1.0.1->argon2-cffi-bindings->argon2-cffi>=21.1->jupyter-server<3,>=2.4.0->notebook) (2.22)\n",
              "Requirement already satisfied: parso<0.9.0,>=0.8.4 in /usr/local/lib/python3.11/dist-packages (from jedi>=0.16->ipython>=7.23.1->ipykernel>=6.5.0->jupyterlab<4.5,>=4.4.0->notebook) (0.8.4)\n",
              "Requirement already satisfied: wcwidth in /usr/local/lib/python3.11/dist-packages (from prompt-toolkit!=3.0.0,!=3.0.1,<3.1.0,>=2.0.0->ipython>=7.23.1->ipykernel>=6.5.0->jupyterlab<4.5,>=4.4.0->notebook) (0.2.13)\n",
              "Collecting arrow>=0.15.0 (from isoduration->jsonschema[format-nongpl]>=4.18.0->jupyter-events>=0.11.0->jupyter-server<3,>=2.4.0->notebook)\n",
              "  Downloading arrow-1.3.0-py3-none-any.whl.metadata (7.5 kB)\n",
              "Collecting types-python-dateutil>=2.8.10 (from arrow>=0.15.0->isoduration->jsonschema[format-nongpl]>=4.18.0->jupyter-events>=0.11.0->jupyter-server<3,>=2.4.0->notebook)\n",
              "  Downloading types_python_dateutil-2.9.0.20241206-py3-none-any.whl.metadata (2.1 kB)\n",
              "Downloading notebook-7.4.2-py3-none-any.whl (14.3 MB)\n",
              "\u001b[2K   \u001b[90m━━━━━━━━━━━━━━━━━━━━━━━━━━━━━━━━━━━━━━━━\u001b[0m \u001b[32m14.3/14.3 MB\u001b[0m \u001b[31m37.6 MB/s\u001b[0m eta \u001b[36m0:00:00\u001b[0m\n",
              "\u001b[?25hDownloading jupyter_server-2.15.0-py3-none-any.whl (385 kB)\n",
              "\u001b[2K   \u001b[90m━━━━━━━━━━━━━━━━━━━━━━━━━━━━━━━━━━━━━━━━\u001b[0m \u001b[32m385.8/385.8 kB\u001b[0m \u001b[31m7.8 MB/s\u001b[0m eta \u001b[36m0:00:00\u001b[0m\n",
              "\u001b[?25hDownloading jupyterlab-4.4.2-py3-none-any.whl (12.3 MB)\n",
              "\u001b[2K   \u001b[90m━━━━━━━━━━━━━━━━━━━━━━━━━━━━━━━━━━━━━━━━\u001b[0m \u001b[32m12.3/12.3 MB\u001b[0m \u001b[31m32.0 MB/s\u001b[0m eta \u001b[36m0:00:00\u001b[0m\n",
              "\u001b[?25hDownloading jupyterlab_server-2.27.3-py3-none-any.whl (59 kB)\n",
              "\u001b[2K   \u001b[90m━━━━━━━━━━━━━━━━━━━━━━━━━━━━━━━━━━━━━━━━\u001b[0m \u001b[32m59.7/59.7 kB\u001b[0m \u001b[31m1.2 MB/s\u001b[0m eta \u001b[36m0:00:00\u001b[0m\n",
              "\u001b[?25hDownloading async_lru-2.0.5-py3-none-any.whl (6.1 kB)\n",
              "Downloading json5-0.12.0-py3-none-any.whl (36 kB)\n",
              "Downloading jupyter_client-8.6.3-py3-none-any.whl (106 kB)\n",
              "\u001b[2K   \u001b[90m━━━━━━━━━━━━━━━━━━━━━━━━━━━━━━━━━━━━━━━━\u001b[0m \u001b[32m106.1/106.1 kB\u001b[0m \u001b[31m5.2 MB/s\u001b[0m eta \u001b[36m0:00:00\u001b[0m\n",
              "\u001b[?25hDownloading jupyter_events-0.12.0-py3-none-any.whl (19 kB)\n",
              "Downloading jupyter_lsp-2.2.5-py3-none-any.whl (69 kB)\n",
              "\u001b[2K   \u001b[90m━━━━━━━━━━━━━━━━━━━━━━━━━━━━━━━━━━━━━━━━\u001b[0m \u001b[32m69.1/69.1 kB\u001b[0m \u001b[31m655.1 kB/s\u001b[0m eta \u001b[36m0:00:00\u001b[0m\n",
              "\u001b[?25hDownloading jupyter_server_terminals-0.5.3-py3-none-any.whl (13 kB)\n",
              "Downloading overrides-7.7.0-py3-none-any.whl (17 kB)\n",
              "Downloading python_json_logger-3.3.0-py3-none-any.whl (15 kB)\n",
              "Downloading rfc3986_validator-0.1.1-py2.py3-none-any.whl (4.2 kB)\n",
              "Downloading rfc3339_validator-0.1.4-py2.py3-none-any.whl (3.5 kB)\n",
              "Downloading jedi-0.19.2-py2.py3-none-any.whl (1.6 MB)\n",
              "\u001b[2K   \u001b[90m━━━━━━━━━━━━━━━━━━━━━━━━━━━━━━━━━━━━━━━━\u001b[0m \u001b[32m1.6/1.6 MB\u001b[0m \u001b[31m23.4 MB/s\u001b[0m eta \u001b[36m0:00:00\u001b[0m\n",
              "\u001b[?25hDownloading fqdn-1.5.1-py3-none-any.whl (9.1 kB)\n",
              "Downloading isoduration-20.11.0-py3-none-any.whl (11 kB)\n",
              "Downloading uri_template-1.3.0-py3-none-any.whl (11 kB)\n",
              "Downloading arrow-1.3.0-py3-none-any.whl (66 kB)\n",
              "\u001b[2K   \u001b[90m━━━━━━━━━━━━━━━━━━━━━━━━━━━━━━━━━━━━━━━━\u001b[0m \u001b[32m66.4/66.4 kB\u001b[0m \u001b[31m2.1 MB/s\u001b[0m eta \u001b[36m0:00:00\u001b[0m\n",
              "\u001b[?25hDownloading types_python_dateutil-2.9.0.20241206-py3-none-any.whl (14 kB)\n",
              "Installing collected packages: uri-template, types-python-dateutil, rfc3986-validator, rfc3339-validator, python-json-logger, overrides, json5, jedi, fqdn, async-lru, jupyter-server-terminals, jupyter-client, arrow, isoduration, jupyter-events, jupyter-server, jupyterlab-server, jupyter-lsp, jupyterlab, notebook\n",
              "  Attempting uninstall: jupyter-client\n",
              "    Found existing installation: jupyter-client 6.1.12\n",
              "    Uninstalling jupyter-client-6.1.12:\n",
              "      Successfully uninstalled jupyter-client-6.1.12\n",
              "  Attempting uninstall: jupyter-server\n",
              "    Found existing installation: jupyter-server 1.16.0\n",
              "    Uninstalling jupyter-server-1.16.0:\n",
              "      Successfully uninstalled jupyter-server-1.16.0\n",
              "  Attempting uninstall: notebook\n",
              "    Found existing installation: notebook 6.5.7\n",
              "    Uninstalling notebook-6.5.7:\n",
              "      Successfully uninstalled notebook-6.5.7\n",
              "\u001b[31mERROR: pip's dependency resolver does not currently take into account all the packages that are installed. This behaviour is the source of the following dependency conflicts.\n",
              "google-colab 1.0.0 requires notebook==6.5.7, but you have notebook 7.4.2 which is incompatible.\n",
              "jupyter-kernel-gateway 2.5.2 requires jupyter-client<8.0,>=5.2.0, but you have jupyter-client 8.6.3 which is incompatible.\n",
              "jupyter-kernel-gateway 2.5.2 requires notebook<7.0,>=5.7.6, but you have notebook 7.4.2 which is incompatible.\u001b[0m\u001b[31m\n",
              "\u001b[0mSuccessfully installed arrow-1.3.0 async-lru-2.0.5 fqdn-1.5.1 isoduration-20.11.0 jedi-0.19.2 json5-0.12.0 jupyter-client-8.6.3 jupyter-events-0.12.0 jupyter-lsp-2.2.5 jupyter-server-2.15.0 jupyter-server-terminals-0.5.3 jupyterlab-4.4.2 jupyterlab-server-2.27.3 notebook-7.4.2 overrides-7.7.0 python-json-logger-3.3.0 rfc3339-validator-0.1.4 rfc3986-validator-0.1.1 types-python-dateutil-2.9.0.20241206 uri-template-1.3.0\n"
            ]
          }
        ]
      },
      {
        "cell_type": "code",
        "source": [],
        "metadata": {
          "id": "jTgZ6J_Pf4l_"
        },
        "execution_count": null,
        "outputs": []
      }
    ]
  }