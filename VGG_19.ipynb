{
  "nbformat": 4,
  "nbformat_minor": 0,
  "metadata": {
    "colab": {
      "provenance": [],
      "gpuType": "T4",
      "include_colab_link": true
    },
    "kernelspec": {
      "name": "python3",
      "display_name": "Python 3"
    },
    "language_info": {
      "name": "python"
    },
    "accelerator": "GPU",
    "widgets": {
      "application/vnd.jupyter.widget-state+json": {
        "47d8ce2b7df94338b1ad201d717e7a7a": {
          "model_module": "@jupyter-widgets/controls",
          "model_name": "HBoxModel",
          "model_module_version": "1.5.0",
          "state": {
            "_dom_classes": [],
            "_model_module": "@jupyter-widgets/controls",
            "_model_module_version": "1.5.0",
            "_model_name": "HBoxModel",
            "_view_count": null,
            "_view_module": "@jupyter-widgets/controls",
            "_view_module_version": "1.5.0",
            "_view_name": "HBoxView",
            "box_style": "",
            "children": [
              "IPY_MODEL_22d0c89953df4ce7bbdcd22fe9e959d7",
              "IPY_MODEL_e6b43ff75a7445a2b3ffc55f0a497fca",
              "IPY_MODEL_ea2afdcde3954a06a5d5476d99a85557"
            ],
            "layout": "IPY_MODEL_a7b73d201b6e4693ac5ea49294760d04"
          }
        },
        "22d0c89953df4ce7bbdcd22fe9e959d7": {
          "model_module": "@jupyter-widgets/controls",
          "model_name": "HTMLModel",
          "model_module_version": "1.5.0",
          "state": {
            "_dom_classes": [],
            "_model_module": "@jupyter-widgets/controls",
            "_model_module_version": "1.5.0",
            "_model_name": "HTMLModel",
            "_view_count": null,
            "_view_module": "@jupyter-widgets/controls",
            "_view_module_version": "1.5.0",
            "_view_name": "HTMLView",
            "description": "",
            "description_tooltip": null,
            "layout": "IPY_MODEL_8f0a77ec86964fef87bda76958e8eec8",
            "placeholder": "​",
            "style": "IPY_MODEL_03bad3b5bb614880bb72ab506e64926f",
            "value": "100%"
          }
        },
        "e6b43ff75a7445a2b3ffc55f0a497fca": {
          "model_module": "@jupyter-widgets/controls",
          "model_name": "FloatProgressModel",
          "model_module_version": "1.5.0",
          "state": {
            "_dom_classes": [],
            "_model_module": "@jupyter-widgets/controls",
            "_model_module_version": "1.5.0",
            "_model_name": "FloatProgressModel",
            "_view_count": null,
            "_view_module": "@jupyter-widgets/controls",
            "_view_module_version": "1.5.0",
            "_view_name": "ProgressView",
            "bar_style": "success",
            "description": "",
            "description_tooltip": null,
            "layout": "IPY_MODEL_39ae26a8f1ad4f86be52f9f442d4e9fe",
            "max": 30,
            "min": 0,
            "orientation": "horizontal",
            "style": "IPY_MODEL_569075d84aba4629bdbfe1679c40fdd8",
            "value": 30
          }
        },
        "ea2afdcde3954a06a5d5476d99a85557": {
          "model_module": "@jupyter-widgets/controls",
          "model_name": "HTMLModel",
          "model_module_version": "1.5.0",
          "state": {
            "_dom_classes": [],
            "_model_module": "@jupyter-widgets/controls",
            "_model_module_version": "1.5.0",
            "_model_name": "HTMLModel",
            "_view_count": null,
            "_view_module": "@jupyter-widgets/controls",
            "_view_module_version": "1.5.0",
            "_view_name": "HTMLView",
            "description": "",
            "description_tooltip": null,
            "layout": "IPY_MODEL_fe44dec4cddb4ca29fc4cb657ea90f27",
            "placeholder": "​",
            "style": "IPY_MODEL_ff3c4fa1825b4e64bc8fbe3969cb5657",
            "value": " 30/30 [42:27&lt;00:00, 83.61s/it]"
          }
        },
        "a7b73d201b6e4693ac5ea49294760d04": {
          "model_module": "@jupyter-widgets/base",
          "model_name": "LayoutModel",
          "model_module_version": "1.2.0",
          "state": {
            "_model_module": "@jupyter-widgets/base",
            "_model_module_version": "1.2.0",
            "_model_name": "LayoutModel",
            "_view_count": null,
            "_view_module": "@jupyter-widgets/base",
            "_view_module_version": "1.2.0",
            "_view_name": "LayoutView",
            "align_content": null,
            "align_items": null,
            "align_self": null,
            "border": null,
            "bottom": null,
            "display": null,
            "flex": null,
            "flex_flow": null,
            "grid_area": null,
            "grid_auto_columns": null,
            "grid_auto_flow": null,
            "grid_auto_rows": null,
            "grid_column": null,
            "grid_gap": null,
            "grid_row": null,
            "grid_template_areas": null,
            "grid_template_columns": null,
            "grid_template_rows": null,
            "height": null,
            "justify_content": null,
            "justify_items": null,
            "left": null,
            "margin": null,
            "max_height": null,
            "max_width": null,
            "min_height": null,
            "min_width": null,
            "object_fit": null,
            "object_position": null,
            "order": null,
            "overflow": null,
            "overflow_x": null,
            "overflow_y": null,
            "padding": null,
            "right": null,
            "top": null,
            "visibility": null,
            "width": null
          }
        },
        "8f0a77ec86964fef87bda76958e8eec8": {
          "model_module": "@jupyter-widgets/base",
          "model_name": "LayoutModel",
          "model_module_version": "1.2.0",
          "state": {
            "_model_module": "@jupyter-widgets/base",
            "_model_module_version": "1.2.0",
            "_model_name": "LayoutModel",
            "_view_count": null,
            "_view_module": "@jupyter-widgets/base",
            "_view_module_version": "1.2.0",
            "_view_name": "LayoutView",
            "align_content": null,
            "align_items": null,
            "align_self": null,
            "border": null,
            "bottom": null,
            "display": null,
            "flex": null,
            "flex_flow": null,
            "grid_area": null,
            "grid_auto_columns": null,
            "grid_auto_flow": null,
            "grid_auto_rows": null,
            "grid_column": null,
            "grid_gap": null,
            "grid_row": null,
            "grid_template_areas": null,
            "grid_template_columns": null,
            "grid_template_rows": null,
            "height": null,
            "justify_content": null,
            "justify_items": null,
            "left": null,
            "margin": null,
            "max_height": null,
            "max_width": null,
            "min_height": null,
            "min_width": null,
            "object_fit": null,
            "object_position": null,
            "order": null,
            "overflow": null,
            "overflow_x": null,
            "overflow_y": null,
            "padding": null,
            "right": null,
            "top": null,
            "visibility": null,
            "width": null
          }
        },
        "03bad3b5bb614880bb72ab506e64926f": {
          "model_module": "@jupyter-widgets/controls",
          "model_name": "DescriptionStyleModel",
          "model_module_version": "1.5.0",
          "state": {
            "_model_module": "@jupyter-widgets/controls",
            "_model_module_version": "1.5.0",
            "_model_name": "DescriptionStyleModel",
            "_view_count": null,
            "_view_module": "@jupyter-widgets/base",
            "_view_module_version": "1.2.0",
            "_view_name": "StyleView",
            "description_width": ""
          }
        },
        "39ae26a8f1ad4f86be52f9f442d4e9fe": {
          "model_module": "@jupyter-widgets/base",
          "model_name": "LayoutModel",
          "model_module_version": "1.2.0",
          "state": {
            "_model_module": "@jupyter-widgets/base",
            "_model_module_version": "1.2.0",
            "_model_name": "LayoutModel",
            "_view_count": null,
            "_view_module": "@jupyter-widgets/base",
            "_view_module_version": "1.2.0",
            "_view_name": "LayoutView",
            "align_content": null,
            "align_items": null,
            "align_self": null,
            "border": null,
            "bottom": null,
            "display": null,
            "flex": null,
            "flex_flow": null,
            "grid_area": null,
            "grid_auto_columns": null,
            "grid_auto_flow": null,
            "grid_auto_rows": null,
            "grid_column": null,
            "grid_gap": null,
            "grid_row": null,
            "grid_template_areas": null,
            "grid_template_columns": null,
            "grid_template_rows": null,
            "height": null,
            "justify_content": null,
            "justify_items": null,
            "left": null,
            "margin": null,
            "max_height": null,
            "max_width": null,
            "min_height": null,
            "min_width": null,
            "object_fit": null,
            "object_position": null,
            "order": null,
            "overflow": null,
            "overflow_x": null,
            "overflow_y": null,
            "padding": null,
            "right": null,
            "top": null,
            "visibility": null,
            "width": null
          }
        },
        "569075d84aba4629bdbfe1679c40fdd8": {
          "model_module": "@jupyter-widgets/controls",
          "model_name": "ProgressStyleModel",
          "model_module_version": "1.5.0",
          "state": {
            "_model_module": "@jupyter-widgets/controls",
            "_model_module_version": "1.5.0",
            "_model_name": "ProgressStyleModel",
            "_view_count": null,
            "_view_module": "@jupyter-widgets/base",
            "_view_module_version": "1.2.0",
            "_view_name": "StyleView",
            "bar_color": null,
            "description_width": ""
          }
        },
        "fe44dec4cddb4ca29fc4cb657ea90f27": {
          "model_module": "@jupyter-widgets/base",
          "model_name": "LayoutModel",
          "model_module_version": "1.2.0",
          "state": {
            "_model_module": "@jupyter-widgets/base",
            "_model_module_version": "1.2.0",
            "_model_name": "LayoutModel",
            "_view_count": null,
            "_view_module": "@jupyter-widgets/base",
            "_view_module_version": "1.2.0",
            "_view_name": "LayoutView",
            "align_content": null,
            "align_items": null,
            "align_self": null,
            "border": null,
            "bottom": null,
            "display": null,
            "flex": null,
            "flex_flow": null,
            "grid_area": null,
            "grid_auto_columns": null,
            "grid_auto_flow": null,
            "grid_auto_rows": null,
            "grid_column": null,
            "grid_gap": null,
            "grid_row": null,
            "grid_template_areas": null,
            "grid_template_columns": null,
            "grid_template_rows": null,
            "height": null,
            "justify_content": null,
            "justify_items": null,
            "left": null,
            "margin": null,
            "max_height": null,
            "max_width": null,
            "min_height": null,
            "min_width": null,
            "object_fit": null,
            "object_position": null,
            "order": null,
            "overflow": null,
            "overflow_x": null,
            "overflow_y": null,
            "padding": null,
            "right": null,
            "top": null,
            "visibility": null,
            "width": null
          }
        },
        "ff3c4fa1825b4e64bc8fbe3969cb5657": {
          "model_module": "@jupyter-widgets/controls",
          "model_name": "DescriptionStyleModel",
          "model_module_version": "1.5.0",
          "state": {
            "_model_module": "@jupyter-widgets/controls",
            "_model_module_version": "1.5.0",
            "_model_name": "DescriptionStyleModel",
            "_view_count": null,
            "_view_module": "@jupyter-widgets/base",
            "_view_module_version": "1.2.0",
            "_view_name": "StyleView",
            "description_width": ""
          }
        }
      }
    }
  },
  "cells": [
    {
      "cell_type": "markdown",
      "metadata": {
        "id": "view-in-github",
        "colab_type": "text"
      },
      "source": [
        "<a href=\"https://colab.research.google.com/github/tayfunai/CNN-IMAGE-CLASSIFICATION-MODELS/blob/main/VGG_19.ipynb\" target=\"_parent\"><img src=\"https://colab.research.google.com/assets/colab-badge.svg\" alt=\"Open In Colab\"/></a>"
      ]
    },
    {
      "cell_type": "markdown",
      "source": [
        "## 1. VGG-19 Image Classification on CIFAR-10"
      ],
      "metadata": {
        "id": "gEwKrWLv2TV9"
      }
    },
    {
      "cell_type": "markdown",
      "source": [
        "### 1. Imports"
      ],
      "metadata": {
        "id": "Pg76wTn92Y95"
      }
    },
    {
      "cell_type": "code",
      "execution_count": null,
      "metadata": {
        "id": "yKTySpXQ2BF6"
      },
      "outputs": [],
      "source": [
        "import os\n",
        "import time\n",
        "\n",
        "import pandas as pd\n",
        "import numpy as np\n",
        "\n",
        "import torch\n",
        "from torch import nn\n",
        "from torch.utils.data import DataLoader\n",
        "import torch.nn.functional as F\n",
        "\n",
        "from torchvision import datasets\n",
        "from torchvision import transforms\n",
        "\n",
        "import matplotlib.pyplot as plt\n",
        "from PIL import Image"
      ]
    },
    {
      "cell_type": "markdown",
      "source": [
        "### 2. Model Settings"
      ],
      "metadata": {
        "id": "LbAmjCPm3hdz"
      }
    },
    {
      "cell_type": "code",
      "source": [
        "### SETTINGS ####\n",
        "\n",
        "# hyperparameters\n",
        "RANDOM_SEED = 1\n",
        "LEARNING_RATE = 0.001\n",
        "BATCH_SIZE = 256\n",
        "NUM_EPOCHS = 20\n",
        "\n",
        "# Architecture\n",
        "NUM_FEATURES = 32*32*3\n",
        "NUM_CLASSES = 10\n",
        "IN_CHANNELS = 3\n",
        "\n",
        "#Other\n",
        "DEVICE = \"cuda\" if torch.cuda.is_available else 'cpu'"
      ],
      "metadata": {
        "id": "bU_84Q9i3bPv"
      },
      "execution_count": null,
      "outputs": []
    },
    {
      "cell_type": "markdown",
      "source": [
        "### 3.CIFAR-10 Dataset\n"
      ],
      "metadata": {
        "id": "YF8zSUE14_LV"
      }
    },
    {
      "cell_type": "code",
      "source": [
        "train_transform = transforms.Compose([\n",
        "    transforms.RandomHorizontalFlip(),\n",
        "    transforms.RandomCrop(32, padding=4),\n",
        "    transforms.ToTensor()\n",
        "])\n",
        "\n",
        "transform_test = transforms.Compose([\n",
        "    transforms.ToTensor()\n",
        "])"
      ],
      "metadata": {
        "id": "3JpuCSPskA7L"
      },
      "execution_count": null,
      "outputs": []
    },
    {
      "cell_type": "code",
      "source": [
        "train_dataset = datasets.CIFAR10(\n",
        "    root='data',\n",
        "    train=True,\n",
        "    transform=train_transform,\n",
        "    download=True)\n",
        "\n",
        "test_dataset = datasets.CIFAR10(\n",
        "    root='data',\n",
        "    train=False,\n",
        "    transform=transform_test,\n",
        ")\n",
        "\n",
        "train_loader = DataLoader(\n",
        "    dataset=train_dataset,\n",
        "    batch_size=BATCH_SIZE,\n",
        "    num_workers=2,\n",
        "    shuffle=True\n",
        ")\n",
        "\n",
        "test_loader = DataLoader(\n",
        "    dataset=test_dataset,\n",
        "    batch_size=BATCH_SIZE,\n",
        "    num_workers=2,\n",
        "    shuffle=False\n",
        ")\n",
        "\n",
        "# Checking the dataset\n",
        "\n",
        "for images, labels in train_loader:\n",
        "  print(f'Images batch demension: {images.shape}')\n",
        "  print(f'Labels batch demension: {labels.shape}')\n",
        "  break\n",
        "\n",
        "for images, labels in test_loader:\n",
        "  print(f'Images batch demension: {images.shape}')\n",
        "  print(f'Labels batch demension: {labels.shape}')\n",
        "  break"
      ],
      "metadata": {
        "colab": {
          "base_uri": "https://localhost:8080/"
        },
        "id": "gA8z9afg5z9E",
        "outputId": "37e01438-705f-4bfe-974c-c1a41e2c11b6"
      },
      "execution_count": null,
      "outputs": [
        {
          "output_type": "stream",
          "name": "stdout",
          "text": [
            "Images batch demension: torch.Size([256, 3, 32, 32])\n",
            "Labels batch demension: torch.Size([256])\n",
            "Images batch demension: torch.Size([256, 3, 32, 32])\n",
            "Labels batch demension: torch.Size([256])\n"
          ]
        }
      ]
    },
    {
      "cell_type": "code",
      "source": [
        "device = torch.device(DEVICE)\n",
        "\n",
        "torch.manual_seed(0)\n",
        "\n",
        "for epoch in range(2):\n",
        "  for batch_idx, (x, y) in enumerate(train_loader):\n",
        "    print('Epoch:', epoch+1, end='')\n",
        "    print(' | Batch index:', batch_idx, end='')\n",
        "    print(' | Batch size:', y.size()[0])\n",
        "    try:\n",
        "      x = x.to(device)\n",
        "      y = y.to(device)\n",
        "    except:\n",
        "      pass\n",
        "\n",
        "    break"
      ],
      "metadata": {
        "colab": {
          "base_uri": "https://localhost:8080/"
        },
        "id": "M5jV1b28590w",
        "outputId": "1564e71d-93b8-4139-c92d-216063fd8fdc"
      },
      "execution_count": null,
      "outputs": [
        {
          "output_type": "stream",
          "name": "stdout",
          "text": [
            "Epoch: 1 | Batch index: 0 | Batch size: 256\n",
            "Epoch: 2 | Batch index: 0 | Batch size: 256\n"
          ]
        }
      ]
    },
    {
      "cell_type": "markdown",
      "source": [
        "### 4. MODEL ARCHITECTURE"
      ],
      "metadata": {
        "id": "iO5f2SUPALps"
      }
    },
    {
      "cell_type": "code",
      "source": [
        "## MODEL ##\n",
        "\n",
        "class VGG19(nn.Module):\n",
        "  def __init__(self, in_channels, num_classes):\n",
        "    super(VGG19, self).__init__()\n",
        "\n",
        "    self.in_channels = in_channels\n",
        "    self.num_classes = num_classes\n",
        "\n",
        "    self.features = nn.Sequential(\n",
        "        nn.Conv2d(in_channels, 64, kernel_size=3, stride=1, padding=1),\n",
        "        nn.BatchNorm2d(64),\n",
        "        nn.ReLU(),\n",
        "\n",
        "        nn.Conv2d(64, 64, kernel_size=3, stride=1, padding=1),\n",
        "        nn.BatchNorm2d(64),\n",
        "        nn.ReLU(),\n",
        "        nn.MaxPool2d(kernel_size=2, stride=2),\n",
        "\n",
        "        nn.Conv2d(64, 128, kernel_size=3, stride=1, padding=1),\n",
        "        nn.BatchNorm2d(128),\n",
        "        nn.ReLU(),\n",
        "\n",
        "        nn.Conv2d(128, 128, kernel_size=3, stride=1, padding=1),\n",
        "        nn.BatchNorm2d(128),\n",
        "        nn.ReLU(),\n",
        "        nn.MaxPool2d(kernel_size=2, stride=2),\n",
        "\n",
        "        nn.Conv2d(128, 256, kernel_size=3, stride=1, padding=1),\n",
        "        nn.BatchNorm2d(256),\n",
        "        nn.ReLU(),\n",
        "\n",
        "        nn.Conv2d(256, 256, kernel_size=3, stride=1, padding=1),\n",
        "        nn.BatchNorm2d(256),\n",
        "        nn.ReLU(),\n",
        "\n",
        "        nn.Conv2d(256, 256, kernel_size=3, stride=1, padding=1),\n",
        "        nn.BatchNorm2d(256),\n",
        "        nn.ReLU(),\n",
        "\n",
        "        nn.Conv2d(256, 256, kernel_size=3, stride=1, padding=1),\n",
        "        nn.BatchNorm2d(256),\n",
        "        nn.ReLU(),\n",
        "        nn.MaxPool2d(kernel_size=2, stride=2),\n",
        "\n",
        "        nn.Conv2d(256, 512, kernel_size=3, stride=1, padding=1),\n",
        "        nn.BatchNorm2d(512),\n",
        "        nn.ReLU(),\n",
        "\n",
        "        nn.Conv2d(512, 512, kernel_size=3, stride=1, padding=1),\n",
        "        nn.BatchNorm2d(512),\n",
        "        nn.ReLU(),\n",
        "\n",
        "\n",
        "        nn.Conv2d(512, 512, kernel_size=3, stride=1, padding=1),\n",
        "        nn.BatchNorm2d(512),\n",
        "        nn.ReLU(),\n",
        "\n",
        "        nn.Conv2d(512, 512, kernel_size=3, stride=1, padding=1),\n",
        "        nn.BatchNorm2d(512),\n",
        "        nn.ReLU(),\n",
        "        nn.MaxPool2d(kernel_size=2, stride=2),\n",
        "\n",
        "        nn.Conv2d(512, 512, kernel_size=3, stride=1, padding=1),\n",
        "        nn.BatchNorm2d(512),\n",
        "        nn.ReLU(),\n",
        "\n",
        "        nn.Conv2d(512, 512, kernel_size=3, stride=1, padding=1),\n",
        "        nn.BatchNorm2d(512),\n",
        "        nn.ReLU(),\n",
        "\n",
        "        nn.Conv2d(512, 512, kernel_size=3, stride=1, padding=1),\n",
        "        nn.BatchNorm2d(512),\n",
        "        nn.ReLU(),\n",
        "\n",
        "        nn.Conv2d(512, 512, kernel_size=3, stride=1, padding=1),\n",
        "        nn.BatchNorm2d(512),\n",
        "        nn.ReLU(),\n",
        "        nn.MaxPool2d(kernel_size=2, stride=2),\n",
        "    )\n",
        "\n",
        "    self.fc = nn.Sequential(\n",
        "        nn.Dropout(0.5),\n",
        "        nn.Linear(512*1*1, 4096),\n",
        "        nn.ReLU(),\n",
        "\n",
        "        nn.Dropout(0.5),\n",
        "        nn.Linear(4096, 4096),\n",
        "        nn.ReLU(),\n",
        "        nn.Linear(4096, num_classes)\n",
        "    )\n",
        "\n",
        "  def forward(self, x):\n",
        "    x = self.features(x)\n",
        "    x = x.view(x.size(0), -1)\n",
        "    logits = self.fc(x)\n",
        "    # probas = F.softmax(logits, dim=1)\n",
        "\n",
        "    return logits\n"
      ],
      "metadata": {
        "id": "rTJZsYt7_345"
      },
      "execution_count": null,
      "outputs": []
    },
    {
      "cell_type": "markdown",
      "source": [
        "### 4. Model Training and Evaluation"
      ],
      "metadata": {
        "id": "Ew98Tq-pOaZ6"
      }
    },
    {
      "cell_type": "code",
      "source": [
        "!pip install torchinfo"
      ],
      "metadata": {
        "colab": {
          "base_uri": "https://localhost:8080/"
        },
        "id": "WrCA85DZONdN",
        "outputId": "2534c1db-86fa-473c-c8a6-dbebdd63ae17"
      },
      "execution_count": null,
      "outputs": [
        {
          "output_type": "stream",
          "name": "stdout",
          "text": [
            "Requirement already satisfied: torchinfo in /usr/local/lib/python3.11/dist-packages (1.8.0)\n"
          ]
        }
      ]
    },
    {
      "cell_type": "code",
      "source": [
        "from torchinfo import summary"
      ],
      "metadata": {
        "id": "5keVPolnXl1s"
      },
      "execution_count": null,
      "outputs": []
    },
    {
      "cell_type": "markdown",
      "source": [
        "#### 4.1 Create train and test loop functions"
      ],
      "metadata": {
        "id": "S-7c3GDjaVcS"
      }
    },
    {
      "cell_type": "code",
      "source": [
        "def train_step(model: torch.nn.Module,\n",
        "               dataloader: torch.utils.data.DataLoader,\n",
        "               loss_fn: torch.nn.Module,\n",
        "               optimizer: torch.optim.Optimizer):\n",
        "\n",
        "  #Put model in train mode\n",
        "  model.train()\n",
        "  model = model.to(DEVICE)\n",
        "  # Setup train loss and train accuracy values\n",
        "  train_loss, train_acc = 0, 0\n",
        "\n",
        "  # Loop through data loader data batches\n",
        "  for batch, (X, y) in enumerate(dataloader):\n",
        "    # Send data to target device\n",
        "    X, y = X.to(DEVICE), y.to(DEVICE)\n",
        "\n",
        "    # 1. Forward pass\n",
        "    y_pred = model(X)\n",
        "\n",
        "    # 2. Calculate and accumulate loss\n",
        "    loss = loss_fn(y_pred, y)\n",
        "    train_loss += loss.item()\n",
        "\n",
        "    # 3. Optimizer zero grad\n",
        "    optimizer.zero_grad()\n",
        "\n",
        "    # 4. Loss backward\n",
        "    loss.backward()\n",
        "\n",
        "    # 5. Optimizer step\n",
        "    optimizer.step()\n",
        "\n",
        "    # Calculate and accumulate accuracy metrics accross all batches\n",
        "    y_pred_class = torch.argmax(torch.softmax(y_pred, dim=1), dim=1)\n",
        "    train_acc  += (y_pred_class == y).sum().item()/len(y_pred)\n",
        "\n",
        "  # Adjust metrics to get average loss and accuracy per batch\n",
        "  train_loss = train_loss / len(dataloader)\n",
        "  train_acc = train_acc / len(dataloader)\n",
        "  return train_loss, train_acc"
      ],
      "metadata": {
        "id": "CIE2ioEmaUIi"
      },
      "execution_count": null,
      "outputs": []
    },
    {
      "cell_type": "code",
      "source": [
        "def test_step(\n",
        "    model: torch.nn.Module,\n",
        "    dataloader: torch.utils.data.DataLoader,\n",
        "    loss_fn: torch.nn.Module,):\n",
        "  # Put model in eval mode\n",
        "  model.eval()\n",
        "  model = model.to(DEVICE)\n",
        "  # Set up test loss and test accuracy values\n",
        "  test_loss, test_acc = 0, 0\n",
        "\n",
        "  # Turn on infernece context manager\n",
        "  with torch.inference_mode():\n",
        "    # Loop through DataLoder batches\n",
        "    for batch, (X, y) in enumerate(dataloader):\n",
        "      # Send data to target device\n",
        "      X, y = X.to(DEVICE), y.to(DEVICE)\n",
        "\n",
        "\n",
        "      # 1. Forward pass\n",
        "      test_pred_logits = model(X)\n",
        "\n",
        "      # 2. Calculate and accumulate loss\n",
        "      loss = loss_fn(test_pred_logits, y)\n",
        "      test_loss += loss.item()\n",
        "\n",
        "      # Calculate and accumulate accuracy\n",
        "      test_pred_labels = test_pred_logits.argmax(dim=1)\n",
        "      test_acc += (test_pred_labels == y).sum().item()/len(test_pred_labels)\n",
        "\n",
        "    # Adjust metrics to get avarage loss and accuracy per batch\n",
        "    test_loss = test_loss / len(dataloader)\n",
        "    test_acc = test_acc / len(dataloader)\n",
        "\n",
        "    return test_loss, test_acc\n",
        "\n"
      ],
      "metadata": {
        "id": "L5wv4LAnaUqX"
      },
      "execution_count": null,
      "outputs": []
    },
    {
      "cell_type": "code",
      "source": [
        "# we use tqdm to add progress bar while training\n",
        "!pip install tqdm\n",
        "from tqdm.auto import tqdm"
      ],
      "metadata": {
        "colab": {
          "base_uri": "https://localhost:8080/"
        },
        "id": "bNr87qTkWAFT",
        "outputId": "7520e6ac-b67f-46ab-e2aa-d396d506dc78"
      },
      "execution_count": null,
      "outputs": [
        {
          "output_type": "stream",
          "name": "stdout",
          "text": [
            "Requirement already satisfied: tqdm in /usr/local/lib/python3.11/dist-packages (4.67.1)\n"
          ]
        }
      ]
    },
    {
      "cell_type": "code",
      "source": [
        "# Create a train() by combining train_step() and test_step()\n",
        "def train(model: torch.nn.Module,\n",
        "          train_dataloader: torch.utils.data.DataLoader,\n",
        "          test_dataloader: torch.utils.data.DataLoader,\n",
        "          loss_fn: torch.nn.Module,\n",
        "          optimizer: torch.optim.Optimizer,\n",
        "          epochs: int):\n",
        "  # 1. Create empty results dictionary\n",
        "  results = {\n",
        "      \"train_loss\": [],\n",
        "      \"train_acc\": [],\n",
        "      \"test_loss\": [],\n",
        "      \"test_acc\": []\n",
        "  }\n",
        "\n",
        "  # 2. Loop through training and teting steps for a number of epochs\n",
        "  for epoch in tqdm(range(epochs)):\n",
        "    train_loss, train_acc = train_step(model=model,\n",
        "                                       dataloader=train_dataloader,\n",
        "                                       loss_fn=loss_fn,\n",
        "                                       optimizer=optimizer)\n",
        "    test_loss, test_acc = test_step(model=model,\n",
        "                                    dataloader=test_dataloader,\n",
        "                                    loss_fn=loss_fn)\n",
        "\n",
        "    # 4. Print out what's happenin\n",
        "    print(\n",
        "        f\"Epoch: {epoch+1} | \"\n",
        "        f\"train_loss: {train_loss:.4f} | \"\n",
        "        f\"train_acc: {train_acc:.4f} | \"\n",
        "        f\"test_loss: {test_loss:.4f} | \"\n",
        "        f\"test_acc: {test_acc:.4f}\"\n",
        "    )\n",
        "\n",
        "    # 5. Update results dictionary\n",
        "    # I have to make sure all data is moved to CPU and converted to float for storage\n",
        "    results[\"train_loss\"].append(train_loss.item() if isinstance(train_loss, torch.Tensor) else train_loss)\n",
        "    results[\"train_acc\"].append(train_acc.item() if isinstance(train_acc, torch.Tensor) else train_acc)\n",
        "    results[\"test_loss\"].append(test_loss.item() if isinstance(test_loss, torch.Tensor) else test_loss)\n",
        "    results[\"test_acc\"].append(test_acc.item() if isinstance(test_acc, torch.Tensor) else test_acc)\n",
        "\n",
        "  # 6. return filled results at the end of the epoch\n",
        "  return results\n"
      ],
      "metadata": {
        "id": "Rq4nBPJpUOm-"
      },
      "execution_count": null,
      "outputs": []
    },
    {
      "cell_type": "markdown",
      "source": [
        "#### 4.2 training and evaluating model"
      ],
      "metadata": {
        "id": "bXCq_OT0YG9E"
      }
    },
    {
      "cell_type": "code",
      "source": [
        "# Set random seeds\n",
        "torch.manual_seed(RANDOM_SEED)\n",
        "torch.cuda.manual_seed(RANDOM_SEED)\n",
        "\n",
        "# Recreate an instance of VGG19\n",
        "model = VGG19(IN_CHANNELS, NUM_CLASSES)\n",
        "\n",
        "# Move our model to target device\n",
        "model = model.to(DEVICE)\n",
        "\n",
        "# Set up loss function and optimizer\n",
        "\n",
        "optimizer = torch.optim.SGD(model.parameters(), lr=LEARNING_RATE)\n",
        "loss_fn = torch.nn.CrossEntropyLoss()\n",
        "\n",
        "# Start the timer\n",
        "from timeit import default_timer as timer\n",
        "start_time = timer()\n",
        "\n",
        "# Train model\n",
        "model_results = train(model,\n",
        "                      train_dataloader=train_loader,\n",
        "                      test_dataloader=test_loader,\n",
        "                      optimizer=optimizer,\n",
        "                      loss_fn=loss_fn,\n",
        "                      epochs=NUM_EPOCHS)\n",
        "\n",
        "# End the timer and print out how long it took\n",
        "end_time = timer()\n",
        "print(f\"Total training time: {end_time-start_time:.3f} seconds\")"
      ],
      "metadata": {
        "id": "teaOeZg6BdS3"
      },
      "execution_count": null,
      "outputs": []
    },
    {
      "cell_type": "code",
      "source": [
        "model"
      ],
      "metadata": {
        "colab": {
          "base_uri": "https://localhost:8080/"
        },
        "id": "93mbnFj7vhdy",
        "outputId": "6b3b4c8e-5235-4c4b-bf99-88dd78723fec"
      },
      "execution_count": null,
      "outputs": [
        {
          "output_type": "execute_result",
          "data": {
            "text/plain": [
              "VGG19(\n",
              "  (features): Sequential(\n",
              "    (0): Conv2d(3, 64, kernel_size=(3, 3), stride=(1, 1), padding=(1, 1))\n",
              "    (1): BatchNorm2d(64, eps=1e-05, momentum=0.1, affine=True, track_running_stats=True)\n",
              "    (2): ReLU()\n",
              "    (3): Conv2d(64, 64, kernel_size=(3, 3), stride=(1, 1), padding=(1, 1))\n",
              "    (4): BatchNorm2d(64, eps=1e-05, momentum=0.1, affine=True, track_running_stats=True)\n",
              "    (5): ReLU()\n",
              "    (6): MaxPool2d(kernel_size=2, stride=2, padding=0, dilation=1, ceil_mode=False)\n",
              "    (7): Conv2d(64, 128, kernel_size=(3, 3), stride=(1, 1), padding=(1, 1))\n",
              "    (8): BatchNorm2d(128, eps=1e-05, momentum=0.1, affine=True, track_running_stats=True)\n",
              "    (9): ReLU()\n",
              "    (10): Conv2d(128, 128, kernel_size=(3, 3), stride=(1, 1), padding=(1, 1))\n",
              "    (11): BatchNorm2d(128, eps=1e-05, momentum=0.1, affine=True, track_running_stats=True)\n",
              "    (12): ReLU()\n",
              "    (13): MaxPool2d(kernel_size=2, stride=2, padding=0, dilation=1, ceil_mode=False)\n",
              "    (14): Conv2d(128, 256, kernel_size=(3, 3), stride=(1, 1), padding=(1, 1))\n",
              "    (15): BatchNorm2d(256, eps=1e-05, momentum=0.1, affine=True, track_running_stats=True)\n",
              "    (16): ReLU()\n",
              "    (17): Conv2d(256, 256, kernel_size=(3, 3), stride=(1, 1), padding=(1, 1))\n",
              "    (18): BatchNorm2d(256, eps=1e-05, momentum=0.1, affine=True, track_running_stats=True)\n",
              "    (19): ReLU()\n",
              "    (20): Conv2d(256, 256, kernel_size=(3, 3), stride=(1, 1), padding=(1, 1))\n",
              "    (21): BatchNorm2d(256, eps=1e-05, momentum=0.1, affine=True, track_running_stats=True)\n",
              "    (22): ReLU()\n",
              "    (23): Conv2d(256, 256, kernel_size=(3, 3), stride=(1, 1), padding=(1, 1))\n",
              "    (24): BatchNorm2d(256, eps=1e-05, momentum=0.1, affine=True, track_running_stats=True)\n",
              "    (25): ReLU()\n",
              "    (26): MaxPool2d(kernel_size=2, stride=2, padding=0, dilation=1, ceil_mode=False)\n",
              "    (27): Conv2d(256, 512, kernel_size=(3, 3), stride=(1, 1), padding=(1, 1))\n",
              "    (28): BatchNorm2d(512, eps=1e-05, momentum=0.1, affine=True, track_running_stats=True)\n",
              "    (29): ReLU()\n",
              "    (30): Conv2d(512, 512, kernel_size=(3, 3), stride=(1, 1), padding=(1, 1))\n",
              "    (31): BatchNorm2d(512, eps=1e-05, momentum=0.1, affine=True, track_running_stats=True)\n",
              "    (32): ReLU()\n",
              "    (33): Conv2d(512, 512, kernel_size=(3, 3), stride=(1, 1), padding=(1, 1))\n",
              "    (34): BatchNorm2d(512, eps=1e-05, momentum=0.1, affine=True, track_running_stats=True)\n",
              "    (35): ReLU()\n",
              "    (36): Conv2d(512, 512, kernel_size=(3, 3), stride=(1, 1), padding=(1, 1))\n",
              "    (37): BatchNorm2d(512, eps=1e-05, momentum=0.1, affine=True, track_running_stats=True)\n",
              "    (38): ReLU()\n",
              "    (39): MaxPool2d(kernel_size=2, stride=2, padding=0, dilation=1, ceil_mode=False)\n",
              "    (40): Conv2d(512, 512, kernel_size=(3, 3), stride=(1, 1), padding=(1, 1))\n",
              "    (41): BatchNorm2d(512, eps=1e-05, momentum=0.1, affine=True, track_running_stats=True)\n",
              "    (42): ReLU()\n",
              "    (43): Conv2d(512, 512, kernel_size=(3, 3), stride=(1, 1), padding=(1, 1))\n",
              "    (44): BatchNorm2d(512, eps=1e-05, momentum=0.1, affine=True, track_running_stats=True)\n",
              "    (45): ReLU()\n",
              "    (46): Conv2d(512, 512, kernel_size=(3, 3), stride=(1, 1), padding=(1, 1))\n",
              "    (47): BatchNorm2d(512, eps=1e-05, momentum=0.1, affine=True, track_running_stats=True)\n",
              "    (48): ReLU()\n",
              "    (49): Conv2d(512, 512, kernel_size=(3, 3), stride=(1, 1), padding=(1, 1))\n",
              "    (50): BatchNorm2d(512, eps=1e-05, momentum=0.1, affine=True, track_running_stats=True)\n",
              "    (51): ReLU()\n",
              "    (52): MaxPool2d(kernel_size=2, stride=2, padding=0, dilation=1, ceil_mode=False)\n",
              "  )\n",
              "  (fc): Sequential(\n",
              "    (0): Dropout(p=0.5, inplace=False)\n",
              "    (1): Linear(in_features=512, out_features=4096, bias=True)\n",
              "    (2): ReLU()\n",
              "    (3): Dropout(p=0.5, inplace=False)\n",
              "    (4): Linear(in_features=4096, out_features=4096, bias=True)\n",
              "    (5): ReLU()\n",
              "    (6): Linear(in_features=4096, out_features=10, bias=True)\n",
              "  )\n",
              ")"
            ]
          },
          "metadata": {},
          "execution_count": 44
        }
      ]
    },
    {
      "cell_type": "markdown",
      "source": [
        "### 5. Plot the loss curves of Model"
      ],
      "metadata": {
        "id": "HZBLh_IS5G-v"
      }
    },
    {
      "cell_type": "code",
      "source": [
        "model_results.keys()"
      ],
      "metadata": {
        "colab": {
          "base_uri": "https://localhost:8080/"
        },
        "id": "tvf6BrVN4_xv",
        "outputId": "aaea1659-d3c3-4eb9-e93b-886a1358da7d"
      },
      "execution_count": null,
      "outputs": [
        {
          "output_type": "execute_result",
          "data": {
            "text/plain": [
              "dict_keys(['train_loss', 'train_acc', 'test_loss', 'test_acc'])"
            ]
          },
          "metadata": {},
          "execution_count": 45
        }
      ]
    },
    {
      "cell_type": "code",
      "source": [
        "from typing import Tuple, Dict, List\n",
        "\n",
        "def plot_loss_curves(results: Dict[str, List[float]]):\n",
        "\n",
        "  # Get the loss values of reults dictionary (training and test)\n",
        "  loss = results['train_loss']\n",
        "  test_loss = results['test_loss']\n",
        "\n",
        "  # Get the accuracy values of the results dictionary (training and test)\n",
        "  accuracy = results['train_acc']\n",
        "  test_accuracy = results['test_acc']\n",
        "\n",
        "  # Figure out how many epochs there were\n",
        "  epochs = range(len(results['train_loss']))\n",
        "\n",
        "  # Setup a plot\n",
        "  plt.figure(figsize=(15,7))\n",
        "\n",
        "  # Plot loss\n",
        "  plt.subplot(1, 2, 1)\n",
        "  plt.plot(epochs, loss, label='train_loss')\n",
        "  plt.plot(epochs, test_loss, label='test_loss')\n",
        "  plt.title('Loss')\n",
        "  plt.xlabel('Epochs')\n",
        "  plt.legend()\n",
        "\n",
        "  # Plot Accuracy\n",
        "  plt.subplot(1, 2, 2)\n",
        "  plt.plot(epochs, accuracy, label='train_accuracy')\n",
        "  plt.plot(epochs, test_accuracy, label='train_accuracy')\n",
        "  plt.title('Accuracy')\n",
        "  plt.xlabel('Epochs')\n",
        "  plt.legend();"
      ],
      "metadata": {
        "id": "bT4EnCXI5PRr"
      },
      "execution_count": null,
      "outputs": []
    },
    {
      "cell_type": "code",
      "source": [
        "plot_loss_curves(model_results)"
      ],
      "metadata": {
        "colab": {
          "base_uri": "https://localhost:8080/",
          "height": 553
        },
        "id": "FpaDVDnB6v6V",
        "outputId": "3254a612-96ba-4e00-f57e-0eadc2b350a8"
      },
      "execution_count": null,
      "outputs": [
        {
          "output_type": "display_data",
          "data": {
            "text/plain": [
              "<Figure size 1500x700 with 2 Axes>"
            ],
            "image/png": "[encoded data removed]"
          },
          "metadata": {}
        }
      ]
    },
    {
      "cell_type": "code",
      "source": [
        "import os\n",
        "\n",
        "# Define your path\n",
        "save_path = '/content/models_chest_xray/VGG19_tuned_state_dict.pth'\n",
        "\n",
        "# Create directory if it doesn't exist\n",
        "os.makedirs(os.path.dirname(save_path), exist_ok=True)\n",
        "\n",
        "# Save the model\n",
        "torch.save(model.state_dict(), save_path)\n"
      ],
      "metadata": {
        "id": "IsTZxw7p51FE"
      },
      "execution_count": null,
      "outputs": []
    },
    {
      "cell_type": "code",
      "source": [
        "save_path_model = '/content/models_chest_xray/VGG19_tuned.pth'\n",
        "# Create directory if it doesn't exist\n",
        "os.makedirs(os.path.dirname(save_path_model), exist_ok=True)\n",
        "torch.save(model, save_path_model)\n"
      ],
      "metadata": {
        "id": "NOmtNLu66w_C"
      },
      "execution_count": null,
      "outputs": []
    },
    {
      "cell_type": "code",
      "source": [
        "!zip -r my_models.zip /content/models_chest_xray\n"
      ],
      "metadata": {
        "colab": {
          "base_uri": "https://localhost:8080/"
        },
        "id": "A5qMukkC6Mbc",
        "outputId": "0e2d85d6-d676-440e-8b92-db0be202606f"
      },
      "execution_count": null,
      "outputs": [
        {
          "output_type": "stream",
          "name": "stdout",
          "text": [
            "  adding: content/models_chest_xray/ (stored 0%)\n",
            "  adding: content/models_chest_xray/VGG19_tuned.pth (deflated 6%)\n",
            "  adding: content/models_chest_xray/VGG19_tuned_state_dict.pth (deflated 6%)\n"
          ]
        }
      ]
    },
    {
      "cell_type": "code",
      "source": [
        "from google.colab import files\n",
        "files.download(\"my_models.zip\")\n"
      ],
      "metadata": {
        "colab": {
          "base_uri": "https://localhost:8080/",
          "height": 17
        },
        "id": "ZAunX4be6VUw",
        "outputId": "e8dad3a9-f587-4292-c111-8f5a1f15deb0"
      },
      "execution_count": null,
      "outputs": [
        {
          "output_type": "display_data",
          "data": {
            "text/plain": [
              "<IPython.core.display.Javascript object>"
            ],
            "application/javascript": [
              "\n",
              "    async function download(id, filename, size) {\n",
              "      if (!google.colab.kernel.accessAllowed) {\n",
              "        return;\n",
              "      }\n",
              "      const div = document.createElement('div');\n",
              "      const label = document.createElement('label');\n",
              "      label.textContent = `Downloading \"${filename}\": `;\n",
              "      div.appendChild(label);\n",
              "      const progress = document.createElement('progress');\n",
              "      progress.max = size;\n",
              "      div.appendChild(progress);\n",
              "      document.body.appendChild(div);\n",
              "\n",
              "      const buffers = [];\n",
              "      let downloaded = 0;\n",
              "\n",
              "      const channel = await google.colab.kernel.comms.open(id);\n",
              "      // Send a message to notify the kernel that we're ready.\n",
              "      channel.send({})\n",
              "\n",
              "      for await (const message of channel.messages) {\n",
              "        // Send a message to notify the kernel that we're ready.\n",
              "        channel.send({})\n",
              "        if (message.buffers) {\n",
              "          for (const buffer of message.buffers) {\n",
              "            buffers.push(buffer);\n",
              "            downloaded += buffer.byteLength;\n",
              "            progress.value = downloaded;\n",
              "          }\n",
              "        }\n",
              "      }\n",
              "      const blob = new Blob(buffers, {type: 'application/binary'});\n",
              "      const a = document.createElement('a');\n",
              "      a.href = window.URL.createObjectURL(blob);\n",
              "      a.download = filename;\n",
              "      div.appendChild(a);\n",
              "      a.click();\n",
              "      div.remove();\n",
              "    }\n",
              "  "
            ]
          },
          "metadata": {}
        },
        {
          "output_type": "display_data",
          "data": {
            "text/plain": [
              "<IPython.core.display.Javascript object>"
            ],
            "application/javascript": [
              "download(\"download_d978dc03-c22b-40cc-8398-4eb5f3c9e8b8\", \"my_models.zip\", 287627627)"
            ]
          },
          "metadata": {}
        }
      ]
    },
    {
      "cell_type": "code",
      "source": [
        "torch.save(model, save_path_model)\n"
      ],
      "metadata": {
        "id": "5c2Jjr0g2aHP"
      },
      "execution_count": null,
      "outputs": []
    },
    {
      "cell_type": "markdown",
      "source": [
        "## 2. Image Classification with VGG19 onChest X-Ray Images (Pneumonia) dataset"
      ],
      "metadata": {
        "id": "eHb9Th0G4Jzs"
      }
    },
    {
      "cell_type": "markdown",
      "source": [
        "### 0. MODEL SETTINGS"
      ],
      "metadata": {
        "id": "IhqoGnG8KscZ"
      }
    },
    {
      "cell_type": "code",
      "source": [
        "### SETTINGS ###\n",
        "#Hyperparameter\n",
        "import torch\n",
        "LEARNING_RATE = 0.001\n",
        "NUM_EPOCHS = 20\n",
        "BATCH_SIZE = 64\n",
        "\n",
        "# Architecture\n",
        "NUM_CLASSES = 2\n",
        "IN_CHANNELS = 3\n",
        "\n",
        "# Other\n",
        "DEVICE = 'cuda' if torch.cuda.is_available() else 'cpu'\n",
        "RANDOM_SEED = 42"
      ],
      "metadata": {
        "id": "kOuc7sOcKqNT"
      },
      "execution_count": null,
      "outputs": []
    },
    {
      "cell_type": "markdown",
      "source": [
        "### 1 Downloading dataset into chest_xray folder"
      ],
      "metadata": {
        "id": "Ctc5Q8kSD_O_"
      }
    },
    {
      "cell_type": "markdown",
      "source": [
        "You can find dataset from following link\n",
        "https://www.kaggle.com/datasets/paultimothymooney/chest-xray-pneumonia?resource=download"
      ],
      "metadata": {
        "id": "Zer63y2k7Zjl"
      }
    },
    {
      "cell_type": "code",
      "source": [
        "from google.colab import files\n",
        "files.upload()  # Upload the kaggle.json file here\n"
      ],
      "metadata": {
        "colab": {
          "base_uri": "https://localhost:8080/",
          "height": 90
        },
        "id": "C65kNtKt64qS",
        "outputId": "f7b43d57-7399-43dd-c9d6-82598022ca09"
      },
      "execution_count": null,
      "outputs": [
        {
          "output_type": "display_data",
          "data": {
            "text/plain": [
              "<IPython.core.display.HTML object>"
            ],
            "text/html": [
              "\n",
              "     <input type=\"file\" id=\"files-a55a1d0e-4f09-41c2-9fc7-cd933c5ec3bd\" name=\"files[]\" multiple disabled\n",
              "        style=\"border:none\" />\n",
              "     <output id=\"result-a55a1d0e-4f09-41c2-9fc7-cd933c5ec3bd\">\n",
              "      Upload widget is only available when the cell has been executed in the\n",
              "      current browser session. Please rerun this cell to enable.\n",
              "      </output>\n",
              "      <script>// Copyright 2017 Google LLC\n",
              "//\n",
              "// Licensed under the Apache License, Version 2.0 (the \"License\");\n",
              "// you may not use this file except in compliance with the License.\n",
              "// You may obtain a copy of the License at\n",
              "//\n",
              "//      http://www.apache.org/licenses/LICENSE-2.0\n",
              "//\n",
              "// Unless required by applicable law or agreed to in writing, software\n",
              "// distributed under the License is distributed on an \"AS IS\" BASIS,\n",
              "// WITHOUT WARRANTIES OR CONDITIONS OF ANY KIND, either express or implied.\n",
              "// See the License for the specific language governing permissions and\n",
              "// limitations under the License.\n",
              "\n",
              "/**\n",
              " * @fileoverview Helpers for google.colab Python module.\n",
              " */\n",
              "(function(scope) {\n",
              "function span(text, styleAttributes = {}) {\n",
              "  const element = document.createElement('span');\n",
              "  element.textContent = text;\n",
              "  for (const key of Object.keys(styleAttributes)) {\n",
              "    element.style[key] = styleAttributes[key];\n",
              "  }\n",
              "  return element;\n",
              "}\n",
              "\n",
              "// Max number of bytes which will be uploaded at a time.\n",
              "const MAX_PAYLOAD_SIZE = 100 * 1024;\n",
              "\n",
              "function _uploadFiles(inputId, outputId) {\n",
              "  const steps = uploadFilesStep(inputId, outputId);\n",
              "  const outputElement = document.getElementById(outputId);\n",
              "  // Cache steps on the outputElement to make it available for the next call\n",
              "  // to uploadFilesContinue from Python.\n",
              "  outputElement.steps = steps;\n",
              "\n",
              "  return _uploadFilesContinue(outputId);\n",
              "}\n",
              "\n",
              "// This is roughly an async generator (not supported in the browser yet),\n",
              "// where there are multiple asynchronous steps and the Python side is going\n",
              "// to poll for completion of each step.\n",
              "// This uses a Promise to block the python side on completion of each step,\n",
              "// then passes the result of the previous step as the input to the next step.\n",
              "function _uploadFilesContinue(outputId) {\n",
              "  const outputElement = document.getElementById(outputId);\n",
              "  const steps = outputElement.steps;\n",
              "\n",
              "  const next = steps.next(outputElement.lastPromiseValue);\n",
              "  return Promise.resolve(next.value.promise).then((value) => {\n",
              "    // Cache the last promise value to make it available to the next\n",
              "    // step of the generator.\n",
              "    outputElement.lastPromiseValue = value;\n",
              "    return next.value.response;\n",
              "  });\n",
              "}\n",
              "\n",
              "/**\n",
              " * Generator function which is called between each async step of the upload\n",
              " * process.\n",
              " * @param {string} inputId Element ID of the input file picker element.\n",
              " * @param {string} outputId Element ID of the output display.\n",
              " * @return {!Iterable<!Object>} Iterable of next steps.\n",
              " */\n",
              "function* uploadFilesStep(inputId, outputId) {\n",
              "  const inputElement = document.getElementById(inputId);\n",
              "  inputElement.disabled = false;\n",
              "\n",
              "  const outputElement = document.getElementById(outputId);\n",
              "  outputElement.innerHTML = '';\n",
              "\n",
              "  const pickedPromise = new Promise((resolve) => {\n",
              "    inputElement.addEventListener('change', (e) => {\n",
              "      resolve(e.target.files);\n",
              "    });\n",
              "  });\n",
              "\n",
              "  const cancel = document.createElement('button');\n",
              "  inputElement.parentElement.appendChild(cancel);\n",
              "  cancel.textContent = 'Cancel upload';\n",
              "  const cancelPromise = new Promise((resolve) => {\n",
              "    cancel.onclick = () => {\n",
              "      resolve(null);\n",
              "    };\n",
              "  });\n",
              "\n",
              "  // Wait for the user to pick the files.\n",
              "  const files = yield {\n",
              "    promise: Promise.race([pickedPromise, cancelPromise]),\n",
              "    response: {\n",
              "      action: 'starting',\n",
              "    }\n",
              "  };\n",
              "\n",
              "  cancel.remove();\n",
              "\n",
              "  // Disable the input element since further picks are not allowed.\n",
              "  inputElement.disabled = true;\n",
              "\n",
              "  if (!files) {\n",
              "    return {\n",
              "      response: {\n",
              "        action: 'complete',\n",
              "      }\n",
              "    };\n",
              "  }\n",
              "\n",
              "  for (const file of files) {\n",
              "    const li = document.createElement('li');\n",
              "    li.append(span(file.name, {fontWeight: 'bold'}));\n",
              "    li.append(span(\n",
              "        `(${file.type || 'n/a'}) - ${file.size} bytes, ` +\n",
              "        `last modified: ${\n",
              "            file.lastModifiedDate ? file.lastModifiedDate.toLocaleDateString() :\n",
              "                                    'n/a'} - `));\n",
              "    const percent = span('0% done');\n",
              "    li.appendChild(percent);\n",
              "\n",
              "    outputElement.appendChild(li);\n",
              "\n",
              "    const fileDataPromise = new Promise((resolve) => {\n",
              "      const reader = new FileReader();\n",
              "      reader.onload = (e) => {\n",
              "        resolve(e.target.result);\n",
              "      };\n",
              "      reader.readAsArrayBuffer(file);\n",
              "    });\n",
              "    // Wait for the data to be ready.\n",
              "    let fileData = yield {\n",
              "      promise: fileDataPromise,\n",
              "      response: {\n",
              "        action: 'continue',\n",
              "      }\n",
              "    };\n",
              "\n",
              "    // Use a chunked sending to avoid message size limits. See b/62115660.\n",
              "    let position = 0;\n",
              "    do {\n",
              "      const length = Math.min(fileData.byteLength - position, MAX_PAYLOAD_SIZE);\n",
              "      const chunk = new Uint8Array(fileData, position, length);\n",
              "      position += length;\n",
              "\n",
              "      const base64 = btoa(String.fromCharCode.apply(null, chunk));\n",
              "      yield {\n",
              "        response: {\n",
              "          action: 'append',\n",
              "          file: file.name,\n",
              "          data: base64,\n",
              "        },\n",
              "      };\n",
              "\n",
              "      let percentDone = fileData.byteLength === 0 ?\n",
              "          100 :\n",
              "          Math.round((position / fileData.byteLength) * 100);\n",
              "      percent.textContent = `${percentDone}% done`;\n",
              "\n",
              "    } while (position < fileData.byteLength);\n",
              "  }\n",
              "\n",
              "  // All done.\n",
              "  yield {\n",
              "    response: {\n",
              "      action: 'complete',\n",
              "    }\n",
              "  };\n",
              "}\n",
              "\n",
              "scope.google = scope.google || {};\n",
              "scope.google.colab = scope.google.colab || {};\n",
              "scope.google.colab._files = {\n",
              "  _uploadFiles,\n",
              "  _uploadFilesContinue,\n",
              "};\n",
              "})(self);\n",
              "</script> "
            ]
          },
          "metadata": {}
        },
        {
          "output_type": "stream",
          "name": "stdout",
          "text": [
            "Saving kaggle.json to kaggle.json\n"
          ]
        },
        {
          "output_type": "execute_result",
          "data": {
            "text/plain": [
              "{'kaggle.json': b'{\"username\":\"tayfun777\",\"key\":\"c2fde40ae8ecc583a03e4f993ccbc716\"}'}"
            ]
          },
          "metadata": {},
          "execution_count": 8
        }
      ]
    },
    {
      "cell_type": "code",
      "source": [
        "!mkdir -p ~/.kaggle\n",
        "!mv kaggle.json ~/.kaggle/\n",
        "!chmod 600 ~/.kaggle/kaggle.json\n"
      ],
      "metadata": {
        "id": "SV8YBA0kA_W6"
      },
      "execution_count": null,
      "outputs": []
    },
    {
      "cell_type": "code",
      "source": [
        "!pip install -q kaggle\n"
      ],
      "metadata": {
        "id": "1k2_7LfaBJCB"
      },
      "execution_count": null,
      "outputs": []
    },
    {
      "cell_type": "code",
      "source": [
        "!kaggle datasets download -d paultimothymooney/chest-xray-pneumonia -p /content --force"
      ],
      "metadata": {
        "colab": {
          "base_uri": "https://localhost:8080/"
        },
        "id": "QE3J996PBKTj",
        "outputId": "f64dcee2-a26f-4ac5-800f-d99381f6f082"
      },
      "execution_count": null,
      "outputs": [
        {
          "output_type": "stream",
          "name": "stdout",
          "text": [
            "Dataset URL: https://www.kaggle.com/datasets/paultimothymooney/chest-xray-pneumonia\n",
            "License(s): other\n",
            "Downloading chest-xray-pneumonia.zip to /content\n",
            "100% 2.28G/2.29G [00:31<00:00, 102MB/s] \n",
            "100% 2.29G/2.29G [00:32<00:00, 76.9MB/s]\n"
          ]
        }
      ]
    },
    {
      "cell_type": "code",
      "source": [
        "!unzip -q /content/chest-xray-pneumonia.zip -d /content/chest_xray_data"
      ],
      "metadata": {
        "id": "jwct5dQ-BVOp"
      },
      "execution_count": null,
      "outputs": []
    },
    {
      "cell_type": "code",
      "source": [
        "%cd /content/chest_xray_data/chest_xray"
      ],
      "metadata": {
        "id": "5B6Z_pTczT1a",
        "colab": {
          "base_uri": "https://localhost:8080/"
        },
        "outputId": "2378b61c-8191-451f-ad0d-f7e41818d4b2"
      },
      "execution_count": null,
      "outputs": [
        {
          "output_type": "stream",
          "name": "stdout",
          "text": [
            "/content/chest_xray_data/chest_xray\n"
          ]
        }
      ]
    },
    {
      "cell_type": "code",
      "source": [
        "%cd /content/chest_xray_data/chest_xray"
      ],
      "metadata": {
        "colab": {
          "base_uri": "https://localhost:8080/"
        },
        "id": "T9I2LDuYB4DL",
        "outputId": "7ba94380-c480-4d3e-b206-f9cc863fd7ae"
      },
      "execution_count": null,
      "outputs": [
        {
          "output_type": "stream",
          "name": "stdout",
          "text": [
            "/content/chest_xray_data/chest_xray\n"
          ]
        }
      ]
    },
    {
      "cell_type": "code",
      "source": [
        "%ls"
      ],
      "metadata": {
        "colab": {
          "base_uri": "https://localhost:8080/"
        },
        "id": "JhX9Tr5bDchf",
        "outputId": "e35121cd-b07f-4d4f-8e8f-f0ada179d23b"
      },
      "execution_count": null,
      "outputs": [
        {
          "output_type": "stream",
          "name": "stdout",
          "text": [
            "\u001b[0m\u001b[01;34mchest_xray\u001b[0m/  \u001b[01;34m__MACOSX\u001b[0m/  \u001b[01;34mtest\u001b[0m/  \u001b[01;34mtrain\u001b[0m/  \u001b[01;34mval\u001b[0m/\n"
          ]
        }
      ]
    },
    {
      "cell_type": "code",
      "source": [
        "!rm -rf /content/chest_xray_data/chest_xray/__MACOSX"
      ],
      "metadata": {
        "id": "7ew_AdIlzW5p"
      },
      "execution_count": null,
      "outputs": []
    },
    {
      "cell_type": "code",
      "source": [
        "!rm -rf /content/chest_xray_data/chest_xray/chest_xray"
      ],
      "metadata": {
        "id": "UG6ip8eEDdyu"
      },
      "execution_count": null,
      "outputs": []
    },
    {
      "cell_type": "code",
      "source": [
        "!mv /content/chest_xray_data/chest_xray /content/"
      ],
      "metadata": {
        "id": "7LAJOmSgDiIi"
      },
      "execution_count": null,
      "outputs": []
    },
    {
      "cell_type": "markdown",
      "source": [
        "### 2 Exploring dataset folders all images"
      ],
      "metadata": {
        "id": "THDw_T9KEFrn"
      }
    },
    {
      "cell_type": "code",
      "source": [
        "import os\n",
        "def walk_through_dir(dir_path):\n",
        "  print(dir_path)\n",
        "  for dirpath, dirnames, filnames in os.walk(dir_path):\n",
        "      print(dirpath)\n",
        "      print(f\"There are {len(dirnames)} directories and {len(filnames)} images in '{dirpath}'.\")\n"
      ],
      "metadata": {
        "id": "TsgqzRgEDr1y"
      },
      "execution_count": null,
      "outputs": []
    },
    {
      "cell_type": "code",
      "source": [
        "walk_through_dir('/content/chest_xray')"
      ],
      "metadata": {
        "colab": {
          "base_uri": "https://localhost:8080/"
        },
        "id": "YHLrBQBrEbbC",
        "outputId": "98646633-4346-4002-a9ab-e79d6f46f019"
      },
      "execution_count": null,
      "outputs": [
        {
          "output_type": "stream",
          "name": "stdout",
          "text": [
            "/content/chest_xray\n",
            "/content/chest_xray\n",
            "There are 3 directories and 0 images in '/content/chest_xray'.\n",
            "/content/chest_xray/train\n",
            "There are 2 directories and 0 images in '/content/chest_xray/train'.\n",
            "/content/chest_xray/train/NORMAL\n",
            "There are 0 directories and 1341 images in '/content/chest_xray/train/NORMAL'.\n",
            "/content/chest_xray/train/PNEUMONIA\n",
            "There are 0 directories and 3875 images in '/content/chest_xray/train/PNEUMONIA'.\n",
            "/content/chest_xray/val\n",
            "There are 2 directories and 0 images in '/content/chest_xray/val'.\n",
            "/content/chest_xray/val/NORMAL\n",
            "There are 0 directories and 8 images in '/content/chest_xray/val/NORMAL'.\n",
            "/content/chest_xray/val/PNEUMONIA\n",
            "There are 0 directories and 8 images in '/content/chest_xray/val/PNEUMONIA'.\n",
            "/content/chest_xray/test\n",
            "There are 2 directories and 0 images in '/content/chest_xray/test'.\n",
            "/content/chest_xray/test/NORMAL\n",
            "There are 0 directories and 234 images in '/content/chest_xray/test/NORMAL'.\n",
            "/content/chest_xray/test/PNEUMONIA\n",
            "There are 0 directories and 390 images in '/content/chest_xray/test/PNEUMONIA'.\n"
          ]
        }
      ]
    },
    {
      "cell_type": "code",
      "source": [
        "dir_path = '/content/chest_xray'\n",
        "train_dir =  os.path.join(dir_path, 'train')\n",
        "test_dir =  os.path.join(dir_path, 'test')\n",
        "val_dir =  os.path.join(dir_path, 'val')"
      ],
      "metadata": {
        "id": "1N2vMXzPFKgw"
      },
      "execution_count": null,
      "outputs": []
    },
    {
      "cell_type": "code",
      "source": [
        "train_dir\n",
        "import pathlib as pathlib"
      ],
      "metadata": {
        "id": "X--bgPyXFPfR"
      },
      "execution_count": null,
      "outputs": []
    },
    {
      "cell_type": "markdown",
      "source": [
        "### 3. Create a custom Dataset to replicate ImageFolder"
      ],
      "metadata": {
        "id": "7W03HdsiF2qy"
      }
    },
    {
      "cell_type": "code",
      "source": [
        "def find_classes(directory: str) -> Tuple[List[str], Dict[str, int]]:\n",
        "  \"\"\" finds the class folder names in a target directory\n",
        "      by scanning target directory\n",
        "  \"\"\"\n",
        "  classes = sorted(entry.name for entry in os.scandir(directory) if entry.is_dir())\n",
        "  class_to_idx = {cls_name: i for i, cls_name in enumerate(classes)}\n",
        "  return classes, class_to_idx\n"
      ],
      "metadata": {
        "id": "wq3JLQaFHA7V"
      },
      "execution_count": null,
      "outputs": []
    },
    {
      "cell_type": "code",
      "source": [
        "# Write a custom dataset\n",
        "from torch.utils.data import Dataset\n",
        "\n",
        "# 1. Subclass a torch.utils.data.Dataset\n",
        "class ImageFolderCustom(Dataset):\n",
        "\n",
        "  # 2. Initialize our custom dataset\n",
        "  def __init__(self,\n",
        "               targ_dir: str,\n",
        "               transform=None):\n",
        "    # 3. Create class attributes\n",
        "    # Get all of the image path\n",
        "    self.paths = list(pathlib.Path(targ_dir).glob(\"*/*.jpeg\"))\n",
        "\n",
        "    # Setup transform\n",
        "    self.transform = transform\n",
        "\n",
        "    # Create classes and class_to_index attributes\n",
        "    self.classeses, self.class_to_idx = find_classes(targ_dir)\n",
        "\n",
        "  # 4. Create a function to load images\n",
        "  def load_image(self, index: int) -> Image.Image:\n",
        "    \"Opens and transforms an image into a PyTorch image\"\n",
        "    image_path = self.paths[index]\n",
        "    return Image.open(image_path)\n",
        "\n",
        "  # 5. Overwrite __len__()\n",
        "  def __len__(self) -> int:\n",
        "    return len(self.paths)\n",
        "\n",
        "  # 6. Overwrite __get_item() method to return a particular sample\n",
        "  def __getitem__(self, index: int) -> Tuple[torch.Tensor, int]:\n",
        "    img = self.load_image(index)\n",
        "    class_name = self.paths[index].parent.name\n",
        "    class_idx = self.class_to_idx[class_name]\n",
        "\n",
        "    # Transform if necessary\n",
        "    if self.transform:\n",
        "      return self.transform(img), class_idx\n",
        "    else:\n",
        "      return img, class_idx"
      ],
      "metadata": {
        "id": "GDnAjWUEFQ6v"
      },
      "execution_count": null,
      "outputs": []
    },
    {
      "cell_type": "code",
      "source": [
        "find_classes(train_dir)"
      ],
      "metadata": {
        "colab": {
          "base_uri": "https://localhost:8080/"
        },
        "id": "PWBxqEp4Fvgk",
        "outputId": "2a2bdaa4-87fe-4a57-fbfb-5d5096b1ce69"
      },
      "execution_count": null,
      "outputs": [
        {
          "output_type": "execute_result",
          "data": {
            "text/plain": [
              "(['NORMAL', 'PNEUMONIA'], {'NORMAL': 0, 'PNEUMONIA': 1})"
            ]
          },
          "metadata": {},
          "execution_count": 16
        }
      ]
    },
    {
      "cell_type": "code",
      "source": [
        "# Create a transform\n",
        "\n",
        "\"\"\"\n",
        "  For data aguemntation I used the types of image transformation given\n",
        "  following research paper\n",
        "  https://pmc.ncbi.nlm.nih.gov/articles/PMC10252226/\n",
        "\"\"\"\n",
        "\n",
        "train_transforms = transforms.Compose([\n",
        "    transforms.Lambda(lambda image: image.convert(\"RGB\")),\n",
        "    transforms.Resize(size=(32,32)),\n",
        "    transforms.RandomHorizontalFlip(p=0.5),\n",
        "    transforms.RandomRotation(degrees=15),\n",
        "    transforms.RandomVerticalFlip(p=0.5),\n",
        "    transforms.ColorJitter(brightness=0.2, contrast=0.2, saturation=0.2, hue=0.2),\n",
        "    transforms.ToTensor()\n",
        "])\n",
        "\n",
        "test_transforms = transforms.Compose([\n",
        "    transforms.Lambda(lambda image: image.convert(\"RGB\")),\n",
        "    transforms.Resize(size=(32,32)),\n",
        "    transforms.ToTensor()\n",
        "])\n",
        "val_transform = transforms.Compose([\n",
        "    transforms.Lambda(lambda image: image.convert(\"RGB\")),\n",
        "    transforms.Resize(size=(32,32)),\n",
        "    transforms.ToTensor()\n",
        "])\n"
      ],
      "metadata": {
        "id": "Mv6_fijxHQYA"
      },
      "execution_count": null,
      "outputs": []
    },
    {
      "cell_type": "code",
      "source": [
        "# Test out ImageFolderCustom\n",
        "train_data = ImageFolderCustom(train_dir, transform=train_transforms)\n",
        "test_data = ImageFolderCustom(test_dir, transform=test_transforms)\n",
        "val_data = ImageFolderCustom(val_dir, transform=val_transform)"
      ],
      "metadata": {
        "id": "LigyTkx0JDaL"
      },
      "execution_count": null,
      "outputs": []
    },
    {
      "cell_type": "code",
      "source": [
        "len(train_data), len(test_data), len(val_data)"
      ],
      "metadata": {
        "colab": {
          "base_uri": "https://localhost:8080/"
        },
        "id": "bUf9KymGJNiA",
        "outputId": "e4c3eea5-8f1e-4d0e-a6f2-abbeadead757"
      },
      "execution_count": null,
      "outputs": [
        {
          "output_type": "execute_result",
          "data": {
            "text/plain": [
              "(5216, 624, 16)"
            ]
          },
          "metadata": {},
          "execution_count": 19
        }
      ]
    },
    {
      "cell_type": "code",
      "source": [
        "BATCH_SIZE=64\n",
        "train_loader = DataLoader(\n",
        "    train_data,\n",
        "    batch_size=BATCH_SIZE,\n",
        "    shuffle=True)\n",
        "test_loader = DataLoader(\n",
        "    test_data,\n",
        "    batch_size=BATCH_SIZE,\n",
        "    shuffle=False)\n",
        "val_loader = DataLoader(\n",
        "    val_data,\n",
        "    batch_size=BATCH_SIZE,\n",
        "    shuffle=False)"
      ],
      "metadata": {
        "id": "mrELt_QoKGCO"
      },
      "execution_count": null,
      "outputs": []
    },
    {
      "cell_type": "code",
      "source": [
        "for batch_idx, (images, labels) in enumerate(train_loader):\n",
        "  print(images.shape, labels.shape)\n",
        "  break\n",
        "\n",
        "for batch_idx, (images, labels) in enumerate(test_loader):\n",
        "  print(images.shape, labels.shape)\n",
        "  break\n",
        "\n",
        "for batch_idx, (images, labels) in enumerate(val_loader):\n",
        "  print(images.shape, labels.shape)\n",
        "  break"
      ],
      "metadata": {
        "colab": {
          "base_uri": "https://localhost:8080/"
        },
        "id": "ASIf8n_6Kb6e",
        "outputId": "3de5ad49-341d-4c8b-a922-fe5a4a228bdf"
      },
      "execution_count": null,
      "outputs": [
        {
          "output_type": "stream",
          "name": "stdout",
          "text": [
            "torch.Size([64, 3, 32, 32]) torch.Size([64])\n",
            "torch.Size([64, 3, 32, 32]) torch.Size([64])\n",
            "torch.Size([16, 3, 32, 32]) torch.Size([16])\n"
          ]
        }
      ]
    },
    {
      "cell_type": "markdown",
      "source": [
        "### 4. Model training i use pretrained VGG19 model and transfer learning"
      ],
      "metadata": {
        "id": "ErL299Q-szjy"
      }
    },
    {
      "cell_type": "code",
      "source": [
        "## SETTING UP ##\n",
        "## IMPORTS ##\n",
        "\n",
        "import os, time\n",
        "from tempfile import TemporaryDirectory\n",
        "\n",
        "import numpy as np\n",
        "import pandas as pd\n",
        "from PIL import Image\n",
        "import matplotlib.pyplot as plt\n",
        "\n",
        "import torch\n",
        "import torchvision\n",
        "import torch.nn as nn\n",
        "import torch.optim as optim\n",
        "\n",
        "from torch.optim import lr_scheduler\n",
        "from torchvision import datasets, models, transforms\n",
        "from torch.utils.data import DataLoader, random_split\n",
        "\n"
      ],
      "metadata": {
        "id": "z7LkUbF5ssy6"
      },
      "execution_count": null,
      "outputs": []
    },
    {
      "cell_type": "code",
      "source": [
        "model = models.vgg19(pretrained=True)"
      ],
      "metadata": {
        "id": "bjbFqLtjKkz8",
        "colab": {
          "base_uri": "https://localhost:8080/"
        },
        "outputId": "db8c36dd-7d58-486d-9f07-ff7335a7efc0"
      },
      "execution_count": null,
      "outputs": [
        {
          "output_type": "stream",
          "name": "stderr",
          "text": [
            "/usr/local/lib/python3.11/dist-packages/torchvision/models/_utils.py:208: UserWarning: The parameter 'pretrained' is deprecated since 0.13 and may be removed in the future, please use 'weights' instead.\n",
            "  warnings.warn(\n",
            "/usr/local/lib/python3.11/dist-packages/torchvision/models/_utils.py:223: UserWarning: Arguments other than a weight enum or `None` for 'weights' are deprecated since 0.13 and may be removed in the future. The current behavior is equivalent to passing `weights=VGG19_Weights.IMAGENET1K_V1`. You can also use `weights=VGG19_Weights.DEFAULT` to get the most up-to-date weights.\n",
            "  warnings.warn(msg)\n"
          ]
        }
      ]
    },
    {
      "cell_type": "code",
      "source": [
        "NUM_CLASSES = 2\n",
        "# Modify the model head for fine-tuning\n",
        "model.classifier = nn.Sequential(\n",
        "  nn.Dropout(p=0.5, inplace=False),\n",
        "  nn.Linear(in_features=512*1*1, out_features=4096, bias=True),\n",
        "  nn.ReLU(),\n",
        "  nn.Dropout(p=0.5, inplace=False),\n",
        "  nn.Linear(in_features=4096, out_features=4096, bias=True),\n",
        "  nn.ReLU(),\n",
        "  nn.Linear(in_features=4096, out_features=2, bias=True)\n",
        ")\n",
        "model.avgpool = nn.AdaptiveAvgPool2d(output_size=(1, 1))"
      ],
      "metadata": {
        "id": "b6hEplsNwZtl"
      },
      "execution_count": null,
      "outputs": []
    },
    {
      "cell_type": "code",
      "source": [
        "# Define your optimizer with weight decay\n",
        "optimizer = optim.Adam(model.parameters(), lr=0.0001, weight_decay=0.0001)\n",
        "# Define the loss function - For classification problem\n",
        "loss_fn = nn.CrossEntropyLoss()"
      ],
      "metadata": {
        "id": "myaPg2cOxQiU"
      },
      "execution_count": null,
      "outputs": []
    },
    {
      "cell_type": "code",
      "source": [
        "# Freeze only the convolutional layers of the pre-trained model\n",
        "for param in model.parameters():\n",
        "    if isinstance(param, nn.Conv2d):\n",
        "        param.requires_grad = False"
      ],
      "metadata": {
        "id": "ameKXiTt3SG1"
      },
      "execution_count": null,
      "outputs": []
    },
    {
      "cell_type": "code",
      "source": [
        "DEVICE = 'cuda' if torch.cuda.is_available() else 'cpu'\n",
        "\n",
        "model = model.to(DEVICE)\n",
        "LEARNING_RATE = 0.001\n",
        "NUM_EPOCHS=30\n",
        "RANDOM_SEED = 42\n",
        "# Set random seeds\n",
        "torch.manual_seed(RANDOM_SEED)\n",
        "torch.cuda.manual_seed(RANDOM_SEED)\n",
        "\n",
        "\n",
        "\n",
        "# Start the timer\n",
        "from timeit import default_timer as timer\n",
        "start_time = timer()\n",
        "\n",
        "# Train model\n",
        "model_results = train(model,\n",
        "                      train_dataloader=train_loader,\n",
        "                      test_dataloader=test_loader,\n",
        "                      optimizer=optimizer,\n",
        "                      loss_fn=loss_fn,\n",
        "                      epochs=NUM_EPOCHS)\n",
        "\n",
        "# End the timer and print out how long it took\n",
        "end_time = timer()\n",
        "print(f\"Total training time: {end_time-start_time:.3f} seconds\")"
      ],
      "metadata": {
        "colab": {
          "base_uri": "https://localhost:8080/",
          "height": 587,
          "referenced_widgets": [
            "47d8ce2b7df94338b1ad201d717e7a7a",
            "22d0c89953df4ce7bbdcd22fe9e959d7",
            "e6b43ff75a7445a2b3ffc55f0a497fca",
            "ea2afdcde3954a06a5d5476d99a85557",
            "a7b73d201b6e4693ac5ea49294760d04",
            "8f0a77ec86964fef87bda76958e8eec8",
            "03bad3b5bb614880bb72ab506e64926f",
            "39ae26a8f1ad4f86be52f9f442d4e9fe",
            "569075d84aba4629bdbfe1679c40fdd8",
            "fe44dec4cddb4ca29fc4cb657ea90f27",
            "ff3c4fa1825b4e64bc8fbe3969cb5657"
          ]
        },
        "id": "nlE6mYE83bcV",
        "outputId": "ddefaed0-3e71-4ab0-e9f4-9ce8b7680138"
      },
      "execution_count": null,
      "outputs": [
        {
          "output_type": "display_data",
          "data": {
            "text/plain": [
              "  0%|          | 0/30 [00:00<?, ?it/s]"
            ],
            "application/vnd.jupyter.widget-view+json": {
              "version_major": 2,
              "version_minor": 0,
              "model_id": "47d8ce2b7df94338b1ad201d717e7a7a"
            }
          },
          "metadata": {}
        },
        {
          "output_type": "stream",
          "name": "stdout",
          "text": [
            "Epoch: 1 | train_loss: 0.2354 | train_acc: 0.9005 | test_loss: 0.4535 | test_acc: 0.8318\n",
            "Epoch: 2 | train_loss: 0.1429 | train_acc: 0.9503 | test_loss: 0.5102 | test_acc: 0.8234\n",
            "Epoch: 3 | train_loss: 0.0965 | train_acc: 0.9627 | test_loss: 1.1414 | test_acc: 0.7297\n",
            "Epoch: 4 | train_loss: 0.0963 | train_acc: 0.9647 | test_loss: 1.0749 | test_acc: 0.8422\n",
            "Epoch: 5 | train_loss: 0.0965 | train_acc: 0.9661 | test_loss: 0.5771 | test_acc: 0.8297\n",
            "Epoch: 6 | train_loss: 0.0878 | train_acc: 0.9680 | test_loss: 0.6024 | test_acc: 0.8557\n",
            "Epoch: 7 | train_loss: 0.0860 | train_acc: 0.9729 | test_loss: 0.6991 | test_acc: 0.8297\n",
            "Epoch: 8 | train_loss: 0.0755 | train_acc: 0.9728 | test_loss: 1.3900 | test_acc: 0.7453\n",
            "Epoch: 9 | train_loss: 0.0664 | train_acc: 0.9745 | test_loss: 1.0556 | test_acc: 0.8000\n",
            "Epoch: 10 | train_loss: 0.0772 | train_acc: 0.9693 | test_loss: 0.8651 | test_acc: 0.8094\n",
            "Epoch: 11 | train_loss: 0.0643 | train_acc: 0.9769 | test_loss: 0.9140 | test_acc: 0.7891\n",
            "Epoch: 12 | train_loss: 0.0793 | train_acc: 0.9707 | test_loss: 0.9309 | test_acc: 0.7937\n",
            "Epoch: 13 | train_loss: 0.0574 | train_acc: 0.9806 | test_loss: 0.6291 | test_acc: 0.8297\n",
            "Epoch: 14 | train_loss: 0.0584 | train_acc: 0.9804 | test_loss: 0.7657 | test_acc: 0.8078\n",
            "Epoch: 15 | train_loss: 0.0576 | train_acc: 0.9808 | test_loss: 1.3031 | test_acc: 0.7672\n",
            "Epoch: 16 | train_loss: 0.0544 | train_acc: 0.9809 | test_loss: 1.4866 | test_acc: 0.7359\n",
            "Epoch: 17 | train_loss: 0.0769 | train_acc: 0.9735 | test_loss: 0.8536 | test_acc: 0.7844\n",
            "Epoch: 18 | train_loss: 0.0725 | train_acc: 0.9743 | test_loss: 0.8497 | test_acc: 0.7844\n",
            "Epoch: 19 | train_loss: 0.0603 | train_acc: 0.9779 | test_loss: 0.7742 | test_acc: 0.7484\n",
            "Epoch: 20 | train_loss: 0.0524 | train_acc: 0.9806 | test_loss: 0.5850 | test_acc: 0.8609\n",
            "Epoch: 21 | train_loss: 0.0488 | train_acc: 0.9815 | test_loss: 1.6224 | test_acc: 0.7078\n",
            "Epoch: 22 | train_loss: 0.0519 | train_acc: 0.9811 | test_loss: 0.6896 | test_acc: 0.8375\n",
            "Epoch: 23 | train_loss: 0.0514 | train_acc: 0.9823 | test_loss: 0.9439 | test_acc: 0.7688\n",
            "Epoch: 24 | train_loss: 0.0520 | train_acc: 0.9809 | test_loss: 1.0581 | test_acc: 0.8125\n",
            "Epoch: 25 | train_loss: 0.0425 | train_acc: 0.9855 | test_loss: 1.0066 | test_acc: 0.7859\n",
            "Epoch: 26 | train_loss: 0.0536 | train_acc: 0.9809 | test_loss: 0.8151 | test_acc: 0.7766\n",
            "Epoch: 27 | train_loss: 0.0440 | train_acc: 0.9848 | test_loss: 1.4069 | test_acc: 0.7734\n",
            "Epoch: 28 | train_loss: 0.0448 | train_acc: 0.9842 | test_loss: 1.4183 | test_acc: 0.8047\n",
            "Epoch: 29 | train_loss: 0.0529 | train_acc: 0.9821 | test_loss: 0.3679 | test_acc: 0.8234\n",
            "Epoch: 30 | train_loss: 0.0484 | train_acc: 0.9802 | test_loss: 0.5507 | test_acc: 0.8250\n",
            "Total training time: 2547.499 seconds\n"
          ]
        }
      ]
    },
    {
      "cell_type": "code",
      "source": [
        "model"
      ],
      "metadata": {
        "id": "Ndr1_FzG4CEH",
        "colab": {
          "base_uri": "https://localhost:8080/"
        },
        "outputId": "0d909468-1abf-4459-a077-d3fbad60d5dc"
      },
      "execution_count": null,
      "outputs": [
        {
          "output_type": "execute_result",
          "data": {
            "text/plain": [
              "VGG(\n",
              "  (features): Sequential(\n",
              "    (0): Conv2d(3, 64, kernel_size=(3, 3), stride=(1, 1), padding=(1, 1))\n",
              "    (1): ReLU(inplace=True)\n",
              "    (2): Conv2d(64, 64, kernel_size=(3, 3), stride=(1, 1), padding=(1, 1))\n",
              "    (3): ReLU(inplace=True)\n",
              "    (4): MaxPool2d(kernel_size=2, stride=2, padding=0, dilation=1, ceil_mode=False)\n",
              "    (5): Conv2d(64, 128, kernel_size=(3, 3), stride=(1, 1), padding=(1, 1))\n",
              "    (6): ReLU(inplace=True)\n",
              "    (7): Conv2d(128, 128, kernel_size=(3, 3), stride=(1, 1), padding=(1, 1))\n",
              "    (8): ReLU(inplace=True)\n",
              "    (9): MaxPool2d(kernel_size=2, stride=2, padding=0, dilation=1, ceil_mode=False)\n",
              "    (10): Conv2d(128, 256, kernel_size=(3, 3), stride=(1, 1), padding=(1, 1))\n",
              "    (11): ReLU(inplace=True)\n",
              "    (12): Conv2d(256, 256, kernel_size=(3, 3), stride=(1, 1), padding=(1, 1))\n",
              "    (13): ReLU(inplace=True)\n",
              "    (14): Conv2d(256, 256, kernel_size=(3, 3), stride=(1, 1), padding=(1, 1))\n",
              "    (15): ReLU(inplace=True)\n",
              "    (16): Conv2d(256, 256, kernel_size=(3, 3), stride=(1, 1), padding=(1, 1))\n",
              "    (17): ReLU(inplace=True)\n",
              "    (18): MaxPool2d(kernel_size=2, stride=2, padding=0, dilation=1, ceil_mode=False)\n",
              "    (19): Conv2d(256, 512, kernel_size=(3, 3), stride=(1, 1), padding=(1, 1))\n",
              "    (20): ReLU(inplace=True)\n",
              "    (21): Conv2d(512, 512, kernel_size=(3, 3), stride=(1, 1), padding=(1, 1))\n",
              "    (22): ReLU(inplace=True)\n",
              "    (23): Conv2d(512, 512, kernel_size=(3, 3), stride=(1, 1), padding=(1, 1))\n",
              "    (24): ReLU(inplace=True)\n",
              "    (25): Conv2d(512, 512, kernel_size=(3, 3), stride=(1, 1), padding=(1, 1))\n",
              "    (26): ReLU(inplace=True)\n",
              "    (27): MaxPool2d(kernel_size=2, stride=2, padding=0, dilation=1, ceil_mode=False)\n",
              "    (28): Conv2d(512, 512, kernel_size=(3, 3), stride=(1, 1), padding=(1, 1))\n",
              "    (29): ReLU(inplace=True)\n",
              "    (30): Conv2d(512, 512, kernel_size=(3, 3), stride=(1, 1), padding=(1, 1))\n",
              "    (31): ReLU(inplace=True)\n",
              "    (32): Conv2d(512, 512, kernel_size=(3, 3), stride=(1, 1), padding=(1, 1))\n",
              "    (33): ReLU(inplace=True)\n",
              "    (34): Conv2d(512, 512, kernel_size=(3, 3), stride=(1, 1), padding=(1, 1))\n",
              "    (35): ReLU(inplace=True)\n",
              "    (36): MaxPool2d(kernel_size=2, stride=2, padding=0, dilation=1, ceil_mode=False)\n",
              "  )\n",
              "  (avgpool): AdaptiveAvgPool2d(output_size=(7, 7))\n",
              "  (classifier): Sequential(\n",
              "    (0): Dropout(p=0.5, inplace=False)\n",
              "    (1): Linear(in_features=512, out_features=4096, bias=True)\n",
              "    (2): ReLU()\n",
              "    (3): Dropout(p=0.5, inplace=False)\n",
              "    (4): Linear(in_features=4096, out_features=4096, bias=True)\n",
              "    (5): ReLU()\n",
              "    (6): Linear(in_features=4096, out_features=2, bias=True)\n",
              "  )\n",
              ")"
            ]
          },
          "metadata": {},
          "execution_count": 33
        }
      ]
    },
    {
      "cell_type": "code",
      "source": [
        "%reset -f\n"
      ],
      "metadata": {
        "id": "OBz1ueF9DDID"
      },
      "execution_count": null,
      "outputs": []
    },
    {
      "cell_type": "code",
      "source": [
        "import torch\n",
        "torch.cuda.empty_cache()\n",
        "torch.cuda.ipc_collect()\n"
      ],
      "metadata": {
        "id": "pFKHDIdgDoMX"
      },
      "execution_count": null,
      "outputs": []
    },
    {
      "cell_type": "markdown",
      "source": [
        "\n",
        "\n",
        "> **Note:** Training VGG19 from scratch on cifar10 dataset which results ***60% ***accuracy on training and ***58%*** on testing. After that Fine tuning VGG19 pre-trained model for detecting pneumonia on Chest X-Ray Images (Pneumonia) dataset, achieving accuracy of ***98%*** and ***82%***, on training and testing, respectively.\n",
        "\n",
        "\n"
      ],
      "metadata": {
        "id": "Gl3Vqamcnw74"
      }
    },
    {
      "cell_type": "code",
      "source": [],
      "metadata": {
        "id": "xX7i6MGmDw93"
      },
      "execution_count": null,
      "outputs": []
    }
  ]
}