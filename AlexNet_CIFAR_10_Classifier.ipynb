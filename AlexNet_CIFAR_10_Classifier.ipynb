{
  "cells": [
    {
      "cell_type": "markdown",
      "metadata": {
        "id": "4j5wa7AsROOS"
      },
      "source": [
        "## 1. Import Libraries"
      ]
    },
    {
      "cell_type": "code",
      "source": [
        "!git clone https://github.com/tayfunai/CNN-BASED-CLASSIFICATION-MODELS.git"
      ],
      "metadata": {
        "id": "_E5ZkJP6rKqI",
        "outputId": "ef4e8249-2b6f-4f78-9710-f93616bab4c2",
        "colab": {
          "base_uri": "https://localhost:8080/"
        }
      },
      "execution_count": 2,
      "outputs": [
        {
          "output_type": "stream",
          "name": "stdout",
          "text": [
            "fatal: destination path 'CNN-BASED-CLASSIFICATION-MODELS' already exists and is not an empty directory.\n"
          ]
        }
      ]
    },
    {
      "cell_type": "code",
      "execution_count": 3,
      "metadata": {
        "id": "1P6n6CkBRBur"
      },
      "outputs": [],
      "source": [
        "import os\n",
        "import time\n",
        "import random\n",
        "\n",
        "import numpy as np\n",
        "import pandas as pd\n",
        "\n",
        "import torch\n",
        "import torch.nn as nn\n",
        "import torch.nn.functional as F\n",
        "from torch.utils.data import DataLoader\n",
        "from torch.utils.data.dataset import Subset\n",
        "\n",
        "from torchvision import datasets\n",
        "from torchvision import transforms\n",
        "\n",
        "import matplotlib.pyplot as plt\n",
        "from PIL import Image\n"
      ]
    },
    {
      "cell_type": "code",
      "execution_count": 4,
      "metadata": {
        "id": "qlBRyLdjRxpa"
      },
      "outputs": [],
      "source": [
        "\"\"\"In order force cuDNN to onyl use deterministic\n",
        "algorithms which might be useful to produce\n",
        "reproducible results we need following code\"\"\"\n",
        "\n",
        "if torch.cuda.is_available():\n",
        "  torch.backends.cudnn.deterministic = True"
      ]
    },
    {
      "cell_type": "markdown",
      "metadata": {
        "id": "zLk-CDATSipS"
      },
      "source": [
        "## 2. Model settings"
      ]
    },
    {
      "cell_type": "code",
      "execution_count": 5,
      "metadata": {
        "id": "wNe2ISQuSciF"
      },
      "outputs": [],
      "source": [
        "# Setting a random seed\n",
        "def set_all_seeds(seed):\n",
        "  os.environ[\"PL_GLOBAL_SEED\"] = str(seed)\n",
        "  random.seed(seed)\n",
        "  np.random.seed(seed)\n",
        "  torch.manual_seed(seed)\n",
        "  torch.cuda.manual_seed(seed)"
      ]
    },
    {
      "cell_type": "code",
      "execution_count": 6,
      "metadata": {
        "id": "lUyWFb43TL8h"
      },
      "outputs": [],
      "source": [
        "# Setting cuDNN and PyTorch algorithmic behavior to deterministic\n",
        "def set_deterministic():\n",
        "  if torch.cuda_is_available():\n",
        "    torch.backends.cudnn.benchmark = False\n",
        "    torch.backends.cudnn.deterministic = True\n",
        "  torch.set_deterministic(True)"
      ]
    },
    {
      "cell_type": "code",
      "execution_count": 7,
      "metadata": {
        "id": "_Se7TTBrUx8Y"
      },
      "outputs": [],
      "source": [
        "#### SETTINGS ####\n",
        "\n",
        "# Hyperparameters\n",
        "RANDOM_SEED = 1\n",
        "LEARNING_RATE = 0.0001\n",
        "BATCH_SIZE = 256\n",
        "NUM_EPOCHS = 40\n",
        "\n",
        "# Architecture\n",
        "NUM_CLASSES=10\n",
        "\n",
        "#Other\n",
        "DEVICE = \"cuda\" if torch.cuda.is_available else \"cpu\"\n",
        "\n",
        "set_all_seeds(RANDOM_SEED)"
      ]
    },
    {
      "cell_type": "code",
      "execution_count": 8,
      "metadata": {
        "id": "P2s1OeBBV6SR"
      },
      "outputs": [],
      "source": [
        "# Deterministic behavior not yet supported by AdaptiveAvgPool2d\n",
        "#set_deterministic()\n"
      ]
    },
    {
      "cell_type": "markdown",
      "metadata": {
        "id": "I_XssaqPV8wk"
      },
      "source": [
        "## 3. Import utility functions"
      ]
    },
    {
      "cell_type": "code",
      "execution_count": 9,
      "metadata": {
        "id": "KGLJlElkV7n1"
      },
      "outputs": [],
      "source": [
        "import sys\n",
        "\n",
        "# In order to import modules from a directory one level up.\n",
        "\n",
        "sys.path.append('/content/CNN-BASED-CLASSIFICATION-MODELS/helper_functions')\n",
        "sys.path.insert(0, \"..\")\n"
      ]
    },
    {
      "cell_type": "code",
      "execution_count": 10,
      "metadata": {
        "id": "BaYA9Jruhf5I"
      },
      "outputs": [],
      "source": [
        "from helper_evaluate import compute_accuracy, compute_epoch_loss\n",
        "\n",
        "from helper_data import *\n",
        "\n",
        "from helper_train import *\n",
        "\n"
      ]
    },
    {
      "cell_type": "markdown",
      "metadata": {
        "id": "xO1prwxOCId6"
      },
      "source": [
        "## 4. Dataset"
      ]
    },
    {
      "cell_type": "code",
      "execution_count": 11,
      "metadata": {
        "id": "MRBQ5-WiEVTU",
        "outputId": "09ed802f-8205-4cc2-fab1-b40f875a4eb3",
        "colab": {
          "base_uri": "https://localhost:8080/"
        }
      },
      "outputs": [
        {
          "output_type": "stream",
          "name": "stdout",
          "text": [
            "Requirement already satisfied: tqdm in /usr/local/lib/python3.11/dist-packages (4.67.1)\n"
          ]
        }
      ],
      "source": [
        "!pip install tqdm"
      ]
    },
    {
      "cell_type": "code",
      "execution_count": 12,
      "metadata": {
        "id": "slQrBxYICQHl",
        "outputId": "5276cb60-934f-49ae-edb8-5eea8b7edf1a",
        "colab": {
          "base_uri": "https://localhost:8080/"
        }
      },
      "outputs": [
        {
          "output_type": "stream",
          "name": "stderr",
          "text": [
            "100%|██████████| 170M/170M [00:03<00:00, 47.4MB/s]\n"
          ]
        }
      ],
      "source": [
        "## Set random seed##\n",
        "set_all_seeds(RANDOM_SEED)\n",
        "\n",
        "### Dataset ###\n",
        "\n",
        "train_transforms = transforms.Compose([\n",
        "    transforms.Resize((70,70)),\n",
        "    transforms.RandomCrop((64, 64)),\n",
        "    transforms.ToTensor()\n",
        "])\n",
        "\n",
        "test_transforms = transforms.Compose([\n",
        "    transforms.Resize((70,70)),\n",
        "    transforms.CenterCrop((64, 64)),\n",
        "    transforms.ToTensor()\n",
        "])\n",
        "\n",
        "train_loader, valid_loader, test_loader = get_dataloaders_cifar10(\n",
        "    batch_size=BATCH_SIZE,\n",
        "    num_workers=2,\n",
        "    train_transforms=train_transforms,\n",
        "    test_transforms=test_transforms,\n",
        "    validation_fraction=0.1\n",
        ")"
      ]
    },
    {
      "cell_type": "code",
      "execution_count": 13,
      "metadata": {
        "id": "7pSDwZDkDKEH",
        "outputId": "0588ffb5-c438-46f7-e4f9-5347429ab8ba",
        "colab": {
          "base_uri": "https://localhost:8080/"
        }
      },
      "outputs": [
        {
          "output_type": "stream",
          "name": "stdout",
          "text": [
            "Training set:\n",
            "\n",
            "Image batch demensions: torch.Size([256, 3, 64, 64])\n",
            "Image label dimensions: torch.Size([256])\n",
            "tensor([0, 2, 3, 5, 4, 8, 9, 6, 9, 7])\n",
            "\n",
            "Validation set:\n",
            "Image batch demensions: torch.Size([256, 3, 64, 64])\n",
            "Image label dimensions: torch.Size([256])\n",
            "tensor([6, 9, 3, 5, 7, 3, 4, 1, 8, 0])\n",
            "\n",
            "Testing set:\n",
            "Image batch demensions: torch.Size([256, 3, 64, 64])\n",
            "Image label dimensions: torch.Size([256])\n",
            "tensor([3, 8, 8, 0, 6, 6, 1, 6, 3, 1])\n"
          ]
        }
      ],
      "source": [
        "# Checking the dataset\n",
        "print(f\"Training set:\\n\")\n",
        "for images, labels in train_loader:\n",
        "  print(f\"Image batch demensions: {images.size()}\")\n",
        "  print(f\"Image label dimensions: {labels.size()}\")\n",
        "  print(labels[:10])\n",
        "  break\n",
        "\n",
        "# Checking the validation set\n",
        "print(f\"\\nValidation set:\")\n",
        "for images, labels in valid_loader:\n",
        "  print(f\"Image batch demensions: {images.size()}\")\n",
        "  print(f\"Image label dimensions: {labels.size()}\")\n",
        "  print(labels[:10])\n",
        "  break\n",
        "\n",
        "# Checking the testing set\n",
        "print(f\"\\nTesting set:\")\n",
        "for images, labels in test_loader:\n",
        "  print(f\"Image batch demensions: {images.size()}\")\n",
        "  print(f\"Image label dimensions: {labels.size()}\")\n",
        "  print(labels[:10])\n",
        "  break"
      ]
    },
    {
      "cell_type": "markdown",
      "metadata": {
        "id": "pdbDLKuUGjWU"
      },
      "source": [
        "## 5. Model"
      ]
    },
    {
      "cell_type": "code",
      "execution_count": 14,
      "metadata": {
        "id": "wgZ-tsHuJO9d"
      },
      "outputs": [],
      "source": [
        "### MODEL ###\n",
        "\n",
        "class AlexNet(nn.Module):\n",
        "  def __init__(self, num_classes):\n",
        "    super(AlexNet, self).__init__()\n",
        "    self.features = nn.Sequential(\n",
        "      nn.Conv2d(3, 64, kernel_size=11, stride=4, padding=2),\n",
        "      nn.ReLU(inplace=True),\n",
        "      nn.MaxPool2d(kernel_size=3, stride=2),\n",
        "\n",
        "      nn.Conv2d(64, 192, kernel_size=5, padding=2, groups=2),\n",
        "      nn.ReLU(inplace=True),\n",
        "      nn.MaxPool2d(kernel_size=3, stride=2),\n",
        "\n",
        "      nn.Conv2d(192, 384, kernel_size=3, padding=1, groups=2),\n",
        "      nn.ReLU(inplace=True),\n",
        "\n",
        "      nn.Conv2d(384, 256, kernel_size=3, padding=1, groups=2),\n",
        "      nn.ReLU(inplace=True),\n",
        "\n",
        "      nn.Conv2d(256, 256, kernel_size=3, padding=1, groups=2),\n",
        "      nn.ReLU(inplace=True),\n",
        "      nn.MaxPool2d(kernel_size=3, stride=2),\n",
        "    )\n",
        "    self.avgpool = nn.AdaptiveAvgPool2d((6, 6))\n",
        "    self.classifier = nn.Sequential(\n",
        "        nn.Dropout(0.5),\n",
        "        nn.Linear(256*6*6, 4096),\n",
        "        nn.ReLU(inplace=True),\n",
        "        nn.Dropout(0.5),\n",
        "        nn.Linear(4096, 4096),\n",
        "        nn.ReLU(inplace=True),\n",
        "        nn.Linear(4096, num_classes),\n",
        "    )\n",
        "\n",
        "  def forward(self, x):\n",
        "    x = self.features(x)\n",
        "    x = self.avgpool(x)\n",
        "    x = x.view(x.size(0), 256*6*6)\n",
        "    logits = self.classifier(x)\n",
        "    probas = F.softmax(logits, dim=1)\n",
        "    return logits"
      ]
    },
    {
      "cell_type": "code",
      "execution_count": 15,
      "metadata": {
        "id": "YstKF2dAMfae"
      },
      "outputs": [],
      "source": [
        "torch.manual_seed(RANDOM_SEED)\n",
        "model = AlexNet(NUM_CLASSES)\n",
        "model = model.to(DEVICE)\n",
        "\n",
        "optimizer = torch.optim.Adam(model.parameters(), lr=LEARNING_RATE)"
      ]
    },
    {
      "cell_type": "markdown",
      "source": [
        "## 6. Model training"
      ],
      "metadata": {
        "id": "98Qrl1YlsTpw"
      }
    },
    {
      "cell_type": "code",
      "execution_count": 16,
      "metadata": {
        "id": "IChyTU2qM0Lh",
        "outputId": "243c7297-0e41-4fc7-c092-fb25ed7ba5b9",
        "colab": {
          "base_uri": "https://localhost:8080/"
        }
      },
      "outputs": [
        {
          "output_type": "stream",
          "name": "stdout",
          "text": [
            "Epoch: 001/040 | Batch 0000/0175 | Loss: 2.3021\n",
            "Epoch: 001/040 | Batch 0050/0175 | Loss: 2.0480\n",
            "Epoch: 001/040 | Batch 0100/0175 | Loss: 1.8982\n",
            "Epoch: 001/040 | Batch 0150/0175 | Loss: 1.8795\n",
            "***Epoch: 001/040 | Train. Acc.: 32.475% | Loss: 1.747\n",
            "***Epoch: 001/040 | Valid. Acc.: 32.960% | Loss: 1.721\n",
            "Time elapsed: 1.05 min\n",
            "Epoch: 002/040 | Batch 0000/0175 | Loss: 1.7125\n",
            "Epoch: 002/040 | Batch 0050/0175 | Loss: 1.7453\n",
            "Epoch: 002/040 | Batch 0100/0175 | Loss: 1.6499\n",
            "Epoch: 002/040 | Batch 0150/0175 | Loss: 1.5325\n",
            "***Epoch: 002/040 | Train. Acc.: 38.763% | Loss: 1.619\n",
            "***Epoch: 002/040 | Valid. Acc.: 39.520% | Loss: 1.600\n",
            "Time elapsed: 2.02 min\n",
            "Epoch: 003/040 | Batch 0000/0175 | Loss: 1.5716\n",
            "Epoch: 003/040 | Batch 0050/0175 | Loss: 1.5725\n",
            "Epoch: 003/040 | Batch 0100/0175 | Loss: 1.5213\n",
            "Epoch: 003/040 | Batch 0150/0175 | Loss: 1.2828\n",
            "***Epoch: 003/040 | Train. Acc.: 46.596% | Loss: 1.422\n",
            "***Epoch: 003/040 | Valid. Acc.: 46.360% | Loss: 1.417\n",
            "Time elapsed: 2.95 min\n",
            "Epoch: 004/040 | Batch 0000/0175 | Loss: 1.4055\n",
            "Epoch: 004/040 | Batch 0050/0175 | Loss: 1.3956\n",
            "Epoch: 004/040 | Batch 0100/0175 | Loss: 1.4107\n",
            "Epoch: 004/040 | Batch 0150/0175 | Loss: 1.3924\n",
            "***Epoch: 004/040 | Train. Acc.: 51.176% | Loss: 1.319\n",
            "***Epoch: 004/040 | Valid. Acc.: 51.500% | Loss: 1.315\n",
            "Time elapsed: 3.90 min\n",
            "Epoch: 005/040 | Batch 0000/0175 | Loss: 1.2586\n",
            "Epoch: 005/040 | Batch 0050/0175 | Loss: 1.2502\n",
            "Epoch: 005/040 | Batch 0100/0175 | Loss: 1.2522\n",
            "Epoch: 005/040 | Batch 0150/0175 | Loss: 1.2975\n",
            "***Epoch: 005/040 | Train. Acc.: 53.603% | Loss: 1.257\n",
            "***Epoch: 005/040 | Valid. Acc.: 54.400% | Loss: 1.239\n",
            "Time elapsed: 4.83 min\n",
            "Epoch: 006/040 | Batch 0000/0175 | Loss: 1.2867\n",
            "Epoch: 006/040 | Batch 0050/0175 | Loss: 1.3094\n",
            "Epoch: 006/040 | Batch 0100/0175 | Loss: 1.2424\n",
            "Epoch: 006/040 | Batch 0150/0175 | Loss: 1.1187\n",
            "***Epoch: 006/040 | Train. Acc.: 57.366% | Loss: 1.156\n",
            "***Epoch: 006/040 | Valid. Acc.: 57.820% | Loss: 1.161\n",
            "Time elapsed: 5.77 min\n",
            "Epoch: 007/040 | Batch 0000/0175 | Loss: 1.1045\n",
            "Epoch: 007/040 | Batch 0050/0175 | Loss: 1.1792\n",
            "Epoch: 007/040 | Batch 0100/0175 | Loss: 1.1826\n",
            "Epoch: 007/040 | Batch 0150/0175 | Loss: 1.3284\n",
            "***Epoch: 007/040 | Train. Acc.: 60.223% | Loss: 1.104\n",
            "***Epoch: 007/040 | Valid. Acc.: 60.300% | Loss: 1.105\n",
            "Time elapsed: 6.73 min\n",
            "Epoch: 008/040 | Batch 0000/0175 | Loss: 1.0489\n",
            "Epoch: 008/040 | Batch 0050/0175 | Loss: 1.1198\n",
            "Epoch: 008/040 | Batch 0100/0175 | Loss: 1.0614\n",
            "Epoch: 008/040 | Batch 0150/0175 | Loss: 1.1003\n",
            "***Epoch: 008/040 | Train. Acc.: 58.946% | Loss: 1.148\n",
            "***Epoch: 008/040 | Valid. Acc.: 58.440% | Loss: 1.167\n",
            "Time elapsed: 7.66 min\n",
            "Epoch: 009/040 | Batch 0000/0175 | Loss: 1.2189\n",
            "Epoch: 009/040 | Batch 0050/0175 | Loss: 1.0997\n",
            "Epoch: 009/040 | Batch 0100/0175 | Loss: 1.1365\n",
            "Epoch: 009/040 | Batch 0150/0175 | Loss: 1.0085\n",
            "***Epoch: 009/040 | Train. Acc.: 60.920% | Loss: 1.080\n",
            "***Epoch: 009/040 | Valid. Acc.: 59.860% | Loss: 1.103\n",
            "Time elapsed: 8.62 min\n",
            "Epoch: 010/040 | Batch 0000/0175 | Loss: 1.0669\n",
            "Epoch: 010/040 | Batch 0050/0175 | Loss: 1.0401\n",
            "Epoch: 010/040 | Batch 0100/0175 | Loss: 0.9908\n",
            "Epoch: 010/040 | Batch 0150/0175 | Loss: 1.1815\n",
            "***Epoch: 010/040 | Train. Acc.: 65.281% | Loss: 0.970\n",
            "***Epoch: 010/040 | Valid. Acc.: 63.660% | Loss: 1.018\n",
            "Time elapsed: 9.55 min\n",
            "Epoch: 011/040 | Batch 0000/0175 | Loss: 1.0423\n",
            "Epoch: 011/040 | Batch 0050/0175 | Loss: 1.0169\n",
            "Epoch: 011/040 | Batch 0100/0175 | Loss: 0.9332\n",
            "Epoch: 011/040 | Batch 0150/0175 | Loss: 1.0105\n",
            "***Epoch: 011/040 | Train. Acc.: 66.513% | Loss: 0.933\n",
            "***Epoch: 011/040 | Valid. Acc.: 64.500% | Loss: 0.985\n",
            "Time elapsed: 10.51 min\n",
            "Epoch: 012/040 | Batch 0000/0175 | Loss: 1.0126\n",
            "Epoch: 012/040 | Batch 0050/0175 | Loss: 1.0526\n",
            "Epoch: 012/040 | Batch 0100/0175 | Loss: 0.8932\n",
            "Epoch: 012/040 | Batch 0150/0175 | Loss: 0.9465\n",
            "***Epoch: 012/040 | Train. Acc.: 67.060% | Loss: 0.914\n",
            "***Epoch: 012/040 | Valid. Acc.: 65.160% | Loss: 0.986\n",
            "Time elapsed: 11.44 min\n",
            "Epoch: 013/040 | Batch 0000/0175 | Loss: 0.9247\n",
            "Epoch: 013/040 | Batch 0050/0175 | Loss: 0.9035\n",
            "Epoch: 013/040 | Batch 0100/0175 | Loss: 1.0193\n",
            "Epoch: 013/040 | Batch 0150/0175 | Loss: 0.9979\n",
            "***Epoch: 013/040 | Train. Acc.: 69.078% | Loss: 0.862\n",
            "***Epoch: 013/040 | Valid. Acc.: 66.400% | Loss: 0.933\n",
            "Time elapsed: 12.39 min\n",
            "Epoch: 014/040 | Batch 0000/0175 | Loss: 0.8316\n",
            "Epoch: 014/040 | Batch 0050/0175 | Loss: 0.9347\n",
            "Epoch: 014/040 | Batch 0100/0175 | Loss: 0.8793\n",
            "Epoch: 014/040 | Batch 0150/0175 | Loss: 0.8796\n",
            "***Epoch: 014/040 | Train. Acc.: 69.574% | Loss: 0.853\n",
            "***Epoch: 014/040 | Valid. Acc.: 65.880% | Loss: 0.951\n",
            "Time elapsed: 13.33 min\n",
            "Epoch: 015/040 | Batch 0000/0175 | Loss: 0.9573\n",
            "Epoch: 015/040 | Batch 0050/0175 | Loss: 0.8495\n",
            "Epoch: 015/040 | Batch 0100/0175 | Loss: 0.7674\n",
            "Epoch: 015/040 | Batch 0150/0175 | Loss: 0.7882\n",
            "***Epoch: 015/040 | Train. Acc.: 69.384% | Loss: 0.848\n",
            "***Epoch: 015/040 | Valid. Acc.: 65.920% | Loss: 0.957\n",
            "Time elapsed: 14.27 min\n",
            "Epoch: 016/040 | Batch 0000/0175 | Loss: 0.9139\n",
            "Epoch: 016/040 | Batch 0050/0175 | Loss: 0.9347\n",
            "Epoch: 016/040 | Batch 0100/0175 | Loss: 0.8350\n",
            "Epoch: 016/040 | Batch 0150/0175 | Loss: 0.8327\n",
            "***Epoch: 016/040 | Train. Acc.: 68.379% | Loss: 0.884\n",
            "***Epoch: 016/040 | Valid. Acc.: 65.120% | Loss: 0.989\n",
            "Time elapsed: 15.21 min\n",
            "Epoch: 017/040 | Batch 0000/0175 | Loss: 0.9490\n",
            "Epoch: 017/040 | Batch 0050/0175 | Loss: 0.8851\n",
            "Epoch: 017/040 | Batch 0100/0175 | Loss: 0.7905\n",
            "Epoch: 017/040 | Batch 0150/0175 | Loss: 0.9588\n",
            "***Epoch: 017/040 | Train. Acc.: 72.315% | Loss: 0.786\n",
            "***Epoch: 017/040 | Valid. Acc.: 67.320% | Loss: 0.945\n",
            "Time elapsed: 16.15 min\n",
            "Epoch: 018/040 | Batch 0000/0175 | Loss: 0.7462\n",
            "Epoch: 018/040 | Batch 0050/0175 | Loss: 0.8336\n",
            "Epoch: 018/040 | Batch 0100/0175 | Loss: 0.8866\n",
            "Epoch: 018/040 | Batch 0150/0175 | Loss: 0.8811\n",
            "***Epoch: 018/040 | Train. Acc.: 74.574% | Loss: 0.725\n",
            "***Epoch: 018/040 | Valid. Acc.: 69.920% | Loss: 0.860\n",
            "Time elapsed: 17.08 min\n",
            "Epoch: 019/040 | Batch 0000/0175 | Loss: 0.7573\n",
            "Epoch: 019/040 | Batch 0050/0175 | Loss: 0.7653\n",
            "Epoch: 019/040 | Batch 0100/0175 | Loss: 0.8192\n",
            "Epoch: 019/040 | Batch 0150/0175 | Loss: 0.7964\n",
            "***Epoch: 019/040 | Train. Acc.: 75.574% | Loss: 0.691\n",
            "***Epoch: 019/040 | Valid. Acc.: 70.080% | Loss: 0.856\n",
            "Time elapsed: 18.03 min\n",
            "Epoch: 020/040 | Batch 0000/0175 | Loss: 0.6761\n",
            "Epoch: 020/040 | Batch 0050/0175 | Loss: 0.7926\n",
            "Epoch: 020/040 | Batch 0100/0175 | Loss: 0.6946\n",
            "Epoch: 020/040 | Batch 0150/0175 | Loss: 0.7841\n",
            "***Epoch: 020/040 | Train. Acc.: 76.404% | Loss: 0.669\n",
            "***Epoch: 020/040 | Valid. Acc.: 70.320% | Loss: 0.858\n",
            "Time elapsed: 18.98 min\n",
            "Epoch: 021/040 | Batch 0000/0175 | Loss: 0.6684\n",
            "Epoch: 021/040 | Batch 0050/0175 | Loss: 0.7124\n",
            "Epoch: 021/040 | Batch 0100/0175 | Loss: 0.6897\n",
            "Epoch: 021/040 | Batch 0150/0175 | Loss: 0.7733\n",
            "***Epoch: 021/040 | Train. Acc.: 75.908% | Loss: 0.684\n",
            "***Epoch: 021/040 | Valid. Acc.: 70.120% | Loss: 0.876\n",
            "Time elapsed: 19.94 min\n",
            "Epoch: 022/040 | Batch 0000/0175 | Loss: 0.7160\n",
            "Epoch: 022/040 | Batch 0050/0175 | Loss: 0.6002\n",
            "Epoch: 022/040 | Batch 0100/0175 | Loss: 0.6598\n",
            "Epoch: 022/040 | Batch 0150/0175 | Loss: 0.7118\n",
            "***Epoch: 022/040 | Train. Acc.: 77.404% | Loss: 0.640\n",
            "***Epoch: 022/040 | Valid. Acc.: 71.220% | Loss: 0.855\n",
            "Time elapsed: 20.88 min\n",
            "Epoch: 023/040 | Batch 0000/0175 | Loss: 0.6528\n",
            "Epoch: 023/040 | Batch 0050/0175 | Loss: 0.5482\n",
            "Epoch: 023/040 | Batch 0100/0175 | Loss: 0.7907\n",
            "Epoch: 023/040 | Batch 0150/0175 | Loss: 0.6862\n",
            "***Epoch: 023/040 | Train. Acc.: 78.690% | Loss: 0.599\n",
            "***Epoch: 023/040 | Valid. Acc.: 71.740% | Loss: 0.839\n",
            "Time elapsed: 21.81 min\n",
            "Epoch: 024/040 | Batch 0000/0175 | Loss: 0.5483\n",
            "Epoch: 024/040 | Batch 0050/0175 | Loss: 0.7715\n",
            "Epoch: 024/040 | Batch 0100/0175 | Loss: 0.5543\n",
            "Epoch: 024/040 | Batch 0150/0175 | Loss: 0.6515\n",
            "***Epoch: 024/040 | Train. Acc.: 80.038% | Loss: 0.573\n",
            "***Epoch: 024/040 | Valid. Acc.: 71.740% | Loss: 0.827\n",
            "Time elapsed: 22.76 min\n",
            "Epoch: 025/040 | Batch 0000/0175 | Loss: 0.6824\n",
            "Epoch: 025/040 | Batch 0050/0175 | Loss: 0.5973\n",
            "Epoch: 025/040 | Batch 0100/0175 | Loss: 0.5757\n",
            "Epoch: 025/040 | Batch 0150/0175 | Loss: 0.6606\n",
            "***Epoch: 025/040 | Train. Acc.: 80.025% | Loss: 0.569\n",
            "***Epoch: 025/040 | Valid. Acc.: 71.460% | Loss: 0.841\n",
            "Time elapsed: 23.70 min\n",
            "Epoch: 026/040 | Batch 0000/0175 | Loss: 0.6189\n",
            "Epoch: 026/040 | Batch 0050/0175 | Loss: 0.5613\n",
            "Epoch: 026/040 | Batch 0100/0175 | Loss: 0.6732\n",
            "Epoch: 026/040 | Batch 0150/0175 | Loss: 0.5096\n",
            "***Epoch: 026/040 | Train. Acc.: 81.565% | Loss: 0.530\n",
            "***Epoch: 026/040 | Valid. Acc.: 72.540% | Loss: 0.839\n",
            "Time elapsed: 24.65 min\n",
            "Epoch: 027/040 | Batch 0000/0175 | Loss: 0.5198\n",
            "Epoch: 027/040 | Batch 0050/0175 | Loss: 0.5396\n",
            "Epoch: 027/040 | Batch 0100/0175 | Loss: 0.5853\n",
            "Epoch: 027/040 | Batch 0150/0175 | Loss: 0.5150\n",
            "***Epoch: 027/040 | Train. Acc.: 78.571% | Loss: 0.603\n",
            "***Epoch: 027/040 | Valid. Acc.: 69.520% | Loss: 0.913\n",
            "Time elapsed: 25.57 min\n",
            "Epoch: 028/040 | Batch 0000/0175 | Loss: 0.5625\n",
            "Epoch: 028/040 | Batch 0050/0175 | Loss: 0.5631\n",
            "Epoch: 028/040 | Batch 0100/0175 | Loss: 0.5993\n",
            "Epoch: 028/040 | Batch 0150/0175 | Loss: 0.5365\n",
            "***Epoch: 028/040 | Train. Acc.: 83.083% | Loss: 0.485\n",
            "***Epoch: 028/040 | Valid. Acc.: 72.080% | Loss: 0.836\n",
            "Time elapsed: 26.51 min\n",
            "Epoch: 029/040 | Batch 0000/0175 | Loss: 0.5502\n",
            "Epoch: 029/040 | Batch 0050/0175 | Loss: 0.5800\n",
            "Epoch: 029/040 | Batch 0100/0175 | Loss: 0.5333\n",
            "Epoch: 029/040 | Batch 0150/0175 | Loss: 0.4023\n",
            "***Epoch: 029/040 | Train. Acc.: 81.228% | Loss: 0.523\n",
            "***Epoch: 029/040 | Valid. Acc.: 70.360% | Loss: 0.895\n",
            "Time elapsed: 27.45 min\n",
            "Epoch: 030/040 | Batch 0000/0175 | Loss: 0.5847\n",
            "Epoch: 030/040 | Batch 0050/0175 | Loss: 0.5240\n",
            "Epoch: 030/040 | Batch 0100/0175 | Loss: 0.5064\n",
            "Epoch: 030/040 | Batch 0150/0175 | Loss: 0.6826\n",
            "***Epoch: 030/040 | Train. Acc.: 83.618% | Loss: 0.465\n",
            "***Epoch: 030/040 | Valid. Acc.: 71.580% | Loss: 0.868\n",
            "Time elapsed: 28.38 min\n",
            "Epoch: 031/040 | Batch 0000/0175 | Loss: 0.4322\n",
            "Epoch: 031/040 | Batch 0050/0175 | Loss: 0.4508\n",
            "Epoch: 031/040 | Batch 0100/0175 | Loss: 0.5110\n",
            "Epoch: 031/040 | Batch 0150/0175 | Loss: 0.5212\n",
            "***Epoch: 031/040 | Train. Acc.: 82.549% | Loss: 0.496\n",
            "***Epoch: 031/040 | Valid. Acc.: 69.960% | Loss: 0.922\n",
            "Time elapsed: 29.32 min\n",
            "Epoch: 032/040 | Batch 0000/0175 | Loss: 0.4504\n",
            "Epoch: 032/040 | Batch 0050/0175 | Loss: 0.4150\n",
            "Epoch: 032/040 | Batch 0100/0175 | Loss: 0.4800\n",
            "Epoch: 032/040 | Batch 0150/0175 | Loss: 0.4556\n",
            "***Epoch: 032/040 | Train. Acc.: 83.154% | Loss: 0.478\n",
            "***Epoch: 032/040 | Valid. Acc.: 70.880% | Loss: 0.933\n",
            "Time elapsed: 30.25 min\n",
            "Epoch: 033/040 | Batch 0000/0175 | Loss: 0.4572\n",
            "Epoch: 033/040 | Batch 0050/0175 | Loss: 0.4180\n",
            "Epoch: 033/040 | Batch 0100/0175 | Loss: 0.4068\n",
            "Epoch: 033/040 | Batch 0150/0175 | Loss: 0.4016\n",
            "***Epoch: 033/040 | Train. Acc.: 85.449% | Loss: 0.420\n",
            "***Epoch: 033/040 | Valid. Acc.: 72.440% | Loss: 0.877\n",
            "Time elapsed: 31.20 min\n",
            "Epoch: 034/040 | Batch 0000/0175 | Loss: 0.4920\n",
            "Epoch: 034/040 | Batch 0050/0175 | Loss: 0.5348\n",
            "Epoch: 034/040 | Batch 0100/0175 | Loss: 0.5530\n",
            "Epoch: 034/040 | Batch 0150/0175 | Loss: 0.4086\n",
            "***Epoch: 034/040 | Train. Acc.: 85.085% | Loss: 0.434\n",
            "***Epoch: 034/040 | Valid. Acc.: 71.180% | Loss: 0.943\n",
            "Time elapsed: 32.13 min\n",
            "Epoch: 035/040 | Batch 0000/0175 | Loss: 0.5120\n",
            "Epoch: 035/040 | Batch 0050/0175 | Loss: 0.4967\n",
            "Epoch: 035/040 | Batch 0100/0175 | Loss: 0.4826\n",
            "Epoch: 035/040 | Batch 0150/0175 | Loss: 0.3779\n",
            "***Epoch: 035/040 | Train. Acc.: 87.721% | Loss: 0.356\n",
            "***Epoch: 035/040 | Valid. Acc.: 73.520% | Loss: 0.862\n",
            "Time elapsed: 33.07 min\n",
            "Epoch: 036/040 | Batch 0000/0175 | Loss: 0.3694\n",
            "Epoch: 036/040 | Batch 0050/0175 | Loss: 0.3738\n",
            "Epoch: 036/040 | Batch 0100/0175 | Loss: 0.5635\n",
            "Epoch: 036/040 | Batch 0150/0175 | Loss: 0.4236\n",
            "***Epoch: 036/040 | Train. Acc.: 87.504% | Loss: 0.362\n",
            "***Epoch: 036/040 | Valid. Acc.: 72.720% | Loss: 0.904\n",
            "Time elapsed: 34.03 min\n",
            "Epoch: 037/040 | Batch 0000/0175 | Loss: 0.5652\n",
            "Epoch: 037/040 | Batch 0050/0175 | Loss: 0.3387\n",
            "Epoch: 037/040 | Batch 0100/0175 | Loss: 0.3757\n",
            "Epoch: 037/040 | Batch 0150/0175 | Loss: 0.3743\n",
            "***Epoch: 037/040 | Train. Acc.: 88.792% | Loss: 0.321\n",
            "***Epoch: 037/040 | Valid. Acc.: 72.760% | Loss: 0.886\n",
            "Time elapsed: 34.96 min\n",
            "Epoch: 038/040 | Batch 0000/0175 | Loss: 0.3276\n",
            "Epoch: 038/040 | Batch 0050/0175 | Loss: 0.3521\n",
            "Epoch: 038/040 | Batch 0100/0175 | Loss: 0.3347\n",
            "Epoch: 038/040 | Batch 0150/0175 | Loss: 0.3724\n",
            "***Epoch: 038/040 | Train. Acc.: 88.487% | Loss: 0.329\n",
            "***Epoch: 038/040 | Valid. Acc.: 72.060% | Loss: 0.941\n",
            "Time elapsed: 35.93 min\n",
            "Epoch: 039/040 | Batch 0000/0175 | Loss: 0.3171\n",
            "Epoch: 039/040 | Batch 0050/0175 | Loss: 0.3091\n",
            "Epoch: 039/040 | Batch 0100/0175 | Loss: 0.3513\n",
            "Epoch: 039/040 | Batch 0150/0175 | Loss: 0.3587\n",
            "***Epoch: 039/040 | Train. Acc.: 89.558% | Loss: 0.304\n",
            "***Epoch: 039/040 | Valid. Acc.: 72.780% | Loss: 0.925\n",
            "Time elapsed: 36.86 min\n",
            "Epoch: 040/040 | Batch 0000/0175 | Loss: 0.3166\n",
            "Epoch: 040/040 | Batch 0050/0175 | Loss: 0.2822\n",
            "Epoch: 040/040 | Batch 0100/0175 | Loss: 0.2995\n",
            "Epoch: 040/040 | Batch 0150/0175 | Loss: 0.4219\n",
            "***Epoch: 040/040 | Train. Acc.: 90.315% | Loss: 0.280\n",
            "***Epoch: 040/040 | Valid. Acc.: 72.940% | Loss: 0.962\n",
            "Time elapsed: 37.82 min\n",
            "Total Training Time: 37.82 min\n"
          ]
        }
      ],
      "source": [
        "log_dict = train_classifier_simple_v1(num_epochs=NUM_EPOCHS,\n",
        "                                      model=model,\n",
        "                                      optimizer=optimizer,\n",
        "                                      device=DEVICE,\n",
        "                                      train_loader=train_loader,\n",
        "                                      valid_loader=valid_loader,\n",
        "                                      logging_interval=50)"
      ]
    },
    {
      "cell_type": "markdown",
      "source": [
        "## 7. Model Evaluation"
      ],
      "metadata": {
        "id": "VLopqd-E7tQS"
      }
    },
    {
      "cell_type": "code",
      "source": [
        "import matplotlib.pyplot as plt\n",
        "%matplotlib inline\n"
      ],
      "metadata": {
        "id": "84zm948KsqcK"
      },
      "execution_count": 17,
      "outputs": []
    },
    {
      "cell_type": "code",
      "source": [
        "loss_list = log_dict['train_loss_per_batch']\n",
        "\n",
        "plt.plot(loss_list, label='Minibatch loss')\n",
        "plt.plot(np.convolve(loss_list,\n",
        "                     np.ones(200,)/200, mode='valid'),\n",
        "         label='Running average')\n",
        "\n",
        "plt.ylabel('Cross Entropy')\n",
        "plt.xlabel('Iteration')\n",
        "plt.legend()\n",
        "plt.show()"
      ],
      "metadata": {
        "id": "gIoNuwWA7zke",
        "outputId": "7dc5750a-30d8-47db-b78f-d8c489464b8f",
        "colab": {
          "base_uri": "https://localhost:8080/",
          "height": 449
        }
      },
      "execution_count": 18,
      "outputs": [
        {
          "output_type": "display_data",
          "data": {
            "text/plain": [
              "<Figure size 640x480 with 1 Axes>"
            ],
            "image/png": "[encoded data removed]"
          },
          "metadata": {}
        }
      ]
    },
    {
      "cell_type": "code",
      "source": [
        "plt.plot(np.arange(1, NUM_EPOCHS+1), log_dict['train_acc_per_epoch'], label='Training')\n",
        "plt.plot(np.arange(1, NUM_EPOCHS+1), log_dict['valid_acc_per_epoch'], label='Validation')\n",
        "\n",
        "plt.xlabel('Epoch')\n",
        "plt.ylabel('Accuracy')\n",
        "plt.legend()\n",
        "plt.show()"
      ],
      "metadata": {
        "id": "O5p88P3z76zl",
        "outputId": "e01bc134-1cea-4bde-9a62-43f1fc1a84f1",
        "colab": {
          "base_uri": "https://localhost:8080/",
          "height": 449
        }
      },
      "execution_count": 19,
      "outputs": [
        {
          "output_type": "display_data",
          "data": {
            "text/plain": [
              "<Figure size 640x480 with 1 Axes>"
            ],
            "image/png": "[encoded data removed]"
          },
          "metadata": {}
        }
      ]
    },
    {
      "cell_type": "code",
      "source": [
        "with torch.set_grad_enabled(False):\n",
        "\n",
        "    train_acc = compute_accuracy(model=model,\n",
        "                                 data_loader=test_loader,\n",
        "                                 device=DEVICE)\n",
        "\n",
        "    test_acc = compute_accuracy(model=model,\n",
        "                                data_loader=test_loader,\n",
        "                                device=DEVICE)\n",
        "\n",
        "    valid_acc = compute_accuracy(model=model,\n",
        "                                 data_loader=valid_loader,\n",
        "                                 device=DEVICE)\n",
        "\n",
        "\n",
        "print(f'Train ACC: {valid_acc:.2f}%')\n",
        "print(f'Validation ACC: {valid_acc:.2f}%')\n",
        "print(f'Test ACC: {test_acc:.2f}%')\n"
      ],
      "metadata": {
        "id": "SHukQm74E2gv",
        "outputId": "91c36840-3a6f-4b59-b48f-ff731fe2aa73",
        "colab": {
          "base_uri": "https://localhost:8080/"
        }
      },
      "execution_count": 20,
      "outputs": [
        {
          "output_type": "stream",
          "name": "stdout",
          "text": [
            "Train ACC: 72.94%\n",
            "Validation ACC: 72.94%\n",
            "Test ACC: 71.61%\n"
          ]
        }
      ]
    },
    {
      "cell_type": "code",
      "source": [],
      "metadata": {
        "id": "0ZosB9PTE8A6"
      },
      "execution_count": 20,
      "outputs": []
    }
  ],
  "metadata": {
    "accelerator": "GPU",
    "colab": {
      "gpuType": "T4",
      "provenance": []
    },
    "kernelspec": {
      "display_name": "Python 3",
      "name": "python3"
    },
    "language_info": {
      "codemirror_mode": {
        "name": "ipython",
        "version": 3
      },
      "file_extension": ".py",
      "mimetype": "text/x-python",
      "name": "python",
      "nbconvert_exporter": "python",
      "pygments_lexer": "ipython3",
      "version": "3.12.7"
    }
  },
  "nbformat": 4,
  "nbformat_minor": 0
}